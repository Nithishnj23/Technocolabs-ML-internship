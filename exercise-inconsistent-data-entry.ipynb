{
 "cells": [
  {
   "cell_type": "markdown",
   "id": "786df584",
   "metadata": {
    "papermill": {
     "duration": 0.008923,
     "end_time": "2022-05-26T07:21:46.735881",
     "exception": false,
     "start_time": "2022-05-26T07:21:46.726958",
     "status": "completed"
    },
    "tags": []
   },
   "source": [
    "**This notebook is an exercise in the [Data Cleaning](https://www.kaggle.com/learn/data-cleaning) course.  You can reference the tutorial at [this link](https://www.kaggle.com/alexisbcook/inconsistent-data-entry).**\n",
    "\n",
    "---\n"
   ]
  },
  {
   "cell_type": "markdown",
   "id": "99b4c9e0",
   "metadata": {
    "papermill": {
     "duration": 0.005099,
     "end_time": "2022-05-26T07:21:46.746682",
     "exception": false,
     "start_time": "2022-05-26T07:21:46.741583",
     "status": "completed"
    },
    "tags": []
   },
   "source": [
    "In this exercise, you'll apply what you learned in the **Inconsistent data entry** tutorial.\n",
    "\n",
    "# Setup\n",
    "\n",
    "The questions below will give you feedback on your work. Run the following cell to set up the feedback system."
   ]
  },
  {
   "cell_type": "code",
   "execution_count": 1,
   "id": "92c466f8",
   "metadata": {
    "execution": {
     "iopub.execute_input": "2022-05-26T07:21:46.759919Z",
     "iopub.status.busy": "2022-05-26T07:21:46.759136Z",
     "iopub.status.idle": "2022-05-26T07:21:46.870653Z",
     "shell.execute_reply": "2022-05-26T07:21:46.869672Z"
    },
    "papermill": {
     "duration": 0.121853,
     "end_time": "2022-05-26T07:21:46.873964",
     "exception": false,
     "start_time": "2022-05-26T07:21:46.752111",
     "status": "completed"
    },
    "tags": []
   },
   "outputs": [
    {
     "name": "stdout",
     "output_type": "stream",
     "text": [
      "Setup Complete\n"
     ]
    }
   ],
   "source": [
    "from learntools.core import binder\n",
    "binder.bind(globals())\n",
    "from learntools.data_cleaning.ex5 import *\n",
    "print(\"Setup Complete\")"
   ]
  },
  {
   "cell_type": "markdown",
   "id": "68a01699",
   "metadata": {
    "papermill": {
     "duration": 0.005689,
     "end_time": "2022-05-26T07:21:46.886158",
     "exception": false,
     "start_time": "2022-05-26T07:21:46.880469",
     "status": "completed"
    },
    "tags": []
   },
   "source": [
    "# Get our environment set up\n",
    "\n",
    "The first thing we'll need to do is load in the libraries and dataset we'll be using.  We use the same dataset from the tutorial."
   ]
  },
  {
   "cell_type": "code",
   "execution_count": 2,
   "id": "cd0e93f2",
   "metadata": {
    "execution": {
     "iopub.execute_input": "2022-05-26T07:21:46.899051Z",
     "iopub.status.busy": "2022-05-26T07:21:46.898374Z",
     "iopub.status.idle": "2022-05-26T07:21:46.915907Z",
     "shell.execute_reply": "2022-05-26T07:21:46.915182Z"
    },
    "papermill": {
     "duration": 0.026561,
     "end_time": "2022-05-26T07:21:46.918178",
     "exception": false,
     "start_time": "2022-05-26T07:21:46.891617",
     "status": "completed"
    },
    "tags": []
   },
   "outputs": [],
   "source": [
    "# modules we'll use\n",
    "import pandas as pd\n",
    "import numpy as np\n",
    "\n",
    "# helpful modules\n",
    "import fuzzywuzzy\n",
    "from fuzzywuzzy import process\n",
    "import chardet\n",
    "\n",
    "# read in all our data\n",
    "professors = pd.read_csv(\"../input/pakistan-intellectual-capital/pakistan_intellectual_capital.csv\")\n",
    "\n",
    "# set seed for reproducibility\n",
    "professors.head(5)\n",
    "np.random.seed(0)"
   ]
  },
  {
   "cell_type": "markdown",
   "id": "bcbd70bd",
   "metadata": {
    "papermill": {
     "duration": 0.005482,
     "end_time": "2022-05-26T07:21:46.929351",
     "exception": false,
     "start_time": "2022-05-26T07:21:46.923869",
     "status": "completed"
    },
    "tags": []
   },
   "source": [
    "Next, we'll redo all of the work that we did in the tutorial."
   ]
  },
  {
   "cell_type": "code",
   "execution_count": 3,
   "id": "d6e9f2c4",
   "metadata": {
    "execution": {
     "iopub.execute_input": "2022-05-26T07:21:46.943176Z",
     "iopub.status.busy": "2022-05-26T07:21:46.942450Z",
     "iopub.status.idle": "2022-05-26T07:21:46.958963Z",
     "shell.execute_reply": "2022-05-26T07:21:46.957752Z"
    },
    "papermill": {
     "duration": 0.025499,
     "end_time": "2022-05-26T07:21:46.960907",
     "exception": false,
     "start_time": "2022-05-26T07:21:46.935408",
     "status": "completed"
    },
    "tags": []
   },
   "outputs": [
    {
     "name": "stdout",
     "output_type": "stream",
     "text": [
      "All done!\n"
     ]
    }
   ],
   "source": [
    "# convert to lower case\n",
    "professors['Country'] = professors['Country'].str.lower()\n",
    "# remove trailing white spaces\n",
    "professors['Country'] = professors['Country'].str.strip()\n",
    "\n",
    "# get the top 10 closest matches to \"south korea\"\n",
    "countries = professors['Country'].unique()\n",
    "matches = fuzzywuzzy.process.extract(\"south korea\", countries, limit=10, scorer=fuzzywuzzy.fuzz.token_sort_ratio)\n",
    "\n",
    "def replace_matches_in_column(df, column, string_to_match, min_ratio = 47):\n",
    "    # get a list of unique strings\n",
    "    strings = df[column].unique()\n",
    "    \n",
    "    # get the top 10 closest matches to our input string\n",
    "    matches = fuzzywuzzy.process.extract(string_to_match, strings, \n",
    "                                         limit=10, scorer=fuzzywuzzy.fuzz.token_sort_ratio)\n",
    "\n",
    "    # only get matches with a ratio > 90\n",
    "    close_matches = [matches[0] for matches in matches if matches[1] >= min_ratio]\n",
    "\n",
    "    # get the rows of all the close matches in our dataframe\n",
    "    rows_with_matches = df[column].isin(close_matches)\n",
    "\n",
    "    # replace all rows with close matches with the input matches \n",
    "    df.loc[rows_with_matches, column] = string_to_match\n",
    "    \n",
    "    # let us know the function's done\n",
    "    print(\"All done!\")\n",
    "    \n",
    "replace_matches_in_column(df=professors, column='Country', string_to_match=\"south korea\")\n",
    "countries = professors['Country'].unique()"
   ]
  },
  {
   "cell_type": "markdown",
   "id": "7882f333",
   "metadata": {
    "papermill": {
     "duration": 0.005875,
     "end_time": "2022-05-26T07:21:46.972585",
     "exception": false,
     "start_time": "2022-05-26T07:21:46.966710",
     "status": "completed"
    },
    "tags": []
   },
   "source": [
    "# 1) Examine another column\n",
    "\n",
    "Write code below to take a look at all the unique values in the \"Graduated from\" column."
   ]
  },
  {
   "cell_type": "code",
   "execution_count": 4,
   "id": "e3d8799c",
   "metadata": {
    "execution": {
     "iopub.execute_input": "2022-05-26T07:21:46.986020Z",
     "iopub.status.busy": "2022-05-26T07:21:46.985402Z",
     "iopub.status.idle": "2022-05-26T07:21:46.989786Z",
     "shell.execute_reply": "2022-05-26T07:21:46.989064Z"
    },
    "papermill": {
     "duration": 0.013284,
     "end_time": "2022-05-26T07:21:46.991621",
     "exception": false,
     "start_time": "2022-05-26T07:21:46.978337",
     "status": "completed"
    },
    "tags": []
   },
   "outputs": [],
   "source": [
    "# TODO: Your code here\n",
    "unis = professors['Graduated from'].unique()"
   ]
  },
  {
   "cell_type": "markdown",
   "id": "89c95ba5",
   "metadata": {
    "papermill": {
     "duration": 0.00544,
     "end_time": "2022-05-26T07:21:47.002688",
     "exception": false,
     "start_time": "2022-05-26T07:21:46.997248",
     "status": "completed"
    },
    "tags": []
   },
   "source": [
    "Do you notice any inconsistencies in the data?  Can any of the inconsistencies in the data be fixed by removing white spaces at the beginning and end of cells?\n",
    "\n",
    "Once you have answered these questions, run the code cell below to get credit for your work."
   ]
  },
  {
   "cell_type": "code",
   "execution_count": 5,
   "id": "2b54e3df",
   "metadata": {
    "execution": {
     "iopub.execute_input": "2022-05-26T07:21:47.015623Z",
     "iopub.status.busy": "2022-05-26T07:21:47.014967Z",
     "iopub.status.idle": "2022-05-26T07:21:47.023568Z",
     "shell.execute_reply": "2022-05-26T07:21:47.022947Z"
    },
    "papermill": {
     "duration": 0.017064,
     "end_time": "2022-05-26T07:21:47.025260",
     "exception": false,
     "start_time": "2022-05-26T07:21:47.008196",
     "status": "completed"
    },
    "tags": []
   },
   "outputs": [
    {
     "data": {
      "application/javascript": [
       "parent.postMessage({\"jupyterEvent\": \"custom.exercise_interaction\", \"data\": {\"interactionType\": 2, \"questionType\": 4, \"questionId\": \"1_ExamineProvince\", \"learnToolsVersion\": \"0.3.4\", \"valueTowardsCompletion\": 0.0, \"failureMessage\": \"\", \"exceptionClass\": \"\", \"trace\": \"\", \"outcomeType\": 4}}, \"*\")"
      ],
      "text/plain": [
       "<IPython.core.display.Javascript object>"
      ]
     },
     "metadata": {},
     "output_type": "display_data"
    },
    {
     "data": {
      "text/markdown": [
       "<span style=\"color:#3366cc\">Hint:</span> Use `unis = professors['Graduated from'].unique()` to take a look at the unique values in the 'Graduated from' column. You may find it useful to sort the data before printing it."
      ],
      "text/plain": [
       "Hint: Use `unis = professors['Graduated from'].unique()` to take a look at the unique values in the 'Graduated from' column. You may find it useful to sort the data before printing it."
      ]
     },
     "metadata": {},
     "output_type": "display_data"
    }
   ],
   "source": [
    "# Line below will give you a hint\n",
    "q1.hint()"
   ]
  },
  {
   "cell_type": "markdown",
   "id": "38845131",
   "metadata": {
    "papermill": {
     "duration": 0.005807,
     "end_time": "2022-05-26T07:21:47.036926",
     "exception": false,
     "start_time": "2022-05-26T07:21:47.031119",
     "status": "completed"
    },
    "tags": []
   },
   "source": [
    "# 2) Do some text pre-processing\n",
    "\n",
    "Convert every entry in the \"Graduated from\" column in the `professors` DataFrame to remove white spaces at the beginning and end of cells."
   ]
  },
  {
   "cell_type": "code",
   "execution_count": 6,
   "id": "6a701550",
   "metadata": {
    "execution": {
     "iopub.execute_input": "2022-05-26T07:21:47.051329Z",
     "iopub.status.busy": "2022-05-26T07:21:47.050620Z",
     "iopub.status.idle": "2022-05-26T07:21:47.063880Z",
     "shell.execute_reply": "2022-05-26T07:21:47.062920Z"
    },
    "papermill": {
     "duration": 0.022906,
     "end_time": "2022-05-26T07:21:47.066173",
     "exception": false,
     "start_time": "2022-05-26T07:21:47.043267",
     "status": "completed"
    },
    "tags": []
   },
   "outputs": [
    {
     "data": {
      "application/javascript": [
       "parent.postMessage({\"jupyterEvent\": \"custom.exercise_interaction\", \"data\": {\"outcomeType\": 1, \"valueTowardsCompletion\": 0.3333333333333333, \"interactionType\": 1, \"questionType\": 1, \"questionId\": \"2_TextProcessing\", \"learnToolsVersion\": \"0.3.4\", \"failureMessage\": \"\", \"exceptionClass\": \"\", \"trace\": \"\"}}, \"*\")"
      ],
      "text/plain": [
       "<IPython.core.display.Javascript object>"
      ]
     },
     "metadata": {},
     "output_type": "display_data"
    },
    {
     "data": {
      "text/markdown": [
       "<span style=\"color:#33cc33\">Correct</span>"
      ],
      "text/plain": [
       "Correct"
      ]
     },
     "metadata": {},
     "output_type": "display_data"
    }
   ],
   "source": [
    "# TODO: Your code here\n",
    "professors['Graduated from'] = professors['Graduated from'].str.strip()\n",
    "# Check your answer\n",
    "q2.check()"
   ]
  },
  {
   "cell_type": "code",
   "execution_count": 7,
   "id": "574ceafc",
   "metadata": {
    "execution": {
     "iopub.execute_input": "2022-05-26T07:21:47.081117Z",
     "iopub.status.busy": "2022-05-26T07:21:47.080203Z",
     "iopub.status.idle": "2022-05-26T07:21:47.088578Z",
     "shell.execute_reply": "2022-05-26T07:21:47.087857Z"
    },
    "papermill": {
     "duration": 0.017913,
     "end_time": "2022-05-26T07:21:47.090462",
     "exception": false,
     "start_time": "2022-05-26T07:21:47.072549",
     "status": "completed"
    },
    "tags": []
   },
   "outputs": [
    {
     "data": {
      "application/javascript": [
       "parent.postMessage({\"jupyterEvent\": \"custom.exercise_interaction\", \"data\": {\"interactionType\": 3, \"questionType\": 1, \"questionId\": \"2_TextProcessing\", \"learnToolsVersion\": \"0.3.4\", \"valueTowardsCompletion\": 0.0, \"failureMessage\": \"\", \"exceptionClass\": \"\", \"trace\": \"\", \"outcomeType\": 4}}, \"*\")"
      ],
      "text/plain": [
       "<IPython.core.display.Javascript object>"
      ]
     },
     "metadata": {},
     "output_type": "display_data"
    },
    {
     "data": {
      "text/markdown": [
       "<span style=\"color:#33cc99\">Solution:</span> \n",
       "```python\n",
       "professors['Graduated from'] = professors['Graduated from'].str.strip()\n",
       "\n",
       "```"
      ],
      "text/plain": [
       "Solution: \n",
       "```python\n",
       "professors['Graduated from'] = professors['Graduated from'].str.strip()\n",
       "\n",
       "```"
      ]
     },
     "metadata": {},
     "output_type": "display_data"
    }
   ],
   "source": [
    "# Lines below will give you a hint or solution code\n",
    "#q2.hint()\n",
    "q2.solution()"
   ]
  },
  {
   "cell_type": "markdown",
   "id": "1d5fce32",
   "metadata": {
    "papermill": {
     "duration": 0.006328,
     "end_time": "2022-05-26T07:21:47.103464",
     "exception": false,
     "start_time": "2022-05-26T07:21:47.097136",
     "status": "completed"
    },
    "tags": []
   },
   "source": [
    "# 3) Continue working with countries\n",
    "\n",
    "In the tutorial, we focused on cleaning up inconsistencies in the \"Country\" column.  Run the code cell below to view the list of unique values that we ended with."
   ]
  },
  {
   "cell_type": "code",
   "execution_count": 8,
   "id": "68fa331d",
   "metadata": {
    "execution": {
     "iopub.execute_input": "2022-05-26T07:21:47.118816Z",
     "iopub.status.busy": "2022-05-26T07:21:47.118057Z",
     "iopub.status.idle": "2022-05-26T07:21:47.125872Z",
     "shell.execute_reply": "2022-05-26T07:21:47.125001Z"
    },
    "papermill": {
     "duration": 0.01788,
     "end_time": "2022-05-26T07:21:47.127789",
     "exception": false,
     "start_time": "2022-05-26T07:21:47.109909",
     "status": "completed"
    },
    "tags": []
   },
   "outputs": [
    {
     "data": {
      "text/plain": [
       "array(['australia', 'austria', 'canada', 'china', 'finland', 'france',\n",
       "       'germany', 'greece', 'hongkong', 'ireland', 'italy', 'japan',\n",
       "       'macau', 'malaysia', 'mauritius', 'netherland', 'new zealand',\n",
       "       'norway', 'pakistan', 'portugal', 'russian federation',\n",
       "       'saudi arabia', 'scotland', 'singapore', 'south korea', 'spain',\n",
       "       'sweden', 'thailand', 'turkey', 'uk', 'urbana', 'usa', 'usofa'],\n",
       "      dtype=object)"
      ]
     },
     "execution_count": 8,
     "metadata": {},
     "output_type": "execute_result"
    }
   ],
   "source": [
    "# get all the unique values in the 'City' column\n",
    "countries = professors['Country'].unique()\n",
    "\n",
    "# sort them alphabetically and then take a closer look\n",
    "countries.sort()\n",
    "countries"
   ]
  },
  {
   "cell_type": "markdown",
   "id": "479b4bf2",
   "metadata": {
    "papermill": {
     "duration": 0.006723,
     "end_time": "2022-05-26T07:21:47.141291",
     "exception": false,
     "start_time": "2022-05-26T07:21:47.134568",
     "status": "completed"
    },
    "tags": []
   },
   "source": [
    "Take another look at the \"Country\" column and see if there's any more data cleaning we need to do.\n",
    "\n",
    "It looks like 'usa' and 'usofa' should be the same country.  Correct the \"Country\" column in the dataframe to replace 'usofa' with 'usa'.\n",
    "\n",
    "**Use the most recent version of the DataFrame (with the whitespaces at the beginning and end of cells removed) from question 2.**"
   ]
  },
  {
   "cell_type": "code",
   "execution_count": 9,
   "id": "f887dd11",
   "metadata": {
    "execution": {
     "iopub.execute_input": "2022-05-26T07:21:47.156531Z",
     "iopub.status.busy": "2022-05-26T07:21:47.155776Z",
     "iopub.status.idle": "2022-05-26T07:21:47.170085Z",
     "shell.execute_reply": "2022-05-26T07:21:47.169173Z"
    },
    "papermill": {
     "duration": 0.024258,
     "end_time": "2022-05-26T07:21:47.172148",
     "exception": false,
     "start_time": "2022-05-26T07:21:47.147890",
     "status": "completed"
    },
    "tags": []
   },
   "outputs": [
    {
     "name": "stdout",
     "output_type": "stream",
     "text": [
      "All done!\n"
     ]
    },
    {
     "data": {
      "application/javascript": [
       "parent.postMessage({\"jupyterEvent\": \"custom.exercise_interaction\", \"data\": {\"outcomeType\": 1, \"valueTowardsCompletion\": 0.3333333333333333, \"interactionType\": 1, \"questionType\": 1, \"questionId\": \"3_WorkingWithCities\", \"learnToolsVersion\": \"0.3.4\", \"failureMessage\": \"\", \"exceptionClass\": \"\", \"trace\": \"\"}}, \"*\")"
      ],
      "text/plain": [
       "<IPython.core.display.Javascript object>"
      ]
     },
     "metadata": {},
     "output_type": "display_data"
    },
    {
     "data": {
      "text/markdown": [
       "<span style=\"color:#33cc33\">Correct</span>"
      ],
      "text/plain": [
       "Correct"
      ]
     },
     "metadata": {},
     "output_type": "display_data"
    }
   ],
   "source": [
    "# TODO: Your code here!\n",
    "matches = fuzzywuzzy.process.extract(\"usa\", countries, limit=10, scorer=fuzzywuzzy.fuzz.token_sort_ratio)\n",
    "replace_matches_in_column(df=professors, column='Country', string_to_match=\"usa\", min_ratio=70)\n",
    "\n",
    "# Check your answer\n",
    "q3.check()"
   ]
  },
  {
   "cell_type": "code",
   "execution_count": 10,
   "id": "de736a02",
   "metadata": {
    "execution": {
     "iopub.execute_input": "2022-05-26T07:21:47.188550Z",
     "iopub.status.busy": "2022-05-26T07:21:47.187801Z",
     "iopub.status.idle": "2022-05-26T07:21:47.195935Z",
     "shell.execute_reply": "2022-05-26T07:21:47.195175Z"
    },
    "papermill": {
     "duration": 0.018414,
     "end_time": "2022-05-26T07:21:47.197837",
     "exception": false,
     "start_time": "2022-05-26T07:21:47.179423",
     "status": "completed"
    },
    "tags": []
   },
   "outputs": [
    {
     "data": {
      "application/javascript": [
       "parent.postMessage({\"jupyterEvent\": \"custom.exercise_interaction\", \"data\": {\"interactionType\": 3, \"questionType\": 1, \"questionId\": \"3_WorkingWithCities\", \"learnToolsVersion\": \"0.3.4\", \"valueTowardsCompletion\": 0.0, \"failureMessage\": \"\", \"exceptionClass\": \"\", \"trace\": \"\", \"outcomeType\": 4}}, \"*\")"
      ],
      "text/plain": [
       "<IPython.core.display.Javascript object>"
      ]
     },
     "metadata": {},
     "output_type": "display_data"
    },
    {
     "data": {
      "text/markdown": [
       "<span style=\"color:#33cc99\">Solution:</span> \n",
       "```python\n",
       "matches = fuzzywuzzy.process.extract(\"usa\", countries, limit=10, scorer=fuzzywuzzy.fuzz.token_sort_ratio)\n",
       "replace_matches_in_column(df=professors, column='Country', string_to_match=\"usa\", min_ratio=70)\n",
       "\n",
       "```"
      ],
      "text/plain": [
       "Solution: \n",
       "```python\n",
       "matches = fuzzywuzzy.process.extract(\"usa\", countries, limit=10, scorer=fuzzywuzzy.fuzz.token_sort_ratio)\n",
       "replace_matches_in_column(df=professors, column='Country', string_to_match=\"usa\", min_ratio=70)\n",
       "\n",
       "```"
      ]
     },
     "metadata": {},
     "output_type": "display_data"
    }
   ],
   "source": [
    "# Lines below will give you a hint or solution code\n",
    "#q3.hint()\n",
    "q3.solution()"
   ]
  },
  {
   "cell_type": "markdown",
   "id": "6943de79",
   "metadata": {
    "papermill": {
     "duration": 0.006923,
     "end_time": "2022-05-26T07:21:47.212458",
     "exception": false,
     "start_time": "2022-05-26T07:21:47.205535",
     "status": "completed"
    },
    "tags": []
   },
   "source": [
    "# Congratulations!\n",
    "\n",
    "Congratulations for completing the **Data Cleaning** course on Kaggle Learn!\n",
    "\n",
    "To practice your new skills, you're encouraged to download and investigate some of [Kaggle's Datasets](https://www.kaggle.com/datasets)."
   ]
  },
  {
   "cell_type": "markdown",
   "id": "0e6a97a6",
   "metadata": {
    "papermill": {
     "duration": 0.008443,
     "end_time": "2022-05-26T07:21:47.230082",
     "exception": false,
     "start_time": "2022-05-26T07:21:47.221639",
     "status": "completed"
    },
    "tags": []
   },
   "source": [
    "---\n",
    "\n",
    "\n",
    "\n",
    "\n",
    "*Have questions or comments? Visit the [course discussion forum](https://www.kaggle.com/learn/data-cleaning/discussion) to chat with other learners.*"
   ]
  }
 ],
 "metadata": {
  "kernelspec": {
   "display_name": "Python 3",
   "language": "python",
   "name": "python3"
  },
  "language_info": {
   "codemirror_mode": {
    "name": "ipython",
    "version": 3
   },
   "file_extension": ".py",
   "mimetype": "text/x-python",
   "name": "python",
   "nbconvert_exporter": "python",
   "pygments_lexer": "ipython3",
   "version": "3.7.12"
  },
  "papermill": {
   "default_parameters": {},
   "duration": 10.872789,
   "end_time": "2022-05-26T07:21:47.858896",
   "environment_variables": {},
   "exception": null,
   "input_path": "__notebook__.ipynb",
   "output_path": "__notebook__.ipynb",
   "parameters": {},
   "start_time": "2022-05-26T07:21:36.986107",
   "version": "2.3.4"
  }
 },
 "nbformat": 4,
 "nbformat_minor": 5
}
