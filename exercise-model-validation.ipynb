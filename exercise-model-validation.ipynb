{
 "cells": [
  {
   "cell_type": "markdown",
   "id": "5e9f3721",
   "metadata": {
    "papermill": {
     "duration": 0.004975,
     "end_time": "2022-06-19T09:12:53.977537",
     "exception": false,
     "start_time": "2022-06-19T09:12:53.972562",
     "status": "completed"
    },
    "tags": []
   },
   "source": [
    "**This notebook is an exercise in the [Introduction to Machine Learning](https://www.kaggle.com/learn/intro-to-machine-learning) course.  You can reference the tutorial at [this link](https://www.kaggle.com/dansbecker/model-validation).**\n",
    "\n",
    "---\n"
   ]
  },
  {
   "cell_type": "markdown",
   "id": "3201db7e",
   "metadata": {
    "papermill": {
     "duration": 0.003852,
     "end_time": "2022-06-19T09:12:53.987793",
     "exception": false,
     "start_time": "2022-06-19T09:12:53.983941",
     "status": "completed"
    },
    "tags": []
   },
   "source": [
    "## Recap\n",
    "You've built a model. In this exercise you will test how good your model is.\n",
    "\n",
    "Run the cell below to set up your coding environment where the previous exercise left off."
   ]
  },
  {
   "cell_type": "code",
   "execution_count": 1,
   "id": "d5e4e6df",
   "metadata": {
    "execution": {
     "iopub.execute_input": "2022-06-19T09:12:53.998394Z",
     "iopub.status.busy": "2022-06-19T09:12:53.997263Z",
     "iopub.status.idle": "2022-06-19T09:12:55.336090Z",
     "shell.execute_reply": "2022-06-19T09:12:55.335225Z"
    },
    "papermill": {
     "duration": 1.346531,
     "end_time": "2022-06-19T09:12:55.338331",
     "exception": false,
     "start_time": "2022-06-19T09:12:53.991800",
     "status": "completed"
    },
    "tags": []
   },
   "outputs": [
    {
     "name": "stdout",
     "output_type": "stream",
     "text": [
      "First in-sample predictions: [208500. 181500. 223500. 140000. 250000.]\n",
      "Actual target values for those homes: [208500, 181500, 223500, 140000, 250000]\n",
      "Setup Complete\n"
     ]
    }
   ],
   "source": [
    "# Code you have previously used to load data\n",
    "import pandas as pd\n",
    "from sklearn.tree import DecisionTreeRegressor\n",
    "\n",
    "# Path of the file to read\n",
    "iowa_file_path = '../input/home-data-for-ml-course/train.csv'\n",
    "\n",
    "home_data = pd.read_csv(iowa_file_path)\n",
    "y = home_data.SalePrice\n",
    "feature_columns = ['LotArea', 'YearBuilt', '1stFlrSF', '2ndFlrSF', 'FullBath', 'BedroomAbvGr', 'TotRmsAbvGrd']\n",
    "X = home_data[feature_columns]\n",
    "\n",
    "# Specify Model\n",
    "iowa_model = DecisionTreeRegressor()\n",
    "# Fit Model\n",
    "iowa_model.fit(X, y)\n",
    "\n",
    "print(\"First in-sample predictions:\", iowa_model.predict(X.head()))\n",
    "print(\"Actual target values for those homes:\", y.head().tolist())\n",
    "\n",
    "# Set up code checking\n",
    "from learntools.core import binder\n",
    "binder.bind(globals())\n",
    "from learntools.machine_learning.ex4 import *\n",
    "print(\"Setup Complete\")"
   ]
  },
  {
   "cell_type": "markdown",
   "id": "2abfc512",
   "metadata": {
    "papermill": {
     "duration": 0.004411,
     "end_time": "2022-06-19T09:12:55.347075",
     "exception": false,
     "start_time": "2022-06-19T09:12:55.342664",
     "status": "completed"
    },
    "tags": []
   },
   "source": [
    "# Exercises\n",
    "\n",
    "## Step 1: Split Your Data\n",
    "Use the `train_test_split` function to split up your data.\n",
    "\n",
    "Give it the argument `random_state=1` so the `check` functions know what to expect when verifying your code.\n",
    "\n",
    "Recall, your features are loaded in the DataFrame **X** and your target is loaded in **y**.\n"
   ]
  },
  {
   "cell_type": "code",
   "execution_count": 2,
   "id": "7f53eecd",
   "metadata": {
    "execution": {
     "iopub.execute_input": "2022-06-19T09:12:55.356703Z",
     "iopub.status.busy": "2022-06-19T09:12:55.355900Z",
     "iopub.status.idle": "2022-06-19T09:12:55.371133Z",
     "shell.execute_reply": "2022-06-19T09:12:55.370517Z"
    },
    "papermill": {
     "duration": 0.022165,
     "end_time": "2022-06-19T09:12:55.373081",
     "exception": false,
     "start_time": "2022-06-19T09:12:55.350916",
     "status": "completed"
    },
    "tags": []
   },
   "outputs": [
    {
     "data": {
      "application/javascript": [
       "parent.postMessage({\"jupyterEvent\": \"custom.exercise_interaction\", \"data\": {\"outcomeType\": 1, \"valueTowardsCompletion\": 0.25, \"interactionType\": 1, \"questionType\": 2, \"questionId\": \"1_SplitData\", \"learnToolsVersion\": \"0.3.4\", \"failureMessage\": \"\", \"exceptionClass\": \"\", \"trace\": \"\"}}, \"*\")"
      ],
      "text/plain": [
       "<IPython.core.display.Javascript object>"
      ]
     },
     "metadata": {},
     "output_type": "display_data"
    },
    {
     "data": {
      "text/markdown": [
       "<span style=\"color:#33cc33\">Correct</span>"
      ],
      "text/plain": [
       "Correct"
      ]
     },
     "metadata": {},
     "output_type": "display_data"
    }
   ],
   "source": [
    "# Import the train_test_split function and uncomment\n",
    "from sklearn.model_selection import train_test_split\n",
    "train_X, val_X,train_y, val_y = train_test_split(X, y, random_state=1)\n",
    "step_1.check()"
   ]
  },
  {
   "cell_type": "markdown",
   "id": "5a3b96c7",
   "metadata": {
    "papermill": {
     "duration": 0.003959,
     "end_time": "2022-06-19T09:12:55.381259",
     "exception": false,
     "start_time": "2022-06-19T09:12:55.377300",
     "status": "completed"
    },
    "tags": []
   },
   "source": [
    "## Step 2: Specify and Fit the Model\n",
    "\n",
    "Create a `DecisionTreeRegressor` model and fit it to the relevant data.\n",
    "Set `random_state` to 1 again when creating the model."
   ]
  },
  {
   "cell_type": "code",
   "execution_count": 3,
   "id": "d2bf4088",
   "metadata": {
    "execution": {
     "iopub.execute_input": "2022-06-19T09:12:55.390834Z",
     "iopub.status.busy": "2022-06-19T09:12:55.390439Z",
     "iopub.status.idle": "2022-06-19T09:12:55.416621Z",
     "shell.execute_reply": "2022-06-19T09:12:55.415702Z"
    },
    "papermill": {
     "duration": 0.033192,
     "end_time": "2022-06-19T09:12:55.418489",
     "exception": false,
     "start_time": "2022-06-19T09:12:55.385297",
     "status": "completed"
    },
    "tags": []
   },
   "outputs": [
    {
     "name": "stdout",
     "output_type": "stream",
     "text": [
      "[186500. 184000. 130000.  92000. 164500. 220000. 335000. 144152. 215000.\n",
      " 262000.]\n",
      "[186500. 184000. 130000.  92000. 164500. 220000. 335000. 144152. 215000.\n",
      " 262000.]\n"
     ]
    },
    {
     "data": {
      "application/javascript": [
       "parent.postMessage({\"jupyterEvent\": \"custom.exercise_interaction\", \"data\": {\"outcomeType\": 1, \"valueTowardsCompletion\": 0.25, \"interactionType\": 1, \"questionType\": 2, \"questionId\": \"2_FitModelWithTrain\", \"learnToolsVersion\": \"0.3.4\", \"failureMessage\": \"\", \"exceptionClass\": \"\", \"trace\": \"\"}}, \"*\")"
      ],
      "text/plain": [
       "<IPython.core.display.Javascript object>"
      ]
     },
     "metadata": {},
     "output_type": "display_data"
    },
    {
     "data": {
      "text/markdown": [
       "<span style=\"color:#33cc33\">Correct</span>"
      ],
      "text/plain": [
       "Correct"
      ]
     },
     "metadata": {},
     "output_type": "display_data"
    }
   ],
   "source": [
    "# You imported DecisionTreeRegressor in your last exercise\n",
    "# and that code has been copied to the setup code above. So, no need to\n",
    "# import it again\n",
    "\n",
    "# Specify the model\n",
    "iowa_model = DecisionTreeRegressor(random_state=1)\n",
    "# Fit iowa_model with the training data.\n",
    "iowa_model.fit(train_X, train_y)\n",
    "\n",
    "# Check your answer\n",
    "step_2.check()"
   ]
  },
  {
   "cell_type": "markdown",
   "id": "62bd3293",
   "metadata": {
    "papermill": {
     "duration": 0.004522,
     "end_time": "2022-06-19T09:12:55.427637",
     "exception": false,
     "start_time": "2022-06-19T09:12:55.423115",
     "status": "completed"
    },
    "tags": []
   },
   "source": [
    "## Step 3: Make Predictions with Validation data\n"
   ]
  },
  {
   "cell_type": "code",
   "execution_count": 4,
   "id": "a7f408d4",
   "metadata": {
    "execution": {
     "iopub.execute_input": "2022-06-19T09:12:55.438423Z",
     "iopub.status.busy": "2022-06-19T09:12:55.438019Z",
     "iopub.status.idle": "2022-06-19T09:12:55.449129Z",
     "shell.execute_reply": "2022-06-19T09:12:55.448270Z"
    },
    "papermill": {
     "duration": 0.018935,
     "end_time": "2022-06-19T09:12:55.451222",
     "exception": false,
     "start_time": "2022-06-19T09:12:55.432287",
     "status": "completed"
    },
    "tags": []
   },
   "outputs": [
    {
     "data": {
      "application/javascript": [
       "parent.postMessage({\"jupyterEvent\": \"custom.exercise_interaction\", \"data\": {\"outcomeType\": 1, \"valueTowardsCompletion\": 0.25, \"interactionType\": 1, \"questionType\": 2, \"questionId\": \"3_ValPreds\", \"learnToolsVersion\": \"0.3.4\", \"failureMessage\": \"\", \"exceptionClass\": \"\", \"trace\": \"\"}}, \"*\")"
      ],
      "text/plain": [
       "<IPython.core.display.Javascript object>"
      ]
     },
     "metadata": {},
     "output_type": "display_data"
    },
    {
     "data": {
      "text/markdown": [
       "<span style=\"color:#33cc33\">Correct</span>"
      ],
      "text/plain": [
       "Correct"
      ]
     },
     "metadata": {},
     "output_type": "display_data"
    }
   ],
   "source": [
    "# Predict with all validation observations\n",
    "val_predictions = iowa_model.predict(val_X)\n",
    "\n",
    "# Check your answer\n",
    "step_3.check()"
   ]
  },
  {
   "cell_type": "markdown",
   "id": "764a24ec",
   "metadata": {
    "papermill": {
     "duration": 0.004491,
     "end_time": "2022-06-19T09:12:55.460472",
     "exception": false,
     "start_time": "2022-06-19T09:12:55.455981",
     "status": "completed"
    },
    "tags": []
   },
   "source": [
    "Inspect your predictions and actual values from validation data."
   ]
  },
  {
   "cell_type": "markdown",
   "id": "4d56a639",
   "metadata": {
    "papermill": {
     "duration": 0.004333,
     "end_time": "2022-06-19T09:12:55.469620",
     "exception": false,
     "start_time": "2022-06-19T09:12:55.465287",
     "status": "completed"
    },
    "tags": []
   },
   "source": [
    "What do you notice that is different from what you saw with in-sample predictions (which are printed after the top code cell in this page).\n",
    "\n",
    "Do you remember why validation predictions differ from in-sample (or training) predictions? This is an important idea from the last lesson.\n",
    "\n",
    "## Step 4: Calculate the Mean Absolute Error in Validation Data\n"
   ]
  },
  {
   "cell_type": "code",
   "execution_count": 5,
   "id": "9d7ff3f2",
   "metadata": {
    "execution": {
     "iopub.execute_input": "2022-06-19T09:12:55.480837Z",
     "iopub.status.busy": "2022-06-19T09:12:55.480120Z",
     "iopub.status.idle": "2022-06-19T09:12:55.490482Z",
     "shell.execute_reply": "2022-06-19T09:12:55.489657Z"
    },
    "papermill": {
     "duration": 0.018068,
     "end_time": "2022-06-19T09:12:55.492286",
     "exception": false,
     "start_time": "2022-06-19T09:12:55.474218",
     "status": "completed"
    },
    "tags": []
   },
   "outputs": [
    {
     "name": "stdout",
     "output_type": "stream",
     "text": [
      "29652.931506849316\n"
     ]
    },
    {
     "data": {
      "application/javascript": [
       "parent.postMessage({\"jupyterEvent\": \"custom.exercise_interaction\", \"data\": {\"outcomeType\": 1, \"valueTowardsCompletion\": 0.25, \"interactionType\": 1, \"questionType\": 1, \"questionId\": \"4_MAE\", \"learnToolsVersion\": \"0.3.4\", \"failureMessage\": \"\", \"exceptionClass\": \"\", \"trace\": \"\"}}, \"*\")"
      ],
      "text/plain": [
       "<IPython.core.display.Javascript object>"
      ]
     },
     "metadata": {},
     "output_type": "display_data"
    },
    {
     "data": {
      "text/markdown": [
       "<span style=\"color:#33cc33\">Correct</span>"
      ],
      "text/plain": [
       "Correct"
      ]
     },
     "metadata": {},
     "output_type": "display_data"
    }
   ],
   "source": [
    "from sklearn.metrics import mean_absolute_error\n",
    "val_mae = mean_absolute_error(val_y, val_predictions)\n",
    "# uncomment following line to see the validation_mae\n",
    "print(val_mae)\n",
    "\n",
    "# Check your answer\n",
    "step_4.check()"
   ]
  },
  {
   "cell_type": "markdown",
   "id": "b223b713",
   "metadata": {
    "papermill": {
     "duration": 0.004993,
     "end_time": "2022-06-19T09:12:55.502428",
     "exception": false,
     "start_time": "2022-06-19T09:12:55.497435",
     "status": "completed"
    },
    "tags": []
   },
   "source": [
    "Is that MAE good?  There isn't a general rule for what values are good that applies across applications. But you'll see how to use (and improve) this number in the next step.\n",
    "\n",
    "# Keep Going\n",
    "\n",
    "You are ready for **[Underfitting and Overfitting](https://www.kaggle.com/dansbecker/underfitting-and-overfitting).**\n"
   ]
  },
  {
   "cell_type": "markdown",
   "id": "c23fba72",
   "metadata": {
    "papermill": {
     "duration": 0.004755,
     "end_time": "2022-06-19T09:12:55.512161",
     "exception": false,
     "start_time": "2022-06-19T09:12:55.507406",
     "status": "completed"
    },
    "tags": []
   },
   "source": [
    "---\n",
    "\n",
    "\n",
    "\n",
    "\n",
    "*Have questions or comments? Visit the [course discussion forum](https://www.kaggle.com/learn/intro-to-machine-learning/discussion) to chat with other learners.*"
   ]
  }
 ],
 "metadata": {
  "kernelspec": {
   "display_name": "Python 3",
   "language": "python",
   "name": "python3"
  },
  "language_info": {
   "codemirror_mode": {
    "name": "ipython",
    "version": 3
   },
   "file_extension": ".py",
   "mimetype": "text/x-python",
   "name": "python",
   "nbconvert_exporter": "python",
   "pygments_lexer": "ipython3",
   "version": "3.7.12"
  },
  "papermill": {
   "default_parameters": {},
   "duration": 11.790307,
   "end_time": "2022-06-19T09:12:56.237162",
   "environment_variables": {},
   "exception": null,
   "input_path": "__notebook__.ipynb",
   "output_path": "__notebook__.ipynb",
   "parameters": {},
   "start_time": "2022-06-19T09:12:44.446855",
   "version": "2.3.4"
  }
 },
 "nbformat": 4,
 "nbformat_minor": 5
}
