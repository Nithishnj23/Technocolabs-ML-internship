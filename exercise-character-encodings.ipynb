{
 "cells": [
  {
   "cell_type": "markdown",
   "id": "7f7e8fbc",
   "metadata": {
    "papermill": {
     "duration": 0.007535,
     "end_time": "2022-05-26T06:36:13.731794",
     "exception": false,
     "start_time": "2022-05-26T06:36:13.724259",
     "status": "completed"
    },
    "tags": []
   },
   "source": [
    "**This notebook is an exercise in the [Data Cleaning](https://www.kaggle.com/learn/data-cleaning) course.  You can reference the tutorial at [this link](https://www.kaggle.com/alexisbcook/character-encodings).**\n",
    "\n",
    "---\n"
   ]
  },
  {
   "cell_type": "markdown",
   "id": "1305eab6",
   "metadata": {
    "papermill": {
     "duration": 0.003433,
     "end_time": "2022-05-26T06:36:13.739262",
     "exception": false,
     "start_time": "2022-05-26T06:36:13.735829",
     "status": "completed"
    },
    "tags": []
   },
   "source": [
    "In this exercise, you'll apply what you learned in the **Character encodings** tutorial.\n",
    "\n",
    "# Setup\n",
    "\n",
    "The questions below will give you feedback on your work. Run the following cell to set up the feedback system."
   ]
  },
  {
   "cell_type": "code",
   "execution_count": 1,
   "id": "06c9ab88",
   "metadata": {
    "execution": {
     "iopub.execute_input": "2022-05-26T06:36:13.748686Z",
     "iopub.status.busy": "2022-05-26T06:36:13.748009Z",
     "iopub.status.idle": "2022-05-26T06:36:13.822731Z",
     "shell.execute_reply": "2022-05-26T06:36:13.821829Z"
    },
    "papermill": {
     "duration": 0.082486,
     "end_time": "2022-05-26T06:36:13.825524",
     "exception": false,
     "start_time": "2022-05-26T06:36:13.743038",
     "status": "completed"
    },
    "tags": []
   },
   "outputs": [
    {
     "name": "stdout",
     "output_type": "stream",
     "text": [
      "Setup Complete\n"
     ]
    }
   ],
   "source": [
    "from learntools.core import binder\n",
    "binder.bind(globals())\n",
    "from learntools.data_cleaning.ex4 import *\n",
    "print(\"Setup Complete\")"
   ]
  },
  {
   "cell_type": "markdown",
   "id": "454c06c9",
   "metadata": {
    "papermill": {
     "duration": 0.003597,
     "end_time": "2022-05-26T06:36:13.833184",
     "exception": false,
     "start_time": "2022-05-26T06:36:13.829587",
     "status": "completed"
    },
    "tags": []
   },
   "source": [
    "# Get our environment set up\n",
    "\n",
    "The first thing we'll need to do is load in the libraries we'll be using."
   ]
  },
  {
   "cell_type": "code",
   "execution_count": 2,
   "id": "2a536ad4",
   "metadata": {
    "execution": {
     "iopub.execute_input": "2022-05-26T06:36:13.842974Z",
     "iopub.status.busy": "2022-05-26T06:36:13.841877Z",
     "iopub.status.idle": "2022-05-26T06:36:13.847156Z",
     "shell.execute_reply": "2022-05-26T06:36:13.846461Z"
    },
    "papermill": {
     "duration": 0.012097,
     "end_time": "2022-05-26T06:36:13.849043",
     "exception": false,
     "start_time": "2022-05-26T06:36:13.836946",
     "status": "completed"
    },
    "tags": []
   },
   "outputs": [],
   "source": [
    "# modules we'll use\n",
    "import pandas as pd\n",
    "import numpy as np\n",
    "\n",
    "# helpful character encoding module\n",
    "import chardet\n",
    "\n",
    "# set seed for reproducibility\n",
    "np.random.seed(0)"
   ]
  },
  {
   "cell_type": "markdown",
   "id": "eeb11d00",
   "metadata": {
    "papermill": {
     "duration": 0.003696,
     "end_time": "2022-05-26T06:36:13.856825",
     "exception": false,
     "start_time": "2022-05-26T06:36:13.853129",
     "status": "completed"
    },
    "tags": []
   },
   "source": [
    "# 1) What are encodings?\n",
    "\n",
    "You're working with a dataset composed of bytes.  Run the code cell below to print a sample entry."
   ]
  },
  {
   "cell_type": "code",
   "execution_count": 3,
   "id": "2c5489eb",
   "metadata": {
    "execution": {
     "iopub.execute_input": "2022-05-26T06:36:13.866161Z",
     "iopub.status.busy": "2022-05-26T06:36:13.865578Z",
     "iopub.status.idle": "2022-05-26T06:36:13.870374Z",
     "shell.execute_reply": "2022-05-26T06:36:13.869152Z"
    },
    "papermill": {
     "duration": 0.011819,
     "end_time": "2022-05-26T06:36:13.872385",
     "exception": false,
     "start_time": "2022-05-26T06:36:13.860566",
     "status": "completed"
    },
    "tags": []
   },
   "outputs": [
    {
     "name": "stdout",
     "output_type": "stream",
     "text": [
      "b'\\xa7A\\xa6n'\n",
      "data type: <class 'bytes'>\n"
     ]
    }
   ],
   "source": [
    "sample_entry = b'\\xa7A\\xa6n'\n",
    "print(sample_entry)\n",
    "print('data type:', type(sample_entry))"
   ]
  },
  {
   "cell_type": "markdown",
   "id": "ba67e4fa",
   "metadata": {
    "papermill": {
     "duration": 0.003789,
     "end_time": "2022-05-26T06:36:13.880099",
     "exception": false,
     "start_time": "2022-05-26T06:36:13.876310",
     "status": "completed"
    },
    "tags": []
   },
   "source": [
    "You notice that it doesn't use the standard UTF-8 encoding. \n",
    "\n",
    "Use the next code cell to create a variable `new_entry` that changes the encoding from `\"big5-tw\"` to `\"utf-8\"`.  `new_entry` should have the bytes datatype."
   ]
  },
  {
   "cell_type": "code",
   "execution_count": 4,
   "id": "49e81832",
   "metadata": {
    "execution": {
     "iopub.execute_input": "2022-05-26T06:36:13.889317Z",
     "iopub.status.busy": "2022-05-26T06:36:13.888741Z",
     "iopub.status.idle": "2022-05-26T06:36:13.897034Z",
     "shell.execute_reply": "2022-05-26T06:36:13.896218Z"
    },
    "papermill": {
     "duration": 0.014759,
     "end_time": "2022-05-26T06:36:13.898617",
     "exception": false,
     "start_time": "2022-05-26T06:36:13.883858",
     "status": "completed"
    },
    "tags": []
   },
   "outputs": [
    {
     "data": {
      "application/javascript": [
       "parent.postMessage({\"jupyterEvent\": \"custom.exercise_interaction\", \"data\": {\"outcomeType\": 1, \"valueTowardsCompletion\": 0.3333333333333333, \"interactionType\": 1, \"questionType\": 1, \"questionId\": \"1_EncodingsIntro\", \"learnToolsVersion\": \"0.3.4\", \"failureMessage\": \"\", \"exceptionClass\": \"\", \"trace\": \"\"}}, \"*\")"
      ],
      "text/plain": [
       "<IPython.core.display.Javascript object>"
      ]
     },
     "metadata": {},
     "output_type": "display_data"
    },
    {
     "data": {
      "text/markdown": [
       "<span style=\"color:#33cc33\">Correct</span>"
      ],
      "text/plain": [
       "Correct"
      ]
     },
     "metadata": {},
     "output_type": "display_data"
    }
   ],
   "source": [
    "before = sample_entry.decode(\"big5-tw\")\n",
    "new_entry = before.encode()\n",
    "\n",
    "# Check your answer\n",
    "q1.check()"
   ]
  },
  {
   "cell_type": "code",
   "execution_count": 5,
   "id": "3d372c54",
   "metadata": {
    "execution": {
     "iopub.execute_input": "2022-05-26T06:36:13.908371Z",
     "iopub.status.busy": "2022-05-26T06:36:13.907836Z",
     "iopub.status.idle": "2022-05-26T06:36:13.916867Z",
     "shell.execute_reply": "2022-05-26T06:36:13.916008Z"
    },
    "papermill": {
     "duration": 0.016153,
     "end_time": "2022-05-26T06:36:13.918806",
     "exception": false,
     "start_time": "2022-05-26T06:36:13.902653",
     "status": "completed"
    },
    "tags": []
   },
   "outputs": [
    {
     "data": {
      "application/javascript": [
       "parent.postMessage({\"jupyterEvent\": \"custom.exercise_interaction\", \"data\": {\"interactionType\": 2, \"questionType\": 1, \"questionId\": \"1_EncodingsIntro\", \"learnToolsVersion\": \"0.3.4\", \"valueTowardsCompletion\": 0.0, \"failureMessage\": \"\", \"exceptionClass\": \"\", \"trace\": \"\", \"outcomeType\": 4}}, \"*\")"
      ],
      "text/plain": [
       "<IPython.core.display.Javascript object>"
      ]
     },
     "metadata": {},
     "output_type": "display_data"
    },
    {
     "data": {
      "text/markdown": [
       "<span style=\"color:#3366cc\">Hint:</span> Try using `.decode()` to get the string, then `.encode()` to get the bytes representation, encoded in UTF-8."
      ],
      "text/plain": [
       "Hint: Try using `.decode()` to get the string, then `.encode()` to get the bytes representation, encoded in UTF-8."
      ]
     },
     "metadata": {},
     "output_type": "display_data"
    },
    {
     "data": {
      "application/javascript": [
       "parent.postMessage({\"jupyterEvent\": \"custom.exercise_interaction\", \"data\": {\"interactionType\": 3, \"questionType\": 1, \"questionId\": \"1_EncodingsIntro\", \"learnToolsVersion\": \"0.3.4\", \"valueTowardsCompletion\": 0.0, \"failureMessage\": \"\", \"exceptionClass\": \"\", \"trace\": \"\", \"outcomeType\": 4}}, \"*\")"
      ],
      "text/plain": [
       "<IPython.core.display.Javascript object>"
      ]
     },
     "metadata": {},
     "output_type": "display_data"
    },
    {
     "data": {
      "text/markdown": [
       "<span style=\"color:#33cc99\">Solution:</span> \n",
       "```python\n",
       "before = sample_entry.decode(\"big5-tw\")\n",
       "new_entry = before.encode()\n",
       "\n",
       "```"
      ],
      "text/plain": [
       "Solution: \n",
       "```python\n",
       "before = sample_entry.decode(\"big5-tw\")\n",
       "new_entry = before.encode()\n",
       "\n",
       "```"
      ]
     },
     "metadata": {},
     "output_type": "display_data"
    }
   ],
   "source": [
    "# Lines below will give you a hint or solution code\n",
    "q1.hint()\n",
    "q1.solution()"
   ]
  },
  {
   "cell_type": "markdown",
   "id": "acb87eb5",
   "metadata": {
    "papermill": {
     "duration": 0.004302,
     "end_time": "2022-05-26T06:36:13.927720",
     "exception": false,
     "start_time": "2022-05-26T06:36:13.923418",
     "status": "completed"
    },
    "tags": []
   },
   "source": [
    "# 2) Reading in files with encoding problems\n",
    "\n",
    "Use the code cell below to read in this file at path `\"../input/fatal-police-shootings-in-the-us/PoliceKillingsUS.csv\"`.  \n",
    "\n",
    "Figure out what the correct encoding should be and read in the file to a DataFrame `police_killings`."
   ]
  },
  {
   "cell_type": "code",
   "execution_count": 6,
   "id": "473206d1",
   "metadata": {
    "execution": {
     "iopub.execute_input": "2022-05-26T06:36:13.938518Z",
     "iopub.status.busy": "2022-05-26T06:36:13.937874Z",
     "iopub.status.idle": "2022-05-26T06:36:13.960549Z",
     "shell.execute_reply": "2022-05-26T06:36:13.959770Z"
    },
    "papermill": {
     "duration": 0.030266,
     "end_time": "2022-05-26T06:36:13.962453",
     "exception": false,
     "start_time": "2022-05-26T06:36:13.932187",
     "status": "completed"
    },
    "tags": []
   },
   "outputs": [
    {
     "data": {
      "application/javascript": [
       "parent.postMessage({\"jupyterEvent\": \"custom.exercise_interaction\", \"data\": {\"outcomeType\": 1, \"valueTowardsCompletion\": 0.3333333333333333, \"interactionType\": 1, \"questionType\": 1, \"questionId\": \"2_ReadIn\", \"learnToolsVersion\": \"0.3.4\", \"failureMessage\": \"\", \"exceptionClass\": \"\", \"trace\": \"\"}}, \"*\")"
      ],
      "text/plain": [
       "<IPython.core.display.Javascript object>"
      ]
     },
     "metadata": {},
     "output_type": "display_data"
    },
    {
     "data": {
      "text/markdown": [
       "<span style=\"color:#33cc33\">Correct</span>"
      ],
      "text/plain": [
       "Correct"
      ]
     },
     "metadata": {},
     "output_type": "display_data"
    }
   ],
   "source": [
    "# TODO: Load in the DataFrame correctly.\n",
    "police_killings = pd.read_csv(\"../input/fatal-police-shootings-in-the-us/PoliceKillingsUS.csv\", encoding='Windows-1252')\n",
    "\n",
    "# Check your answer\n",
    "q2.check()"
   ]
  },
  {
   "cell_type": "markdown",
   "id": "c5cd6bec",
   "metadata": {
    "papermill": {
     "duration": 0.004405,
     "end_time": "2022-05-26T06:36:13.971727",
     "exception": false,
     "start_time": "2022-05-26T06:36:13.967322",
     "status": "completed"
    },
    "tags": []
   },
   "source": [
    "Feel free to use any additional code cells for supplemental work.  To get credit for finishing this question, you'll need to run `q2.check()` and get a result of **Correct**."
   ]
  },
  {
   "cell_type": "code",
   "execution_count": 7,
   "id": "14898380",
   "metadata": {
    "execution": {
     "iopub.execute_input": "2022-05-26T06:36:13.983040Z",
     "iopub.status.busy": "2022-05-26T06:36:13.982374Z",
     "iopub.status.idle": "2022-05-26T06:36:13.986849Z",
     "shell.execute_reply": "2022-05-26T06:36:13.986105Z"
    },
    "papermill": {
     "duration": 0.012221,
     "end_time": "2022-05-26T06:36:13.988674",
     "exception": false,
     "start_time": "2022-05-26T06:36:13.976453",
     "status": "completed"
    },
    "tags": []
   },
   "outputs": [],
   "source": [
    "# (Optional) Use this code cell for any additional work."
   ]
  },
  {
   "cell_type": "code",
   "execution_count": 8,
   "id": "670fc53e",
   "metadata": {
    "execution": {
     "iopub.execute_input": "2022-05-26T06:36:14.000490Z",
     "iopub.status.busy": "2022-05-26T06:36:13.999853Z",
     "iopub.status.idle": "2022-05-26T06:36:14.007201Z",
     "shell.execute_reply": "2022-05-26T06:36:14.006556Z"
    },
    "papermill": {
     "duration": 0.015562,
     "end_time": "2022-05-26T06:36:14.008957",
     "exception": false,
     "start_time": "2022-05-26T06:36:13.993395",
     "status": "completed"
    },
    "tags": []
   },
   "outputs": [
    {
     "data": {
      "application/javascript": [
       "parent.postMessage({\"jupyterEvent\": \"custom.exercise_interaction\", \"data\": {\"interactionType\": 3, \"questionType\": 1, \"questionId\": \"2_ReadIn\", \"learnToolsVersion\": \"0.3.4\", \"valueTowardsCompletion\": 0.0, \"failureMessage\": \"\", \"exceptionClass\": \"\", \"trace\": \"\", \"outcomeType\": 4}}, \"*\")"
      ],
      "text/plain": [
       "<IPython.core.display.Javascript object>"
      ]
     },
     "metadata": {},
     "output_type": "display_data"
    },
    {
     "data": {
      "text/markdown": [
       "<span style=\"color:#33cc99\">Solution:</span> \n",
       "```python\n",
       "police_killings = pd.read_csv(\"../input/fatal-police-shootings-in-the-us/PoliceKillingsUS.csv\", encoding='Windows-1252')\n",
       "\n",
       "```"
      ],
      "text/plain": [
       "Solution: \n",
       "```python\n",
       "police_killings = pd.read_csv(\"../input/fatal-police-shootings-in-the-us/PoliceKillingsUS.csv\", encoding='Windows-1252')\n",
       "\n",
       "```"
      ]
     },
     "metadata": {},
     "output_type": "display_data"
    }
   ],
   "source": [
    "# Lines below will give you a hint or solution code\n",
    "#q2.hint()\n",
    "q2.solution()"
   ]
  },
  {
   "cell_type": "markdown",
   "id": "970cdc60",
   "metadata": {
    "papermill": {
     "duration": 0.004891,
     "end_time": "2022-05-26T06:36:14.018623",
     "exception": false,
     "start_time": "2022-05-26T06:36:14.013732",
     "status": "completed"
    },
    "tags": []
   },
   "source": [
    "# 3) Saving your files with UTF-8 encoding\n",
    "\n",
    "Save a version of the police killings dataset to CSV with UTF-8 encoding.  Your answer will be marked correct after saving this file.  \n",
    "\n",
    "Note: When using the `to_csv()` method, supply only the name of the file (e.g., `\"my_file.csv\"`).  This saves the file at the filepath `\"/kaggle/working/my_file.csv\"`."
   ]
  },
  {
   "cell_type": "code",
   "execution_count": 9,
   "id": "43a08578",
   "metadata": {
    "execution": {
     "iopub.execute_input": "2022-05-26T06:36:14.030404Z",
     "iopub.status.busy": "2022-05-26T06:36:14.029657Z",
     "iopub.status.idle": "2022-05-26T06:36:14.061286Z",
     "shell.execute_reply": "2022-05-26T06:36:14.060279Z"
    },
    "papermill": {
     "duration": 0.03959,
     "end_time": "2022-05-26T06:36:14.063155",
     "exception": false,
     "start_time": "2022-05-26T06:36:14.023565",
     "status": "completed"
    },
    "tags": []
   },
   "outputs": [
    {
     "data": {
      "application/javascript": [
       "parent.postMessage({\"jupyterEvent\": \"custom.exercise_interaction\", \"data\": {\"outcomeType\": 1, \"valueTowardsCompletion\": 0.3333333333333333, \"interactionType\": 1, \"questionType\": 2, \"questionId\": \"3_SaveCSV\", \"learnToolsVersion\": \"0.3.4\", \"failureMessage\": \"\", \"exceptionClass\": \"\", \"trace\": \"\"}}, \"*\")"
      ],
      "text/plain": [
       "<IPython.core.display.Javascript object>"
      ]
     },
     "metadata": {},
     "output_type": "display_data"
    },
    {
     "data": {
      "text/markdown": [
       "<span style=\"color:#33cc33\">Correct</span>"
      ],
      "text/plain": [
       "Correct"
      ]
     },
     "metadata": {},
     "output_type": "display_data"
    }
   ],
   "source": [
    "# TODO: Save the police killings dataset to CSV\n",
    "police_killings.to_csv(\"my_file.csv\")\n",
    "\n",
    "# Check your answer\n",
    "q3.check()"
   ]
  },
  {
   "cell_type": "code",
   "execution_count": 10,
   "id": "bc4f37f5",
   "metadata": {
    "execution": {
     "iopub.execute_input": "2022-05-26T06:36:14.074615Z",
     "iopub.status.busy": "2022-05-26T06:36:14.074258Z",
     "iopub.status.idle": "2022-05-26T06:36:14.080024Z",
     "shell.execute_reply": "2022-05-26T06:36:14.079464Z"
    },
    "papermill": {
     "duration": 0.01362,
     "end_time": "2022-05-26T06:36:14.081840",
     "exception": false,
     "start_time": "2022-05-26T06:36:14.068220",
     "status": "completed"
    },
    "tags": []
   },
   "outputs": [
    {
     "data": {
      "application/javascript": [
       "parent.postMessage({\"jupyterEvent\": \"custom.exercise_interaction\", \"data\": {\"interactionType\": 3, \"questionType\": 2, \"questionId\": \"3_SaveCSV\", \"learnToolsVersion\": \"0.3.4\", \"valueTowardsCompletion\": 0.0, \"failureMessage\": \"\", \"exceptionClass\": \"\", \"trace\": \"\", \"outcomeType\": 4}}, \"*\")"
      ],
      "text/plain": [
       "<IPython.core.display.Javascript object>"
      ]
     },
     "metadata": {},
     "output_type": "display_data"
    },
    {
     "data": {
      "text/markdown": [
       "<span style=\"color:#33cc99\">Solution:</span> \n",
       "```python\n",
       "\n",
       "police_killings.to_csv(\"my_file.csv\")\n",
       "\n",
       "```"
      ],
      "text/plain": [
       "Solution: \n",
       "```python\n",
       "\n",
       "police_killings.to_csv(\"my_file.csv\")\n",
       "\n",
       "```"
      ]
     },
     "metadata": {},
     "output_type": "display_data"
    }
   ],
   "source": [
    "# Lines below will give you a hint or solution code\n",
    "#q3.hint()\n",
    "q3.solution()"
   ]
  },
  {
   "cell_type": "markdown",
   "id": "e0dfefd3",
   "metadata": {
    "papermill": {
     "duration": 0.00492,
     "end_time": "2022-05-26T06:36:14.091970",
     "exception": false,
     "start_time": "2022-05-26T06:36:14.087050",
     "status": "completed"
    },
    "tags": []
   },
   "source": [
    "# (Optional) More practice\n",
    "\n",
    "Check out [this dataset of files in different character encodings](https://www.kaggle.com/rtatman/character-encoding-examples). Can you read in all the files with their original encodings and them save them out as UTF-8 files?\n",
    "\n",
    "If you have a file that's in UTF-8 but has just a couple of weird-looking characters in it, you can try out the [ftfy module](https://ftfy.readthedocs.io/en/latest/#) and see if it helps. \n",
    "\n",
    "# Keep going\n",
    "\n",
    "In the final lesson, learn how to [**clean up inconsistent text entries**](https://www.kaggle.com/alexisbcook/inconsistent-data-entry) in your dataset."
   ]
  },
  {
   "cell_type": "markdown",
   "id": "d67002ff",
   "metadata": {
    "papermill": {
     "duration": 0.00487,
     "end_time": "2022-05-26T06:36:14.101991",
     "exception": false,
     "start_time": "2022-05-26T06:36:14.097121",
     "status": "completed"
    },
    "tags": []
   },
   "source": [
    "---\n",
    "\n",
    "\n",
    "\n",
    "\n",
    "*Have questions or comments? Visit the [course discussion forum](https://www.kaggle.com/learn/data-cleaning/discussion) to chat with other learners.*"
   ]
  }
 ],
 "metadata": {
  "kernelspec": {
   "display_name": "Python 3",
   "language": "python",
   "name": "python3"
  },
  "language_info": {
   "codemirror_mode": {
    "name": "ipython",
    "version": 3
   },
   "file_extension": ".py",
   "mimetype": "text/x-python",
   "name": "python",
   "nbconvert_exporter": "python",
   "pygments_lexer": "ipython3",
   "version": "3.7.12"
  },
  "papermill": {
   "default_parameters": {},
   "duration": 9.743525,
   "end_time": "2022-05-26T06:36:14.726924",
   "environment_variables": {},
   "exception": null,
   "input_path": "__notebook__.ipynb",
   "output_path": "__notebook__.ipynb",
   "parameters": {},
   "start_time": "2022-05-26T06:36:04.983399",
   "version": "2.3.4"
  }
 },
 "nbformat": 4,
 "nbformat_minor": 5
}
