{
 "cells": [
  {
   "cell_type": "markdown",
   "id": "6eec834d",
   "metadata": {
    "papermill": {
     "duration": 0.005418,
     "end_time": "2022-08-05T14:56:15.378509",
     "exception": false,
     "start_time": "2022-08-05T14:56:15.373091",
     "status": "completed"
    },
    "tags": []
   },
   "source": [
    "**This notebook is an exercise in the [Intermediate Machine Learning](https://www.kaggle.com/learn/intermediate-machine-learning) course.  You can reference the tutorial at [this link](https://www.kaggle.com/alexisbcook/data-leakage).**\n",
    "\n",
    "---\n"
   ]
  },
  {
   "cell_type": "markdown",
   "id": "43235780",
   "metadata": {
    "papermill": {
     "duration": 0.003847,
     "end_time": "2022-08-05T14:56:15.386883",
     "exception": false,
     "start_time": "2022-08-05T14:56:15.383036",
     "status": "completed"
    },
    "tags": []
   },
   "source": [
    "Most people find target leakage very tricky until they've thought about it for a long time.\n",
    "\n",
    "So, before trying to think about leakage in the housing price example, we'll go through a few examples in other applications. Things will feel more familiar once you come back to a question about house prices.\n",
    "\n",
    "# Setup\n",
    "\n",
    "The questions below will give you feedback on your answers. Run the following cell to set up the feedback system."
   ]
  },
  {
   "cell_type": "code",
   "execution_count": 1,
   "id": "20301e22",
   "metadata": {
    "execution": {
     "iopub.execute_input": "2022-08-05T14:56:15.398293Z",
     "iopub.status.busy": "2022-08-05T14:56:15.397094Z",
     "iopub.status.idle": "2022-08-05T14:56:15.459308Z",
     "shell.execute_reply": "2022-08-05T14:56:15.457286Z"
    },
    "papermill": {
     "duration": 0.071935,
     "end_time": "2022-08-05T14:56:15.462992",
     "exception": false,
     "start_time": "2022-08-05T14:56:15.391057",
     "status": "completed"
    },
    "tags": []
   },
   "outputs": [
    {
     "name": "stdout",
     "output_type": "stream",
     "text": [
      "Setup Complete\n"
     ]
    }
   ],
   "source": [
    "# Set up code checking\n",
    "from learntools.core import binder\n",
    "binder.bind(globals())\n",
    "from learntools.ml_intermediate.ex7 import *\n",
    "print(\"Setup Complete\")"
   ]
  },
  {
   "cell_type": "markdown",
   "id": "db7391e9",
   "metadata": {
    "papermill": {
     "duration": 0.004014,
     "end_time": "2022-08-05T14:56:15.472029",
     "exception": false,
     "start_time": "2022-08-05T14:56:15.468015",
     "status": "completed"
    },
    "tags": []
   },
   "source": [
    "# Step 1: The Data Science of Shoelaces\n",
    "\n",
    "Nike has hired you as a data science consultant to help them save money on shoe materials. Your first assignment is to review a model one of their employees built to predict how many shoelaces they'll need each month. The features going into the machine learning model include:\n",
    "- The current month (January, February, etc)\n",
    "- Advertising expenditures in the previous month\n",
    "- Various macroeconomic features (like the unemployment rate) as of the beginning of the current month\n",
    "- The amount of leather they ended up using in the current month\n",
    "\n",
    "The results show the model is almost perfectly accurate if you include the feature about how much leather they used. But it is only moderately accurate if you leave that feature out. You realize this is because the amount of leather they use is a perfect indicator of how many shoes they produce, which in turn tells you how many shoelaces they need.\n",
    "\n",
    "Do you think the _leather used_ feature constitutes a source of data leakage? If your answer is \"it depends,\" what does it depend on?\n",
    "\n",
    "After you have thought about your answer, check it against the solution below."
   ]
  },
  {
   "cell_type": "code",
   "execution_count": 2,
   "id": "3a582c55",
   "metadata": {
    "execution": {
     "iopub.execute_input": "2022-08-05T14:56:15.482328Z",
     "iopub.status.busy": "2022-08-05T14:56:15.481888Z",
     "iopub.status.idle": "2022-08-05T14:56:15.494614Z",
     "shell.execute_reply": "2022-08-05T14:56:15.493498Z"
    },
    "papermill": {
     "duration": 0.020761,
     "end_time": "2022-08-05T14:56:15.496998",
     "exception": false,
     "start_time": "2022-08-05T14:56:15.476237",
     "status": "completed"
    },
    "tags": []
   },
   "outputs": [
    {
     "data": {
      "application/javascript": [
       "parent.postMessage({\"jupyterEvent\": \"custom.exercise_interaction\", \"data\": {\"outcomeType\": 1, \"valueTowardsCompletion\": 0.2, \"interactionType\": 1, \"questionType\": 4, \"questionId\": \"1_DataScienceOfShoelaces\", \"learnToolsVersion\": \"0.3.4\", \"failureMessage\": \"\", \"exceptionClass\": \"\", \"trace\": \"\"}}, \"*\")"
      ],
      "text/plain": [
       "<IPython.core.display.Javascript object>"
      ]
     },
     "metadata": {},
     "output_type": "display_data"
    },
    {
     "data": {
      "text/markdown": [
       "<span style=\"color:#33cc33\">Correct:</span> \n",
       "\n",
       "This is tricky, and it depends on details of how data is collected (which is common when thinking about leakage). Would you at the beginning of the month decide how much leather will be used that month? If so, this is ok. But if that is determined during the month, you would not have access to it when you make the prediction. If you have a guess at the beginning of the month, and it is subsequently changed during the month, the actual amount used during the month cannot be used as a feature (because it causes leakage)."
      ],
      "text/plain": [
       "Correct: \n",
       "\n",
       "This is tricky, and it depends on details of how data is collected (which is common when thinking about leakage). Would you at the beginning of the month decide how much leather will be used that month? If so, this is ok. But if that is determined during the month, you would not have access to it when you make the prediction. If you have a guess at the beginning of the month, and it is subsequently changed during the month, the actual amount used during the month cannot be used as a feature (because it causes leakage)."
      ]
     },
     "metadata": {},
     "output_type": "display_data"
    }
   ],
   "source": [
    "# Check your answer (Run this code cell to receive credit!)\n",
    "q_1.check()"
   ]
  },
  {
   "cell_type": "markdown",
   "id": "42ea0834",
   "metadata": {
    "papermill": {
     "duration": 0.004449,
     "end_time": "2022-08-05T14:56:15.505995",
     "exception": false,
     "start_time": "2022-08-05T14:56:15.501546",
     "status": "completed"
    },
    "tags": []
   },
   "source": [
    "# Step 2: Return of the Shoelaces\n",
    "\n",
    "You have a new idea. You could use the amount of leather Nike ordered (rather than the amount they actually used) leading up to a given month as a predictor in your shoelace model.\n",
    "\n",
    "Does this change your answer about whether there is a leakage problem? If you answer \"it depends,\" what does it depend on?"
   ]
  },
  {
   "cell_type": "code",
   "execution_count": 3,
   "id": "515441be",
   "metadata": {
    "execution": {
     "iopub.execute_input": "2022-08-05T14:56:15.516878Z",
     "iopub.status.busy": "2022-08-05T14:56:15.516387Z",
     "iopub.status.idle": "2022-08-05T14:56:15.525345Z",
     "shell.execute_reply": "2022-08-05T14:56:15.524569Z"
    },
    "papermill": {
     "duration": 0.016854,
     "end_time": "2022-08-05T14:56:15.527404",
     "exception": false,
     "start_time": "2022-08-05T14:56:15.510550",
     "status": "completed"
    },
    "tags": []
   },
   "outputs": [
    {
     "data": {
      "application/javascript": [
       "parent.postMessage({\"jupyterEvent\": \"custom.exercise_interaction\", \"data\": {\"outcomeType\": 1, \"valueTowardsCompletion\": 0.2, \"interactionType\": 1, \"questionType\": 4, \"questionId\": \"2_RevengeOfShoelaces\", \"learnToolsVersion\": \"0.3.4\", \"failureMessage\": \"\", \"exceptionClass\": \"\", \"trace\": \"\"}}, \"*\")"
      ],
      "text/plain": [
       "<IPython.core.display.Javascript object>"
      ]
     },
     "metadata": {},
     "output_type": "display_data"
    },
    {
     "data": {
      "text/markdown": [
       "<span style=\"color:#33cc33\">Correct:</span> \n",
       "\n",
       "This could be fine, but it depends on whether they order shoelaces first or leather first. If they order shoelaces first, you won't know how much leather they've ordered when you predict their shoelace needs. If they order leather first, then you'll have that number available when you place your shoelace order, and you should be ok."
      ],
      "text/plain": [
       "Correct: \n",
       "\n",
       "This could be fine, but it depends on whether they order shoelaces first or leather first. If they order shoelaces first, you won't know how much leather they've ordered when you predict their shoelace needs. If they order leather first, then you'll have that number available when you place your shoelace order, and you should be ok."
      ]
     },
     "metadata": {},
     "output_type": "display_data"
    }
   ],
   "source": [
    "# Check your answer (Run this code cell to receive credit!)\n",
    "q_2.check()"
   ]
  },
  {
   "cell_type": "markdown",
   "id": "57ccb6ec",
   "metadata": {
    "papermill": {
     "duration": 0.004614,
     "end_time": "2022-08-05T14:56:15.536821",
     "exception": false,
     "start_time": "2022-08-05T14:56:15.532207",
     "status": "completed"
    },
    "tags": []
   },
   "source": [
    "# Step 3: Getting Rich With Cryptocurrencies?\n",
    "\n",
    "You saved Nike so much money that they gave you a bonus. Congratulations.\n",
    "\n",
    "Your friend, who is also a data scientist, says he has built a model that will let you turn your bonus into millions of dollars. Specifically, his model predicts the price of a new cryptocurrency (like Bitcoin, but a newer one) one day ahead of the moment of prediction. His plan is to purchase the cryptocurrency whenever the model says the price of the currency (in dollars) is about to go up.\n",
    "\n",
    "The most important features in his model are:\n",
    "- Current price of the currency\n",
    "- Amount of the currency sold in the last 24 hours\n",
    "- Change in the currency price in the last 24 hours\n",
    "- Change in the currency price in the last 1 hour\n",
    "- Number of new tweets in the last 24 hours that mention the currency\n",
    "\n",
    "The value of the cryptocurrency in dollars has fluctuated up and down by over $\\$$100 in the last year, and yet his model's average error is less than $\\$$1. He says this is proof his model is accurate, and you should invest with him, buying the currency whenever the model says it is about to go up.\n",
    "\n",
    "Is he right? If there is a problem with his model, what is it?"
   ]
  },
  {
   "cell_type": "code",
   "execution_count": 4,
   "id": "8c6557a8",
   "metadata": {
    "execution": {
     "iopub.execute_input": "2022-08-05T14:56:15.548781Z",
     "iopub.status.busy": "2022-08-05T14:56:15.547496Z",
     "iopub.status.idle": "2022-08-05T14:56:15.556364Z",
     "shell.execute_reply": "2022-08-05T14:56:15.555318Z"
    },
    "papermill": {
     "duration": 0.017373,
     "end_time": "2022-08-05T14:56:15.558910",
     "exception": false,
     "start_time": "2022-08-05T14:56:15.541537",
     "status": "completed"
    },
    "tags": []
   },
   "outputs": [
    {
     "data": {
      "application/javascript": [
       "parent.postMessage({\"jupyterEvent\": \"custom.exercise_interaction\", \"data\": {\"outcomeType\": 1, \"valueTowardsCompletion\": 0.2, \"interactionType\": 1, \"questionType\": 4, \"questionId\": \"3_CryptoWealthJK\", \"learnToolsVersion\": \"0.3.4\", \"failureMessage\": \"\", \"exceptionClass\": \"\", \"trace\": \"\"}}, \"*\")"
      ],
      "text/plain": [
       "<IPython.core.display.Javascript object>"
      ]
     },
     "metadata": {},
     "output_type": "display_data"
    },
    {
     "data": {
      "text/markdown": [
       "<span style=\"color:#33cc33\">Correct:</span> \n",
       "\n",
       "There is no source of leakage here. These features should be available at the moment you want to make a predition, and they're unlikely to be changed in the training data after the prediction target is determined. But, the way he describes accuracy could be misleading if you aren't careful. If the price moves gradually, today's price will be an accurate predictor of tomorrow's price, but it may not tell you whether it's a good time to invest. For instance, if it is $100 today, a model predicting a price of $100 tomorrow may seem accurate, even if it can't tell you whether the price is going up or down from the current price. A better prediction target would be the change in price over the next day. If you can consistently predict whether the price is about to go up or down (and by how much), you may have a winning investment opportunity."
      ],
      "text/plain": [
       "Correct: \n",
       "\n",
       "There is no source of leakage here. These features should be available at the moment you want to make a predition, and they're unlikely to be changed in the training data after the prediction target is determined. But, the way he describes accuracy could be misleading if you aren't careful. If the price moves gradually, today's price will be an accurate predictor of tomorrow's price, but it may not tell you whether it's a good time to invest. For instance, if it is $100 today, a model predicting a price of $100 tomorrow may seem accurate, even if it can't tell you whether the price is going up or down from the current price. A better prediction target would be the change in price over the next day. If you can consistently predict whether the price is about to go up or down (and by how much), you may have a winning investment opportunity."
      ]
     },
     "metadata": {},
     "output_type": "display_data"
    }
   ],
   "source": [
    "# Check your answer (Run this code cell to receive credit!)\n",
    "q_3.check()"
   ]
  },
  {
   "cell_type": "markdown",
   "id": "6027a2c8",
   "metadata": {
    "papermill": {
     "duration": 0.004641,
     "end_time": "2022-08-05T14:56:15.568634",
     "exception": false,
     "start_time": "2022-08-05T14:56:15.563993",
     "status": "completed"
    },
    "tags": []
   },
   "source": [
    "# Step 4: Preventing Infections\n",
    "\n",
    "An agency that provides healthcare wants to predict which patients from a rare surgery are at risk of infection, so it can alert the nurses to be especially careful when following up with those patients.\n",
    "\n",
    "You want to build a model. Each row in the modeling dataset will be a single patient who received the surgery, and the prediction target will be whether they got an infection.\n",
    "\n",
    "Some surgeons may do the procedure in a manner that raises or lowers the risk of infection. But how can you best incorporate the surgeon information into the model?\n",
    "\n",
    "You have a clever idea. \n",
    "1. Take all surgeries by each surgeon and calculate the infection rate among those surgeons.\n",
    "2. For each patient in the data, find out who the surgeon was and plug in that surgeon's average infection rate as a feature.\n",
    "\n",
    "Does this pose any target leakage issues?\n",
    "Does it pose any train-test contamination issues?"
   ]
  },
  {
   "cell_type": "code",
   "execution_count": 5,
   "id": "ec7caded",
   "metadata": {
    "execution": {
     "iopub.execute_input": "2022-08-05T14:56:15.579850Z",
     "iopub.status.busy": "2022-08-05T14:56:15.579415Z",
     "iopub.status.idle": "2022-08-05T14:56:15.588148Z",
     "shell.execute_reply": "2022-08-05T14:56:15.587093Z"
    },
    "papermill": {
     "duration": 0.017008,
     "end_time": "2022-08-05T14:56:15.590372",
     "exception": false,
     "start_time": "2022-08-05T14:56:15.573364",
     "status": "completed"
    },
    "tags": []
   },
   "outputs": [
    {
     "data": {
      "application/javascript": [
       "parent.postMessage({\"jupyterEvent\": \"custom.exercise_interaction\", \"data\": {\"outcomeType\": 1, \"valueTowardsCompletion\": 0.2, \"interactionType\": 1, \"questionType\": 4, \"questionId\": \"4_PreventingInfections\", \"learnToolsVersion\": \"0.3.4\", \"failureMessage\": \"\", \"exceptionClass\": \"\", \"trace\": \"\"}}, \"*\")"
      ],
      "text/plain": [
       "<IPython.core.display.Javascript object>"
      ]
     },
     "metadata": {},
     "output_type": "display_data"
    },
    {
     "data": {
      "text/markdown": [
       "<span style=\"color:#33cc33\">Correct:</span> \n",
       "\n",
       "This poses a risk of both target leakage and train-test contamination (though you may be able to avoid both if you are careful).\n",
       "\n",
       "You have target leakage if a given patient's outcome contributes to the infection rate for his surgeon, which is then plugged back into the prediction model for whether that patient becomes infected. You can avoid target leakage if you calculate the surgeon's infection rate by using only the surgeries before the patient we are predicting for. Calculating this for each surgery in your training data may be a little tricky.\n",
       "\n",
       "You also have a train-test contamination problem if you calculate this using all surgeries a surgeon performed, including those from the test-set. The result would be that your model could look very accurate on the test set, even if it wouldn't generalize well to new patients after the model is deployed. This would happen because the surgeon-risk feature accounts for data in the test set. Test sets exist to estimate how the model will do when seeing new data. So this contamination defeats the purpose of the test set."
      ],
      "text/plain": [
       "Correct: \n",
       "\n",
       "This poses a risk of both target leakage and train-test contamination (though you may be able to avoid both if you are careful).\n",
       "\n",
       "You have target leakage if a given patient's outcome contributes to the infection rate for his surgeon, which is then plugged back into the prediction model for whether that patient becomes infected. You can avoid target leakage if you calculate the surgeon's infection rate by using only the surgeries before the patient we are predicting for. Calculating this for each surgery in your training data may be a little tricky.\n",
       "\n",
       "You also have a train-test contamination problem if you calculate this using all surgeries a surgeon performed, including those from the test-set. The result would be that your model could look very accurate on the test set, even if it wouldn't generalize well to new patients after the model is deployed. This would happen because the surgeon-risk feature accounts for data in the test set. Test sets exist to estimate how the model will do when seeing new data. So this contamination defeats the purpose of the test set."
      ]
     },
     "metadata": {},
     "output_type": "display_data"
    }
   ],
   "source": [
    "# Check your answer (Run this code cell to receive credit!)\n",
    "q_4.check()"
   ]
  },
  {
   "cell_type": "markdown",
   "id": "149e3875",
   "metadata": {
    "papermill": {
     "duration": 0.004939,
     "end_time": "2022-08-05T14:56:15.600541",
     "exception": false,
     "start_time": "2022-08-05T14:56:15.595602",
     "status": "completed"
    },
    "tags": []
   },
   "source": [
    "# Step 5: Housing Prices\n",
    "\n",
    "You will build a model to predict housing prices.  The model will be deployed on an ongoing basis, to predict the price of a new house when a description is added to a website.  Here are four features that could be used as predictors.\n",
    "1. Size of the house (in square meters)\n",
    "2. Average sales price of homes in the same neighborhood\n",
    "3. Latitude and longitude of the house\n",
    "4. Whether the house has a basement\n",
    "\n",
    "You have historic data to train and validate the model.\n",
    "\n",
    "Which of the features is most likely to be a source of leakage?"
   ]
  },
  {
   "cell_type": "code",
   "execution_count": 6,
   "id": "e1848e00",
   "metadata": {
    "execution": {
     "iopub.execute_input": "2022-08-05T14:56:15.612848Z",
     "iopub.status.busy": "2022-08-05T14:56:15.612435Z",
     "iopub.status.idle": "2022-08-05T14:56:15.617541Z",
     "shell.execute_reply": "2022-08-05T14:56:15.616105Z"
    },
    "papermill": {
     "duration": 0.014012,
     "end_time": "2022-08-05T14:56:15.620029",
     "exception": false,
     "start_time": "2022-08-05T14:56:15.606017",
     "status": "completed"
    },
    "tags": []
   },
   "outputs": [],
   "source": [
    "# Fill in the line below with one of 1, 2, 3 or 4.\n",
    "potential_leakage_feature = 2"
   ]
  },
  {
   "cell_type": "code",
   "execution_count": 7,
   "id": "75197cd7",
   "metadata": {
    "execution": {
     "iopub.execute_input": "2022-08-05T14:56:15.632225Z",
     "iopub.status.busy": "2022-08-05T14:56:15.631848Z",
     "iopub.status.idle": "2022-08-05T14:56:15.644642Z",
     "shell.execute_reply": "2022-08-05T14:56:15.643240Z"
    },
    "papermill": {
     "duration": 0.021626,
     "end_time": "2022-08-05T14:56:15.647022",
     "exception": false,
     "start_time": "2022-08-05T14:56:15.625396",
     "status": "completed"
    },
    "tags": []
   },
   "outputs": [
    {
     "data": {
      "application/javascript": [
       "parent.postMessage({\"jupyterEvent\": \"custom.exercise_interaction\", \"data\": {\"interactionType\": 2, \"questionType\": 2, \"questionId\": \"5_HomeAgainLeakage\", \"learnToolsVersion\": \"0.3.4\", \"valueTowardsCompletion\": 0.0, \"failureMessage\": \"\", \"exceptionClass\": \"\", \"trace\": \"\", \"outcomeType\": 4}}, \"*\")"
      ],
      "text/plain": [
       "<IPython.core.display.Javascript object>"
      ]
     },
     "metadata": {},
     "output_type": "display_data"
    },
    {
     "data": {
      "text/markdown": [
       "<span style=\"color:#3366cc\">Hint:</span> Which of these features might be updated in a database after the house is     sold? That's the one to worry about."
      ],
      "text/plain": [
       "Hint: Which of these features might be updated in a database after the house is     sold? That's the one to worry about."
      ]
     },
     "metadata": {},
     "output_type": "display_data"
    },
    {
     "data": {
      "application/javascript": [
       "parent.postMessage({\"jupyterEvent\": \"custom.exercise_interaction\", \"data\": {\"interactionType\": 3, \"questionType\": 2, \"questionId\": \"5_HomeAgainLeakage\", \"learnToolsVersion\": \"0.3.4\", \"valueTowardsCompletion\": 0.0, \"failureMessage\": \"\", \"exceptionClass\": \"\", \"trace\": \"\", \"outcomeType\": 4}}, \"*\")"
      ],
      "text/plain": [
       "<IPython.core.display.Javascript object>"
      ]
     },
     "metadata": {},
     "output_type": "display_data"
    },
    {
     "data": {
      "text/markdown": [
       "<span style=\"color:#33cc99\">Solution:</span> 2 is the source of target leakage. Here is an analysis for each feature: \n",
       "\n",
       "1. The size of a house is unlikely to be changed after it is sold (though technically it's possible). But typically this will be available when we need to make a prediction, and the data won't be modified after the home is sold. So it is pretty safe. \n",
       "\n",
       "2. We don't know the rules for when this is updated. If the field is updated in the raw data after a home was sold, and the home's sale is used to calculate the average, this constitutes a case of target leakage. At an extreme, if only one home is sold in the neighborhood, and it is the home we are trying to predict, then the average will be exactly equal to the value we are trying to predict.  In general, for neighborhoods with few sales, the model will perform very well on the training data.  But when you apply the model, the home you are predicting won't have been sold yet, so this feature won't work the same as it did in the training data. \n",
       "\n",
       "3. These don't change, and will be available at the time we want to make a prediction. So there's no risk of target leakage here. \n",
       "\n",
       "4. This also doesn't change, and it is available at the time we want to make a prediction. So there's no risk of target leakage here."
      ],
      "text/plain": [
       "Solution: 2 is the source of target leakage. Here is an analysis for each feature: \n",
       "\n",
       "1. The size of a house is unlikely to be changed after it is sold (though technically it's possible). But typically this will be available when we need to make a prediction, and the data won't be modified after the home is sold. So it is pretty safe. \n",
       "\n",
       "2. We don't know the rules for when this is updated. If the field is updated in the raw data after a home was sold, and the home's sale is used to calculate the average, this constitutes a case of target leakage. At an extreme, if only one home is sold in the neighborhood, and it is the home we are trying to predict, then the average will be exactly equal to the value we are trying to predict.  In general, for neighborhoods with few sales, the model will perform very well on the training data.  But when you apply the model, the home you are predicting won't have been sold yet, so this feature won't work the same as it did in the training data. \n",
       "\n",
       "3. These don't change, and will be available at the time we want to make a prediction. So there's no risk of target leakage here. \n",
       "\n",
       "4. This also doesn't change, and it is available at the time we want to make a prediction. So there's no risk of target leakage here."
      ]
     },
     "metadata": {},
     "output_type": "display_data"
    }
   ],
   "source": [
    "q_5.hint()\n",
    "q_5.solution()"
   ]
  },
  {
   "cell_type": "markdown",
   "id": "f8f21112",
   "metadata": {
    "papermill": {
     "duration": 0.005345,
     "end_time": "2022-08-05T14:56:15.658219",
     "exception": false,
     "start_time": "2022-08-05T14:56:15.652874",
     "status": "completed"
    },
    "tags": []
   },
   "source": [
    "# Conclusion\n",
    "Leakage is a hard and subtle issue. You should be proud if you picked up on the issues in these examples.\n",
    "\n",
    "Now you have the tools to make highly accurate models, and pick up on the most difficult practical problems that arise with applying these models to solve real problems.\n",
    "\n",
    "There is still a lot of room to build knowledge and experience. Try out a [Competition](https://www.kaggle.com/competitions) or look through our [Datasets](https://kaggle.com/datasets) to practice your new skills.\n",
    "\n",
    "Again, Congratulations!"
   ]
  },
  {
   "cell_type": "markdown",
   "id": "c0b26bf5",
   "metadata": {
    "papermill": {
     "duration": 0.005266,
     "end_time": "2022-08-05T14:56:15.669111",
     "exception": false,
     "start_time": "2022-08-05T14:56:15.663845",
     "status": "completed"
    },
    "tags": []
   },
   "source": [
    "---\n",
    "\n",
    "\n",
    "\n",
    "\n",
    "*Have questions or comments? Visit the [course discussion forum](https://www.kaggle.com/learn/intermediate-machine-learning/discussion) to chat with other learners.*"
   ]
  }
 ],
 "metadata": {
  "kernelspec": {
   "display_name": "Python 3",
   "language": "python",
   "name": "python3"
  },
  "language_info": {
   "codemirror_mode": {
    "name": "ipython",
    "version": 3
   },
   "file_extension": ".py",
   "mimetype": "text/x-python",
   "name": "python",
   "nbconvert_exporter": "python",
   "pygments_lexer": "ipython3",
   "version": "3.7.12"
  },
  "papermill": {
   "default_parameters": {},
   "duration": 11.221442,
   "end_time": "2022-08-05T14:56:16.399216",
   "environment_variables": {},
   "exception": null,
   "input_path": "__notebook__.ipynb",
   "output_path": "__notebook__.ipynb",
   "parameters": {},
   "start_time": "2022-08-05T14:56:05.177774",
   "version": "2.3.4"
  }
 },
 "nbformat": 4,
 "nbformat_minor": 5
}
