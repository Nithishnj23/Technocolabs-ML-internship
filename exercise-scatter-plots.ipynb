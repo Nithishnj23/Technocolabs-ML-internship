{
 "cells": [
  {
   "cell_type": "markdown",
   "id": "80451c58",
   "metadata": {
    "papermill": {
     "duration": 0.011977,
     "end_time": "2022-05-27T08:53:39.435340",
     "exception": false,
     "start_time": "2022-05-27T08:53:39.423363",
     "status": "completed"
    },
    "tags": []
   },
   "source": [
    "**This notebook is an exercise in the [Data Visualization](https://www.kaggle.com/learn/data-visualization) course.  You can reference the tutorial at [this link](https://www.kaggle.com/alexisbcook/scatter-plots).**\n",
    "\n",
    "---\n"
   ]
  },
  {
   "cell_type": "markdown",
   "id": "3e2ed205",
   "metadata": {
    "papermill": {
     "duration": 0.008101,
     "end_time": "2022-05-27T08:53:39.451748",
     "exception": false,
     "start_time": "2022-05-27T08:53:39.443647",
     "status": "completed"
    },
    "tags": []
   },
   "source": [
    "In this exercise, you will use your new knowledge to propose a solution to a real-world scenario.  To succeed, you will need to import data into Python, answer questions using the data, and generate **scatter plots** to understand patterns in the data.\n",
    "\n",
    "## Scenario\n",
    "\n",
    "You work for a major candy producer, and your goal is to write a report that your company can use to guide the design of its next product.  Soon after starting your research, you stumble across this [very interesting dataset](https://fivethirtyeight.com/features/the-ultimate-halloween-candy-power-ranking/) containing results from a fun survey to crowdsource favorite candies.\n",
    "\n",
    "## Setup\n",
    "\n",
    "Run the next cell to import and configure the Python libraries that you need to complete the exercise."
   ]
  },
  {
   "cell_type": "code",
   "execution_count": 1,
   "id": "33fa933a",
   "metadata": {
    "execution": {
     "iopub.execute_input": "2022-05-27T08:53:39.471411Z",
     "iopub.status.busy": "2022-05-27T08:53:39.470449Z",
     "iopub.status.idle": "2022-05-27T08:53:40.729725Z",
     "shell.execute_reply": "2022-05-27T08:53:40.728578Z"
    },
    "papermill": {
     "duration": 1.272795,
     "end_time": "2022-05-27T08:53:40.733073",
     "exception": false,
     "start_time": "2022-05-27T08:53:39.460278",
     "status": "completed"
    },
    "tags": []
   },
   "outputs": [
    {
     "name": "stdout",
     "output_type": "stream",
     "text": [
      "Setup Complete\n"
     ]
    }
   ],
   "source": [
    "import pandas as pd\n",
    "pd.plotting.register_matplotlib_converters()\n",
    "import matplotlib.pyplot as plt\n",
    "%matplotlib inline\n",
    "import seaborn as sns\n",
    "print(\"Setup Complete\")"
   ]
  },
  {
   "cell_type": "markdown",
   "id": "e0838e75",
   "metadata": {
    "papermill": {
     "duration": 0.007859,
     "end_time": "2022-05-27T08:53:40.749212",
     "exception": false,
     "start_time": "2022-05-27T08:53:40.741353",
     "status": "completed"
    },
    "tags": []
   },
   "source": [
    "The questions below will give you feedback on your work. Run the following cell to set up our feedback system."
   ]
  },
  {
   "cell_type": "code",
   "execution_count": 2,
   "id": "5af4b73a",
   "metadata": {
    "execution": {
     "iopub.execute_input": "2022-05-27T08:53:40.767408Z",
     "iopub.status.busy": "2022-05-27T08:53:40.766992Z",
     "iopub.status.idle": "2022-05-27T08:53:40.836738Z",
     "shell.execute_reply": "2022-05-27T08:53:40.835590Z"
    },
    "papermill": {
     "duration": 0.0815,
     "end_time": "2022-05-27T08:53:40.839058",
     "exception": false,
     "start_time": "2022-05-27T08:53:40.757558",
     "status": "completed"
    },
    "tags": []
   },
   "outputs": [
    {
     "name": "stdout",
     "output_type": "stream",
     "text": [
      "Setup Complete\n"
     ]
    }
   ],
   "source": [
    "# Set up code checking\n",
    "import os\n",
    "if not os.path.exists(\"../input/candy.csv\"):\n",
    "    os.symlink(\"../input/data-for-datavis/candy.csv\", \"../input/candy.csv\") \n",
    "from learntools.core import binder\n",
    "binder.bind(globals())\n",
    "from learntools.data_viz_to_coder.ex4 import *\n",
    "print(\"Setup Complete\")"
   ]
  },
  {
   "cell_type": "markdown",
   "id": "2303e375",
   "metadata": {
    "papermill": {
     "duration": 0.007778,
     "end_time": "2022-05-27T08:53:40.855042",
     "exception": false,
     "start_time": "2022-05-27T08:53:40.847264",
     "status": "completed"
    },
    "tags": []
   },
   "source": [
    "## Step 1: Load the Data\n",
    "\n",
    "Read the candy data file into `candy_data`.  Use the `\"id\"` column to label the rows."
   ]
  },
  {
   "cell_type": "code",
   "execution_count": 3,
   "id": "cca49184",
   "metadata": {
    "execution": {
     "iopub.execute_input": "2022-05-27T08:53:40.873212Z",
     "iopub.status.busy": "2022-05-27T08:53:40.872471Z",
     "iopub.status.idle": "2022-05-27T08:53:40.888926Z",
     "shell.execute_reply": "2022-05-27T08:53:40.887950Z"
    },
    "papermill": {
     "duration": 0.027927,
     "end_time": "2022-05-27T08:53:40.890993",
     "exception": false,
     "start_time": "2022-05-27T08:53:40.863066",
     "status": "completed"
    },
    "tags": []
   },
   "outputs": [
    {
     "data": {
      "application/javascript": [
       "parent.postMessage({\"jupyterEvent\": \"custom.exercise_interaction\", \"data\": {\"outcomeType\": 1, \"valueTowardsCompletion\": 0.3333333333333333, \"interactionType\": 1, \"questionType\": 1, \"questionId\": \"1_LoadData\", \"learnToolsVersion\": \"0.3.4\", \"failureMessage\": \"\", \"exceptionClass\": \"\", \"trace\": \"\"}}, \"*\")"
      ],
      "text/plain": [
       "<IPython.core.display.Javascript object>"
      ]
     },
     "metadata": {},
     "output_type": "display_data"
    },
    {
     "data": {
      "text/markdown": [
       "<span style=\"color:#33cc33\">Correct</span>"
      ],
      "text/plain": [
       "Correct"
      ]
     },
     "metadata": {},
     "output_type": "display_data"
    }
   ],
   "source": [
    "# Path of the file to read\n",
    "candy_filepath = \"../input/candy.csv\"\n",
    "\n",
    "# Fill in the line below to read the file into a variable candy_data\n",
    "candy_data = pd.read_csv(candy_filepath, index_col=\"id\")\n",
    "\n",
    "# Run the line below with no changes to check that you've loaded the data correctly\n",
    "step_1.check()"
   ]
  },
  {
   "cell_type": "markdown",
   "id": "49352fe3",
   "metadata": {
    "papermill": {
     "duration": 0.008138,
     "end_time": "2022-05-27T08:53:40.907446",
     "exception": false,
     "start_time": "2022-05-27T08:53:40.899308",
     "status": "completed"
    },
    "tags": []
   },
   "source": [
    "## Step 2: Review the data\n",
    "\n",
    "Use a Python command to print the first five rows of the data."
   ]
  },
  {
   "cell_type": "code",
   "execution_count": 4,
   "id": "7581b97a",
   "metadata": {
    "execution": {
     "iopub.execute_input": "2022-05-27T08:53:40.926079Z",
     "iopub.status.busy": "2022-05-27T08:53:40.925477Z",
     "iopub.status.idle": "2022-05-27T08:53:40.948970Z",
     "shell.execute_reply": "2022-05-27T08:53:40.947958Z"
    },
    "papermill": {
     "duration": 0.035186,
     "end_time": "2022-05-27T08:53:40.951081",
     "exception": false,
     "start_time": "2022-05-27T08:53:40.915895",
     "status": "completed"
    },
    "tags": []
   },
   "outputs": [
    {
     "data": {
      "text/html": [
       "<div>\n",
       "<style scoped>\n",
       "    .dataframe tbody tr th:only-of-type {\n",
       "        vertical-align: middle;\n",
       "    }\n",
       "\n",
       "    .dataframe tbody tr th {\n",
       "        vertical-align: top;\n",
       "    }\n",
       "\n",
       "    .dataframe thead th {\n",
       "        text-align: right;\n",
       "    }\n",
       "</style>\n",
       "<table border=\"1\" class=\"dataframe\">\n",
       "  <thead>\n",
       "    <tr style=\"text-align: right;\">\n",
       "      <th></th>\n",
       "      <th>competitorname</th>\n",
       "      <th>chocolate</th>\n",
       "      <th>fruity</th>\n",
       "      <th>caramel</th>\n",
       "      <th>peanutyalmondy</th>\n",
       "      <th>nougat</th>\n",
       "      <th>crispedricewafer</th>\n",
       "      <th>hard</th>\n",
       "      <th>bar</th>\n",
       "      <th>pluribus</th>\n",
       "      <th>sugarpercent</th>\n",
       "      <th>pricepercent</th>\n",
       "      <th>winpercent</th>\n",
       "    </tr>\n",
       "    <tr>\n",
       "      <th>id</th>\n",
       "      <th></th>\n",
       "      <th></th>\n",
       "      <th></th>\n",
       "      <th></th>\n",
       "      <th></th>\n",
       "      <th></th>\n",
       "      <th></th>\n",
       "      <th></th>\n",
       "      <th></th>\n",
       "      <th></th>\n",
       "      <th></th>\n",
       "      <th></th>\n",
       "      <th></th>\n",
       "    </tr>\n",
       "  </thead>\n",
       "  <tbody>\n",
       "    <tr>\n",
       "      <th>0</th>\n",
       "      <td>100 Grand</td>\n",
       "      <td>Yes</td>\n",
       "      <td>No</td>\n",
       "      <td>Yes</td>\n",
       "      <td>No</td>\n",
       "      <td>No</td>\n",
       "      <td>Yes</td>\n",
       "      <td>No</td>\n",
       "      <td>Yes</td>\n",
       "      <td>No</td>\n",
       "      <td>0.732</td>\n",
       "      <td>0.860</td>\n",
       "      <td>66.971725</td>\n",
       "    </tr>\n",
       "    <tr>\n",
       "      <th>1</th>\n",
       "      <td>3 Musketeers</td>\n",
       "      <td>Yes</td>\n",
       "      <td>No</td>\n",
       "      <td>No</td>\n",
       "      <td>No</td>\n",
       "      <td>Yes</td>\n",
       "      <td>No</td>\n",
       "      <td>No</td>\n",
       "      <td>Yes</td>\n",
       "      <td>No</td>\n",
       "      <td>0.604</td>\n",
       "      <td>0.511</td>\n",
       "      <td>67.602936</td>\n",
       "    </tr>\n",
       "    <tr>\n",
       "      <th>2</th>\n",
       "      <td>Air Heads</td>\n",
       "      <td>No</td>\n",
       "      <td>Yes</td>\n",
       "      <td>No</td>\n",
       "      <td>No</td>\n",
       "      <td>No</td>\n",
       "      <td>No</td>\n",
       "      <td>No</td>\n",
       "      <td>No</td>\n",
       "      <td>No</td>\n",
       "      <td>0.906</td>\n",
       "      <td>0.511</td>\n",
       "      <td>52.341465</td>\n",
       "    </tr>\n",
       "    <tr>\n",
       "      <th>3</th>\n",
       "      <td>Almond Joy</td>\n",
       "      <td>Yes</td>\n",
       "      <td>No</td>\n",
       "      <td>No</td>\n",
       "      <td>Yes</td>\n",
       "      <td>No</td>\n",
       "      <td>No</td>\n",
       "      <td>No</td>\n",
       "      <td>Yes</td>\n",
       "      <td>No</td>\n",
       "      <td>0.465</td>\n",
       "      <td>0.767</td>\n",
       "      <td>50.347546</td>\n",
       "    </tr>\n",
       "    <tr>\n",
       "      <th>4</th>\n",
       "      <td>Baby Ruth</td>\n",
       "      <td>Yes</td>\n",
       "      <td>No</td>\n",
       "      <td>Yes</td>\n",
       "      <td>Yes</td>\n",
       "      <td>Yes</td>\n",
       "      <td>No</td>\n",
       "      <td>No</td>\n",
       "      <td>Yes</td>\n",
       "      <td>No</td>\n",
       "      <td>0.604</td>\n",
       "      <td>0.767</td>\n",
       "      <td>56.914547</td>\n",
       "    </tr>\n",
       "  </tbody>\n",
       "</table>\n",
       "</div>"
      ],
      "text/plain": [
       "   competitorname chocolate fruity caramel peanutyalmondy nougat  \\\n",
       "id                                                                 \n",
       "0       100 Grand       Yes     No     Yes             No     No   \n",
       "1    3 Musketeers       Yes     No      No             No    Yes   \n",
       "2       Air Heads        No    Yes      No             No     No   \n",
       "3      Almond Joy       Yes     No      No            Yes     No   \n",
       "4       Baby Ruth       Yes     No     Yes            Yes    Yes   \n",
       "\n",
       "   crispedricewafer hard  bar pluribus  sugarpercent  pricepercent  winpercent  \n",
       "id                                                                              \n",
       "0               Yes   No  Yes       No         0.732         0.860   66.971725  \n",
       "1                No   No  Yes       No         0.604         0.511   67.602936  \n",
       "2                No   No   No       No         0.906         0.511   52.341465  \n",
       "3                No   No  Yes       No         0.465         0.767   50.347546  \n",
       "4                No   No  Yes       No         0.604         0.767   56.914547  "
      ]
     },
     "execution_count": 4,
     "metadata": {},
     "output_type": "execute_result"
    }
   ],
   "source": [
    "# Print the first five rows of the data\n",
    "candy_data.head(5) # Your code here"
   ]
  },
  {
   "cell_type": "markdown",
   "id": "64030bc0",
   "metadata": {
    "papermill": {
     "duration": 0.008457,
     "end_time": "2022-05-27T08:53:40.968277",
     "exception": false,
     "start_time": "2022-05-27T08:53:40.959820",
     "status": "completed"
    },
    "tags": []
   },
   "source": [
    "The dataset contains 83 rows, where each corresponds to a different candy bar.  There are 13 columns:\n",
    "- `'competitorname'` contains the name of the candy bar. \n",
    "- the next **9** columns (from `'chocolate'` to `'pluribus'`) describe the candy.  For instance, rows with chocolate candies have `\"Yes\"` in the `'chocolate'` column (and candies without chocolate have `\"No\"` in the same column).\n",
    "- `'sugarpercent'` provides some indication of the amount of sugar, where higher values signify higher sugar content.\n",
    "- `'pricepercent'` shows the price per unit, relative to the other candies in the dataset.\n",
    "- `'winpercent'` is calculated from the survey results; higher values indicate that the candy was more popular with survey respondents.\n",
    "\n",
    "Use the first five rows of the data to answer the questions below."
   ]
  },
  {
   "cell_type": "markdown",
   "id": "71ec222b",
   "metadata": {
    "papermill": {
     "duration": 0.008498,
     "end_time": "2022-05-27T08:53:40.985589",
     "exception": false,
     "start_time": "2022-05-27T08:53:40.977091",
     "status": "completed"
    },
    "tags": []
   },
   "source": [
    "## Step 3: The role of sugar\n",
    "\n",
    "Do people tend to prefer candies with higher sugar content?  \n",
    "\n",
    "#### Part A\n",
    "\n",
    "Create a scatter plot that shows the relationship between `'sugarpercent'` (on the horizontal x-axis) and `'winpercent'` (on the vertical y-axis).  _Don't add a regression line just yet -- you'll do that in the next step!_"
   ]
  },
  {
   "cell_type": "code",
   "execution_count": 5,
   "id": "31b781fd",
   "metadata": {
    "execution": {
     "iopub.execute_input": "2022-05-27T08:53:41.005180Z",
     "iopub.status.busy": "2022-05-27T08:53:41.004579Z",
     "iopub.status.idle": "2022-05-27T08:53:41.255102Z",
     "shell.execute_reply": "2022-05-27T08:53:41.253794Z"
    },
    "papermill": {
     "duration": 0.263077,
     "end_time": "2022-05-27T08:53:41.257479",
     "exception": false,
     "start_time": "2022-05-27T08:53:40.994402",
     "status": "completed"
    },
    "tags": []
   },
   "outputs": [
    {
     "data": {
      "application/javascript": [
       "parent.postMessage({\"jupyterEvent\": \"custom.exercise_interaction\", \"data\": {\"outcomeType\": 1, \"valueTowardsCompletion\": 0.3333333333333333, \"interactionType\": 1, \"questionType\": 2, \"questionId\": \"3.1_PlotBlueScatter\", \"learnToolsVersion\": \"0.3.4\", \"failureMessage\": \"\", \"exceptionClass\": \"\", \"trace\": \"\"}}, \"*\")"
      ],
      "text/plain": [
       "<IPython.core.display.Javascript object>"
      ]
     },
     "metadata": {},
     "output_type": "display_data"
    },
    {
     "data": {
      "text/markdown": [
       "<span style=\"color:#33cc33\">Correct</span>"
      ],
      "text/plain": [
       "Correct"
      ]
     },
     "metadata": {},
     "output_type": "display_data"
    },
    {
     "data": {
      "image/png": "[encoded data removed]",
      "text/plain": [
       "<Figure size 432x288 with 1 Axes>"
      ]
     },
     "metadata": {
      "needs_background": "light"
     },
     "output_type": "display_data"
    }
   ],
   "source": [
    "# Scatter plot showing the relationship between 'sugarpercent' and 'winpercent'\n",
    "sns.scatterplot(x=candy_data['sugarpercent'], y=candy_data['winpercent'])\n",
    "\n",
    "# Check your answer\n",
    "step_3.a.check()"
   ]
  },
  {
   "cell_type": "markdown",
   "id": "ecd10102",
   "metadata": {
    "papermill": {
     "duration": 0.009131,
     "end_time": "2022-05-27T08:53:41.276636",
     "exception": false,
     "start_time": "2022-05-27T08:53:41.267505",
     "status": "completed"
    },
    "tags": []
   },
   "source": [
    "#### Part B\n",
    "\n",
    "Does the scatter plot show a **strong** correlation between the two variables?  If so, are candies with more sugar relatively more or less popular with the survey respondents?"
   ]
  },
  {
   "cell_type": "code",
   "execution_count": 6,
   "id": "72f89307",
   "metadata": {
    "execution": {
     "iopub.execute_input": "2022-05-27T08:53:41.297145Z",
     "iopub.status.busy": "2022-05-27T08:53:41.296760Z",
     "iopub.status.idle": "2022-05-27T08:53:41.301103Z",
     "shell.execute_reply": "2022-05-27T08:53:41.300026Z"
    },
    "papermill": {
     "duration": 0.017671,
     "end_time": "2022-05-27T08:53:41.303632",
     "exception": false,
     "start_time": "2022-05-27T08:53:41.285961",
     "status": "completed"
    },
    "tags": []
   },
   "outputs": [],
   "source": [
    "#step_3.b.hint()"
   ]
  },
  {
   "cell_type": "code",
   "execution_count": 7,
   "id": "469e441d",
   "metadata": {
    "execution": {
     "iopub.execute_input": "2022-05-27T08:53:41.324552Z",
     "iopub.status.busy": "2022-05-27T08:53:41.324178Z",
     "iopub.status.idle": "2022-05-27T08:53:41.330629Z",
     "shell.execute_reply": "2022-05-27T08:53:41.329945Z"
    },
    "papermill": {
     "duration": 0.019322,
     "end_time": "2022-05-27T08:53:41.332778",
     "exception": false,
     "start_time": "2022-05-27T08:53:41.313456",
     "status": "completed"
    },
    "tags": []
   },
   "outputs": [
    {
     "data": {
      "application/javascript": [
       "parent.postMessage({\"jupyterEvent\": \"custom.exercise_interaction\", \"data\": {\"interactionType\": 3, \"questionType\": 4, \"questionId\": \"3.2_ThinkBlueScatter\", \"learnToolsVersion\": \"0.3.4\", \"valueTowardsCompletion\": 0.0, \"failureMessage\": \"\", \"exceptionClass\": \"\", \"trace\": \"\", \"outcomeType\": 4}}, \"*\")"
      ],
      "text/plain": [
       "<IPython.core.display.Javascript object>"
      ]
     },
     "metadata": {},
     "output_type": "display_data"
    },
    {
     "data": {
      "text/markdown": [
       "<span style=\"color:#33cc99\">Solution:</span> The scatter plot does not show a strong correlation between the two variables. Since there is no clear relationship between the two variables, this tells us that sugar content does not play a strong role in candy popularity."
      ],
      "text/plain": [
       "Solution: The scatter plot does not show a strong correlation between the two variables. Since there is no clear relationship between the two variables, this tells us that sugar content does not play a strong role in candy popularity."
      ]
     },
     "metadata": {},
     "output_type": "display_data"
    }
   ],
   "source": [
    "# Check your answer (Run this code cell to receive credit!)\n",
    "step_3.b.solution()"
   ]
  },
  {
   "cell_type": "markdown",
   "id": "d8cbd57f",
   "metadata": {
    "papermill": {
     "duration": 0.009848,
     "end_time": "2022-05-27T08:53:41.352332",
     "exception": false,
     "start_time": "2022-05-27T08:53:41.342484",
     "status": "completed"
    },
    "tags": []
   },
   "source": [
    "## Step 4: Take a closer look\n",
    "\n",
    "#### Part A\n",
    "\n",
    "Create the same scatter plot you created in **Step 3**, but now with a regression line!"
   ]
  },
  {
   "cell_type": "code",
   "execution_count": 8,
   "id": "274fcf6c",
   "metadata": {
    "execution": {
     "iopub.execute_input": "2022-05-27T08:53:41.373594Z",
     "iopub.status.busy": "2022-05-27T08:53:41.372673Z",
     "iopub.status.idle": "2022-05-27T08:53:41.683930Z",
     "shell.execute_reply": "2022-05-27T08:53:41.683168Z"
    },
    "papermill": {
     "duration": 0.324019,
     "end_time": "2022-05-27T08:53:41.685963",
     "exception": false,
     "start_time": "2022-05-27T08:53:41.361944",
     "status": "completed"
    },
    "tags": []
   },
   "outputs": [
    {
     "data": {
      "application/javascript": [
       "parent.postMessage({\"jupyterEvent\": \"custom.exercise_interaction\", \"data\": {\"outcomeType\": 1, \"valueTowardsCompletion\": 0.3333333333333333, \"interactionType\": 1, \"questionType\": 2, \"questionId\": \"4.1_PlotBlueReg\", \"learnToolsVersion\": \"0.3.4\", \"failureMessage\": \"\", \"exceptionClass\": \"\", \"trace\": \"\"}}, \"*\")"
      ],
      "text/plain": [
       "<IPython.core.display.Javascript object>"
      ]
     },
     "metadata": {},
     "output_type": "display_data"
    },
    {
     "data": {
      "text/markdown": [
       "<span style=\"color:#33cc33\">Correct</span>"
      ],
      "text/plain": [
       "Correct"
      ]
     },
     "metadata": {},
     "output_type": "display_data"
    },
    {
     "data": {
      "image/png": "[encoded data removed]",
      "text/plain": [
       "<Figure size 432x288 with 1 Axes>"
      ]
     },
     "metadata": {
      "needs_background": "light"
     },
     "output_type": "display_data"
    }
   ],
   "source": [
    "# Scatter plot w/ regression line showing the relationship between 'sugarpercent' and 'winpercent'\n",
    "sns.regplot(x=candy_data['sugarpercent'], y=candy_data['winpercent'])\n",
    "# Check your answer\n",
    "step_4.a.check()"
   ]
  },
  {
   "cell_type": "markdown",
   "id": "684eb770",
   "metadata": {
    "papermill": {
     "duration": 0.009908,
     "end_time": "2022-05-27T08:53:41.706693",
     "exception": false,
     "start_time": "2022-05-27T08:53:41.696785",
     "status": "completed"
    },
    "tags": []
   },
   "source": [
    "#### Part B\n",
    "\n",
    "According to the plot above, is there a **slight** correlation between `'winpercent'` and `'sugarpercent'`?  What does this tell you about the candy that people tend to prefer?"
   ]
  },
  {
   "cell_type": "code",
   "execution_count": 9,
   "id": "d25bd9b8",
   "metadata": {
    "execution": {
     "iopub.execute_input": "2022-05-27T08:53:41.729937Z",
     "iopub.status.busy": "2022-05-27T08:53:41.729252Z",
     "iopub.status.idle": "2022-05-27T08:53:41.733132Z",
     "shell.execute_reply": "2022-05-27T08:53:41.732166Z"
    },
    "papermill": {
     "duration": 0.018031,
     "end_time": "2022-05-27T08:53:41.735540",
     "exception": false,
     "start_time": "2022-05-27T08:53:41.717509",
     "status": "completed"
    },
    "tags": []
   },
   "outputs": [],
   "source": [
    "#step_4.b.hint()"
   ]
  },
  {
   "cell_type": "code",
   "execution_count": 10,
   "id": "8c460908",
   "metadata": {
    "execution": {
     "iopub.execute_input": "2022-05-27T08:53:41.758666Z",
     "iopub.status.busy": "2022-05-27T08:53:41.757527Z",
     "iopub.status.idle": "2022-05-27T08:53:41.765227Z",
     "shell.execute_reply": "2022-05-27T08:53:41.764237Z"
    },
    "papermill": {
     "duration": 0.021319,
     "end_time": "2022-05-27T08:53:41.767303",
     "exception": false,
     "start_time": "2022-05-27T08:53:41.745984",
     "status": "completed"
    },
    "tags": []
   },
   "outputs": [
    {
     "data": {
      "application/javascript": [
       "parent.postMessage({\"jupyterEvent\": \"custom.exercise_interaction\", \"data\": {\"interactionType\": 3, \"questionType\": 4, \"questionId\": \"4.2_ThinkBlueReg\", \"learnToolsVersion\": \"0.3.4\", \"valueTowardsCompletion\": 0.0, \"failureMessage\": \"\", \"exceptionClass\": \"\", \"trace\": \"\", \"outcomeType\": 4}}, \"*\")"
      ],
      "text/plain": [
       "<IPython.core.display.Javascript object>"
      ]
     },
     "metadata": {},
     "output_type": "display_data"
    },
    {
     "data": {
      "text/markdown": [
       "<span style=\"color:#33cc99\">Solution:</span> Since the regression line has a slightly positive slope, this tells us that there is a slightly positive correlation between `'winpercent'` and `'sugarpercent'`. Thus, people have a slight preference for candies containing relatively more sugar."
      ],
      "text/plain": [
       "Solution: Since the regression line has a slightly positive slope, this tells us that there is a slightly positive correlation between `'winpercent'` and `'sugarpercent'`. Thus, people have a slight preference for candies containing relatively more sugar."
      ]
     },
     "metadata": {},
     "output_type": "display_data"
    }
   ],
   "source": [
    "# Check your answer (Run this code cell to receive credit!)\n",
    "step_4.b.solution()"
   ]
  },
  {
   "cell_type": "markdown",
   "id": "2a2de995",
   "metadata": {
    "papermill": {
     "duration": 0.010385,
     "end_time": "2022-05-27T08:53:41.788900",
     "exception": false,
     "start_time": "2022-05-27T08:53:41.778515",
     "status": "completed"
    },
    "tags": []
   },
   "source": [
    "## Step 5: Chocolate!\n",
    "\n",
    "In the code cell below, create a scatter plot to show the relationship between `'pricepercent'` (on the horizontal x-axis) and `'winpercent'` (on the vertical y-axis). Use the `'chocolate'` column to color-code the points.  _Don't add any regression lines just yet -- you'll do that in the next step!_"
   ]
  },
  {
   "cell_type": "code",
   "execution_count": 11,
   "id": "7bbd80f7",
   "metadata": {
    "execution": {
     "iopub.execute_input": "2022-05-27T08:53:41.811801Z",
     "iopub.status.busy": "2022-05-27T08:53:41.811356Z",
     "iopub.status.idle": "2022-05-27T08:53:42.074240Z",
     "shell.execute_reply": "2022-05-27T08:53:42.073177Z"
    },
    "papermill": {
     "duration": 0.276841,
     "end_time": "2022-05-27T08:53:42.076489",
     "exception": false,
     "start_time": "2022-05-27T08:53:41.799648",
     "status": "completed"
    },
    "tags": []
   },
   "outputs": [
    {
     "data": {
      "application/javascript": [
       "parent.postMessage({\"jupyterEvent\": \"custom.exercise_interaction\", \"data\": {\"outcomeType\": 1, \"valueTowardsCompletion\": 0.3333333333333333, \"interactionType\": 1, \"questionType\": 2, \"questionId\": \"5_ColorScatter\", \"learnToolsVersion\": \"0.3.4\", \"failureMessage\": \"\", \"exceptionClass\": \"\", \"trace\": \"\"}}, \"*\")"
      ],
      "text/plain": [
       "<IPython.core.display.Javascript object>"
      ]
     },
     "metadata": {},
     "output_type": "display_data"
    },
    {
     "data": {
      "text/markdown": [
       "<span style=\"color:#33cc33\">Correct</span>"
      ],
      "text/plain": [
       "Correct"
      ]
     },
     "metadata": {},
     "output_type": "display_data"
    },
    {
     "data": {
      "image/png": "[encoded data removed]",
      "text/plain": [
       "<Figure size 432x288 with 1 Axes>"
      ]
     },
     "metadata": {
      "needs_background": "light"
     },
     "output_type": "display_data"
    }
   ],
   "source": [
    "# Scatter plot showing the relationship between 'pricepercent', 'winpercent', and 'chocolate'\n",
    "sns.scatterplot(x=candy_data['pricepercent'], y=candy_data['winpercent'], hue=candy_data['chocolate'])\n",
    "# Check your answer\n",
    "step_5.check()"
   ]
  },
  {
   "cell_type": "markdown",
   "id": "ad5ca83e",
   "metadata": {
    "papermill": {
     "duration": 0.011056,
     "end_time": "2022-05-27T08:53:42.099114",
     "exception": false,
     "start_time": "2022-05-27T08:53:42.088058",
     "status": "completed"
    },
    "tags": []
   },
   "source": [
    "Can you see any interesting patterns in the scatter plot?  We'll investigate this plot further  by adding regression lines in the next step!\n",
    "\n",
    "## Step 6: Investigate chocolate\n",
    "\n",
    "#### Part A\n",
    "\n",
    "Create the same scatter plot you created in **Step 5**, but now with two regression lines, corresponding to (1) chocolate candies and (2) candies without chocolate."
   ]
  },
  {
   "cell_type": "code",
   "execution_count": 12,
   "id": "d83f8f2d",
   "metadata": {
    "execution": {
     "iopub.execute_input": "2022-05-27T08:53:42.123528Z",
     "iopub.status.busy": "2022-05-27T08:53:42.123083Z",
     "iopub.status.idle": "2022-05-27T08:53:42.683600Z",
     "shell.execute_reply": "2022-05-27T08:53:42.682360Z"
    },
    "papermill": {
     "duration": 0.575591,
     "end_time": "2022-05-27T08:53:42.686010",
     "exception": false,
     "start_time": "2022-05-27T08:53:42.110419",
     "status": "completed"
    },
    "tags": []
   },
   "outputs": [
    {
     "data": {
      "application/javascript": [
       "parent.postMessage({\"jupyterEvent\": \"custom.exercise_interaction\", \"data\": {\"outcomeType\": 1, \"valueTowardsCompletion\": 0.3333333333333333, \"interactionType\": 1, \"questionType\": 2, \"questionId\": \"6.1_PlotColorReg\", \"learnToolsVersion\": \"0.3.4\", \"failureMessage\": \"\", \"exceptionClass\": \"\", \"trace\": \"\"}}, \"*\")"
      ],
      "text/plain": [
       "<IPython.core.display.Javascript object>"
      ]
     },
     "metadata": {},
     "output_type": "display_data"
    },
    {
     "data": {
      "text/markdown": [
       "<span style=\"color:#33cc33\">Correct</span>"
      ],
      "text/plain": [
       "Correct"
      ]
     },
     "metadata": {},
     "output_type": "display_data"
    },
    {
     "data": {
      "image/png": "[encoded data removed]",
      "text/plain": [
       "<Figure size 416.375x360 with 1 Axes>"
      ]
     },
     "metadata": {
      "needs_background": "light"
     },
     "output_type": "display_data"
    }
   ],
   "source": [
    "# Color-coded scatter plot w/ regression lines\n",
    "sns.lmplot(x=\"pricepercent\", y=\"winpercent\", hue=\"chocolate\", data=candy_data)\n",
    "# Check your answer\n",
    "step_6.a.check()"
   ]
  },
  {
   "cell_type": "markdown",
   "id": "6decec0e",
   "metadata": {
    "papermill": {
     "duration": 0.011822,
     "end_time": "2022-05-27T08:53:42.710049",
     "exception": false,
     "start_time": "2022-05-27T08:53:42.698227",
     "status": "completed"
    },
    "tags": []
   },
   "source": [
    "#### Part B\n",
    "\n",
    "Using the regression lines, what conclusions can you draw about the effects of chocolate and price on candy popularity?"
   ]
  },
  {
   "cell_type": "code",
   "execution_count": 13,
   "id": "bb91840e",
   "metadata": {
    "execution": {
     "iopub.execute_input": "2022-05-27T08:53:42.736735Z",
     "iopub.status.busy": "2022-05-27T08:53:42.736323Z",
     "iopub.status.idle": "2022-05-27T08:53:42.740933Z",
     "shell.execute_reply": "2022-05-27T08:53:42.739789Z"
    },
    "papermill": {
     "duration": 0.020269,
     "end_time": "2022-05-27T08:53:42.743482",
     "exception": false,
     "start_time": "2022-05-27T08:53:42.723213",
     "status": "completed"
    },
    "tags": []
   },
   "outputs": [],
   "source": [
    "#step_6.b.hint()"
   ]
  },
  {
   "cell_type": "code",
   "execution_count": 14,
   "id": "b76790b1",
   "metadata": {
    "execution": {
     "iopub.execute_input": "2022-05-27T08:53:42.770580Z",
     "iopub.status.busy": "2022-05-27T08:53:42.769720Z",
     "iopub.status.idle": "2022-05-27T08:53:42.778958Z",
     "shell.execute_reply": "2022-05-27T08:53:42.777796Z"
    },
    "papermill": {
     "duration": 0.025502,
     "end_time": "2022-05-27T08:53:42.781270",
     "exception": false,
     "start_time": "2022-05-27T08:53:42.755768",
     "status": "completed"
    },
    "tags": []
   },
   "outputs": [
    {
     "data": {
      "application/javascript": [
       "parent.postMessage({\"jupyterEvent\": \"custom.exercise_interaction\", \"data\": {\"interactionType\": 3, \"questionType\": 4, \"questionId\": \"6.2_ThinkColorReg\", \"learnToolsVersion\": \"0.3.4\", \"valueTowardsCompletion\": 0.0, \"failureMessage\": \"\", \"exceptionClass\": \"\", \"trace\": \"\", \"outcomeType\": 4}}, \"*\")"
      ],
      "text/plain": [
       "<IPython.core.display.Javascript object>"
      ]
     },
     "metadata": {},
     "output_type": "display_data"
    },
    {
     "data": {
      "text/markdown": [
       "<span style=\"color:#33cc99\">Solution:</span> We'll begin with the regression line for chocolate candies. Since this line has a slightly positive slope, we can say that more expensive chocolate candies tend to be more popular (than relatively cheaper chocolate candies).  Likewise, since the regression line for candies without chocolate has a negative slope, we can say that if candies don't contain chocolate, they tend to be more popular when they are cheaper.  One important note, however, is that the dataset is quite small -- so we shouldn't invest too much trust in these patterns!  To inspire more confidence in the results, we should add more candies to the dataset."
      ],
      "text/plain": [
       "Solution: We'll begin with the regression line for chocolate candies. Since this line has a slightly positive slope, we can say that more expensive chocolate candies tend to be more popular (than relatively cheaper chocolate candies).  Likewise, since the regression line for candies without chocolate has a negative slope, we can say that if candies don't contain chocolate, they tend to be more popular when they are cheaper.  One important note, however, is that the dataset is quite small -- so we shouldn't invest too much trust in these patterns!  To inspire more confidence in the results, we should add more candies to the dataset."
      ]
     },
     "metadata": {},
     "output_type": "display_data"
    }
   ],
   "source": [
    "# Check your answer (Run this code cell to receive credit!)\n",
    "step_6.b.solution()"
   ]
  },
  {
   "cell_type": "markdown",
   "id": "99207af5",
   "metadata": {
    "papermill": {
     "duration": 0.013179,
     "end_time": "2022-05-27T08:53:42.806761",
     "exception": false,
     "start_time": "2022-05-27T08:53:42.793582",
     "status": "completed"
    },
    "tags": []
   },
   "source": [
    "## Step 7: Everybody loves chocolate.\n",
    "\n",
    "#### Part A\n",
    "\n",
    "Create a categorical scatter plot to highlight the relationship between `'chocolate'` and `'winpercent'`.  Put `'chocolate'` on the (horizontal) x-axis, and `'winpercent'` on the (vertical) y-axis."
   ]
  },
  {
   "cell_type": "code",
   "execution_count": 15,
   "id": "34529bb0",
   "metadata": {
    "execution": {
     "iopub.execute_input": "2022-05-27T08:53:42.833581Z",
     "iopub.status.busy": "2022-05-27T08:53:42.833214Z",
     "iopub.status.idle": "2022-05-27T08:53:43.390991Z",
     "shell.execute_reply": "2022-05-27T08:53:43.390023Z"
    },
    "papermill": {
     "duration": 0.574012,
     "end_time": "2022-05-27T08:53:43.393431",
     "exception": false,
     "start_time": "2022-05-27T08:53:42.819419",
     "status": "completed"
    },
    "tags": []
   },
   "outputs": [
    {
     "data": {
      "application/javascript": [
       "parent.postMessage({\"jupyterEvent\": \"custom.exercise_interaction\", \"data\": {\"outcomeType\": 2, \"failureMessage\": \"Is your figure a categorical scatter plot?  Please use `sns.swarmplot` to generate your figure.\", \"interactionType\": 1, \"questionType\": 2, \"questionId\": \"7.1_PlotSwarm\", \"learnToolsVersion\": \"0.3.4\", \"valueTowardsCompletion\": 0.0, \"exceptionClass\": \"\", \"trace\": \"\"}}, \"*\")"
      ],
      "text/plain": [
       "<IPython.core.display.Javascript object>"
      ]
     },
     "metadata": {},
     "output_type": "display_data"
    },
    {
     "data": {
      "text/markdown": [
       "<span style=\"color:#cc3333\">Incorrect:</span> Is your figure a categorical scatter plot?  Please use `sns.swarmplot` to generate your figure."
      ],
      "text/plain": [
       "Incorrect: Is your figure a categorical scatter plot?  Please use `sns.swarmplot` to generate your figure."
      ]
     },
     "metadata": {},
     "output_type": "display_data"
    },
    {
     "data": {
      "image/png": "[encoded data removed]",
      "text/plain": [
       "<Figure size 432x288 with 1 Axes>"
      ]
     },
     "metadata": {
      "needs_background": "light"
     },
     "output_type": "display_data"
    }
   ],
   "source": [
    "# Scatter plot showing the relationship between 'chocolate' and 'winpercent'\n",
    "sns.swarmplot(x=candy_data['pricepercent'],\n",
    "             y=candy_data['winpercent'])\n",
    "\n",
    "# Check your answer\n",
    "step_7.a.check()"
   ]
  },
  {
   "cell_type": "markdown",
   "id": "38d56dde",
   "metadata": {
    "papermill": {
     "duration": 0.012694,
     "end_time": "2022-05-27T08:53:43.419095",
     "exception": false,
     "start_time": "2022-05-27T08:53:43.406401",
     "status": "completed"
    },
    "tags": []
   },
   "source": [
    "#### Part B\n",
    "\n",
    "You decide to dedicate a section of your report to the fact that chocolate candies tend to be more popular than candies without chocolate.  Which plot is more appropriate to tell this story: the plot from **Step 6**, or the plot from **Step 7**?"
   ]
  },
  {
   "cell_type": "code",
   "execution_count": 16,
   "id": "86493516",
   "metadata": {
    "execution": {
     "iopub.execute_input": "2022-05-27T08:53:43.446779Z",
     "iopub.status.busy": "2022-05-27T08:53:43.446355Z",
     "iopub.status.idle": "2022-05-27T08:53:43.450590Z",
     "shell.execute_reply": "2022-05-27T08:53:43.449609Z"
    },
    "papermill": {
     "duration": 0.020557,
     "end_time": "2022-05-27T08:53:43.452624",
     "exception": false,
     "start_time": "2022-05-27T08:53:43.432067",
     "status": "completed"
    },
    "tags": []
   },
   "outputs": [],
   "source": [
    "#step_7.b.hint()"
   ]
  },
  {
   "cell_type": "code",
   "execution_count": 17,
   "id": "cc4b3743",
   "metadata": {
    "execution": {
     "iopub.execute_input": "2022-05-27T08:53:43.480808Z",
     "iopub.status.busy": "2022-05-27T08:53:43.480068Z",
     "iopub.status.idle": "2022-05-27T08:53:43.488295Z",
     "shell.execute_reply": "2022-05-27T08:53:43.487557Z"
    },
    "papermill": {
     "duration": 0.024572,
     "end_time": "2022-05-27T08:53:43.490205",
     "exception": false,
     "start_time": "2022-05-27T08:53:43.465633",
     "status": "completed"
    },
    "tags": []
   },
   "outputs": [
    {
     "data": {
      "application/javascript": [
       "parent.postMessage({\"jupyterEvent\": \"custom.exercise_interaction\", \"data\": {\"interactionType\": 3, \"questionType\": 4, \"questionId\": \"7.2_ThinkSwarm\", \"learnToolsVersion\": \"0.3.4\", \"valueTowardsCompletion\": 0.0, \"failureMessage\": \"\", \"exceptionClass\": \"\", \"trace\": \"\", \"outcomeType\": 4}}, \"*\")"
      ],
      "text/plain": [
       "<IPython.core.display.Javascript object>"
      ]
     },
     "metadata": {},
     "output_type": "display_data"
    },
    {
     "data": {
      "text/markdown": [
       "<span style=\"color:#33cc99\">Solution:</span> In this case, the categorical scatter plot from **Step 7** is the more appropriate plot. While both plots tell the desired story, the plot from **Step 6** conveys far more information that could distract from the main point."
      ],
      "text/plain": [
       "Solution: In this case, the categorical scatter plot from **Step 7** is the more appropriate plot. While both plots tell the desired story, the plot from **Step 6** conveys far more information that could distract from the main point."
      ]
     },
     "metadata": {},
     "output_type": "display_data"
    }
   ],
   "source": [
    "# Check your answer (Run this code cell to receive credit!)\n",
    "step_7.b.solution()"
   ]
  },
  {
   "cell_type": "markdown",
   "id": "407e7c76",
   "metadata": {
    "papermill": {
     "duration": 0.013109,
     "end_time": "2022-05-27T08:53:43.516520",
     "exception": false,
     "start_time": "2022-05-27T08:53:43.503411",
     "status": "completed"
    },
    "tags": []
   },
   "source": [
    "## Keep going\n",
    "\n",
    "Explore **[histograms and density plots](https://www.kaggle.com/alexisbcook/distributions)**."
   ]
  },
  {
   "cell_type": "markdown",
   "id": "7def5785",
   "metadata": {
    "papermill": {
     "duration": 0.013058,
     "end_time": "2022-05-27T08:53:43.543065",
     "exception": false,
     "start_time": "2022-05-27T08:53:43.530007",
     "status": "completed"
    },
    "tags": []
   },
   "source": [
    "---\n",
    "\n",
    "\n",
    "\n",
    "\n",
    "*Have questions or comments? Visit the [course discussion forum](https://www.kaggle.com/learn/data-visualization/discussion) to chat with other learners.*"
   ]
  }
 ],
 "metadata": {
  "kernelspec": {
   "display_name": "Python 3",
   "language": "python",
   "name": "python3"
  },
  "language_info": {
   "codemirror_mode": {
    "name": "ipython",
    "version": 3
   },
   "file_extension": ".py",
   "mimetype": "text/x-python",
   "name": "python",
   "nbconvert_exporter": "python",
   "pygments_lexer": "ipython3",
   "version": "3.7.12"
  },
  "papermill": {
   "default_parameters": {},
   "duration": 16.880365,
   "end_time": "2022-05-27T08:53:44.380181",
   "environment_variables": {},
   "exception": null,
   "input_path": "__notebook__.ipynb",
   "output_path": "__notebook__.ipynb",
   "parameters": {},
   "start_time": "2022-05-27T08:53:27.499816",
   "version": "2.3.4"
  }
 },
 "nbformat": 4,
 "nbformat_minor": 5
}
