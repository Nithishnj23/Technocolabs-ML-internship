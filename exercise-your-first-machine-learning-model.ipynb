{
 "cells": [
  {
   "cell_type": "markdown",
   "id": "96e96f9e",
   "metadata": {
    "papermill": {
     "duration": 0.005868,
     "end_time": "2022-06-19T08:35:45.061537",
     "exception": false,
     "start_time": "2022-06-19T08:35:45.055669",
     "status": "completed"
    },
    "tags": []
   },
   "source": [
    "**This notebook is an exercise in the [Introduction to Machine Learning](https://www.kaggle.com/learn/intro-to-machine-learning) course.  You can reference the tutorial at [this link](https://www.kaggle.com/dansbecker/your-first-machine-learning-model).**\n",
    "\n",
    "---\n"
   ]
  },
  {
   "cell_type": "markdown",
   "id": "a9fcbb9f",
   "metadata": {
    "papermill": {
     "duration": 0.004524,
     "end_time": "2022-06-19T08:35:45.073413",
     "exception": false,
     "start_time": "2022-06-19T08:35:45.068889",
     "status": "completed"
    },
    "tags": []
   },
   "source": [
    "## Recap\n",
    "So far, you have loaded your data and reviewed it with the following code. Run this cell to set up your coding environment where the previous step left off."
   ]
  },
  {
   "cell_type": "code",
   "execution_count": 1,
   "id": "d910e389",
   "metadata": {
    "execution": {
     "iopub.execute_input": "2022-06-19T08:35:45.084523Z",
     "iopub.status.busy": "2022-06-19T08:35:45.084050Z",
     "iopub.status.idle": "2022-06-19T08:35:46.383141Z",
     "shell.execute_reply": "2022-06-19T08:35:46.382114Z"
    },
    "papermill": {
     "duration": 1.307388,
     "end_time": "2022-06-19T08:35:46.385503",
     "exception": false,
     "start_time": "2022-06-19T08:35:45.078115",
     "status": "completed"
    },
    "tags": []
   },
   "outputs": [
    {
     "name": "stdout",
     "output_type": "stream",
     "text": [
      "Setup Complete\n"
     ]
    }
   ],
   "source": [
    "# Code you have previously used to load data\n",
    "import pandas as pd\n",
    "\n",
    "# Path of the file to read\n",
    "iowa_file_path = '../input/home-data-for-ml-course/train.csv'\n",
    "\n",
    "home_data = pd.read_csv(iowa_file_path)\n",
    "\n",
    "# Set up code checking\n",
    "from learntools.core import binder\n",
    "binder.bind(globals())\n",
    "from learntools.machine_learning.ex3 import *\n",
    "\n",
    "print(\"Setup Complete\")"
   ]
  },
  {
   "cell_type": "markdown",
   "id": "cc50f2ff",
   "metadata": {
    "papermill": {
     "duration": 0.004461,
     "end_time": "2022-06-19T08:35:46.394738",
     "exception": false,
     "start_time": "2022-06-19T08:35:46.390277",
     "status": "completed"
    },
    "tags": []
   },
   "source": [
    "# Exercises\n",
    "\n",
    "## Step 1: Specify Prediction Target\n",
    "Select the target variable, which corresponds to the sales price. Save this to a new variable called `y`. You'll need to print a list of the columns to find the name of the column you need.\n"
   ]
  },
  {
   "cell_type": "code",
   "execution_count": 2,
   "id": "c2e83570",
   "metadata": {
    "execution": {
     "iopub.execute_input": "2022-06-19T08:35:46.405683Z",
     "iopub.status.busy": "2022-06-19T08:35:46.405268Z",
     "iopub.status.idle": "2022-06-19T08:35:46.420331Z",
     "shell.execute_reply": "2022-06-19T08:35:46.419337Z"
    },
    "papermill": {
     "duration": 0.023009,
     "end_time": "2022-06-19T08:35:46.422371",
     "exception": false,
     "start_time": "2022-06-19T08:35:46.399362",
     "status": "completed"
    },
    "tags": []
   },
   "outputs": [
    {
     "data": {
      "application/javascript": [
       "parent.postMessage({\"jupyterEvent\": \"custom.exercise_interaction\", \"data\": {\"outcomeType\": 1, \"valueTowardsCompletion\": 0.25, \"interactionType\": 1, \"questionType\": 2, \"questionId\": \"1_SetTarget\", \"learnToolsVersion\": \"0.3.4\", \"failureMessage\": \"\", \"exceptionClass\": \"\", \"trace\": \"\"}}, \"*\")"
      ],
      "text/plain": [
       "<IPython.core.display.Javascript object>"
      ]
     },
     "metadata": {},
     "output_type": "display_data"
    },
    {
     "data": {
      "text/markdown": [
       "<span style=\"color:#33cc33\">Correct</span>"
      ],
      "text/plain": [
       "Correct"
      ]
     },
     "metadata": {},
     "output_type": "display_data"
    }
   ],
   "source": [
    "y = home_data.SalePrice\n",
    "\n",
    "# Check your answer\n",
    "step_1.check()"
   ]
  },
  {
   "cell_type": "markdown",
   "id": "791a71e6",
   "metadata": {
    "papermill": {
     "duration": 0.00452,
     "end_time": "2022-06-19T08:35:46.431865",
     "exception": false,
     "start_time": "2022-06-19T08:35:46.427345",
     "status": "completed"
    },
    "tags": []
   },
   "source": [
    "## Step 2: Create X\n",
    "Now you will create a DataFrame called `X` holding the predictive features.\n",
    "\n",
    "Since you want only some columns from the original data, you'll first create a list with the names of the columns you want in `X`.\n",
    "\n",
    "You'll use just the following columns in the list (you can copy and paste the whole list to save some typing, though you'll still need to add quotes):\n",
    "  * LotArea\n",
    "  * YearBuilt\n",
    "  * 1stFlrSF\n",
    "  * 2ndFlrSF\n",
    "  * FullBath\n",
    "  * BedroomAbvGr\n",
    "  * TotRmsAbvGrd\n",
    "\n",
    "After you've created that list of features, use it to create the DataFrame that you'll use to fit the model."
   ]
  },
  {
   "cell_type": "code",
   "execution_count": 3,
   "id": "ea2318f2",
   "metadata": {
    "execution": {
     "iopub.execute_input": "2022-06-19T08:35:46.443196Z",
     "iopub.status.busy": "2022-06-19T08:35:46.442631Z",
     "iopub.status.idle": "2022-06-19T08:35:46.456481Z",
     "shell.execute_reply": "2022-06-19T08:35:46.455733Z"
    },
    "papermill": {
     "duration": 0.021596,
     "end_time": "2022-06-19T08:35:46.458201",
     "exception": false,
     "start_time": "2022-06-19T08:35:46.436605",
     "status": "completed"
    },
    "tags": []
   },
   "outputs": [
    {
     "data": {
      "application/javascript": [
       "parent.postMessage({\"jupyterEvent\": \"custom.exercise_interaction\", \"data\": {\"outcomeType\": 1, \"valueTowardsCompletion\": 0.25, \"interactionType\": 1, \"questionType\": 2, \"questionId\": \"2_SelectPredictionData\", \"learnToolsVersion\": \"0.3.4\", \"failureMessage\": \"\", \"exceptionClass\": \"\", \"trace\": \"\"}}, \"*\")"
      ],
      "text/plain": [
       "<IPython.core.display.Javascript object>"
      ]
     },
     "metadata": {},
     "output_type": "display_data"
    },
    {
     "data": {
      "text/markdown": [
       "<span style=\"color:#33cc33\">Correct</span>"
      ],
      "text/plain": [
       "Correct"
      ]
     },
     "metadata": {},
     "output_type": "display_data"
    }
   ],
   "source": [
    "# Create the list of features below\n",
    "feature_names = [\"LotArea\",\"YearBuilt\",\"1stFlrSF\",\"2ndFlrSF\",\"FullBath\",\"BedroomAbvGr\",\"TotRmsAbvGrd\"]\n",
    "# Select data corresponding to features in feature_names\n",
    "X = home_data[feature_names]\n",
    "# Check your answer\n",
    "step_2.check()"
   ]
  },
  {
   "cell_type": "markdown",
   "id": "d5b286b5",
   "metadata": {
    "papermill": {
     "duration": 0.004875,
     "end_time": "2022-06-19T08:35:46.468354",
     "exception": false,
     "start_time": "2022-06-19T08:35:46.463479",
     "status": "completed"
    },
    "tags": []
   },
   "source": [
    "## Review Data\n",
    "Before building a model, take a quick look at **X** to verify it looks sensible"
   ]
  },
  {
   "cell_type": "markdown",
   "id": "5ca89fc2",
   "metadata": {
    "papermill": {
     "duration": 0.004798,
     "end_time": "2022-06-19T08:35:46.478232",
     "exception": false,
     "start_time": "2022-06-19T08:35:46.473434",
     "status": "completed"
    },
    "tags": []
   },
   "source": [
    "## Step 3: Specify and Fit Model\n",
    "Create a `DecisionTreeRegressor` and save it iowa_model. Ensure you've done the relevant import from sklearn to run this command.\n",
    "\n",
    "Then fit the model you just created using the data in `X` and `y` that you saved above."
   ]
  },
  {
   "cell_type": "code",
   "execution_count": 4,
   "id": "9d90ccce",
   "metadata": {
    "execution": {
     "iopub.execute_input": "2022-06-19T08:35:46.490304Z",
     "iopub.status.busy": "2022-06-19T08:35:46.489419Z",
     "iopub.status.idle": "2022-06-19T08:35:46.507858Z",
     "shell.execute_reply": "2022-06-19T08:35:46.507226Z"
    },
    "papermill": {
     "duration": 0.026569,
     "end_time": "2022-06-19T08:35:46.509874",
     "exception": false,
     "start_time": "2022-06-19T08:35:46.483305",
     "status": "completed"
    },
    "tags": []
   },
   "outputs": [
    {
     "data": {
      "application/javascript": [
       "parent.postMessage({\"jupyterEvent\": \"custom.exercise_interaction\", \"data\": {\"outcomeType\": 1, \"valueTowardsCompletion\": 0.25, \"interactionType\": 1, \"questionType\": 2, \"questionId\": \"3_CreateModel\", \"learnToolsVersion\": \"0.3.4\", \"failureMessage\": \"\", \"exceptionClass\": \"\", \"trace\": \"\"}}, \"*\")"
      ],
      "text/plain": [
       "<IPython.core.display.Javascript object>"
      ]
     },
     "metadata": {},
     "output_type": "display_data"
    },
    {
     "data": {
      "text/markdown": [
       "<span style=\"color:#33cc33\">Correct</span>"
      ],
      "text/plain": [
       "Correct"
      ]
     },
     "metadata": {},
     "output_type": "display_data"
    }
   ],
   "source": [
    "# from _ import _\n",
    "#specify the model. \n",
    "#For model reproducibility, set a numeric value for random_state when specifying the model\n",
    "from sklearn.tree import DecisionTreeRegressor\n",
    "iowa_model = DecisionTreeRegressor(random_state=1)\n",
    "\n",
    "# Fit the model\n",
    "iowa_model.fit(X,y)\n",
    "\n",
    "# Check your answer\n",
    "step_3.check()"
   ]
  },
  {
   "cell_type": "markdown",
   "id": "5a687546",
   "metadata": {
    "papermill": {
     "duration": 0.005262,
     "end_time": "2022-06-19T08:35:46.520798",
     "exception": false,
     "start_time": "2022-06-19T08:35:46.515536",
     "status": "completed"
    },
    "tags": []
   },
   "source": [
    "## Step 4: Make Predictions\n",
    "Make predictions with the model's `predict` command using `X` as the data. Save the results to a variable called `predictions`."
   ]
  },
  {
   "cell_type": "code",
   "execution_count": 5,
   "id": "bd8c21ff",
   "metadata": {
    "execution": {
     "iopub.execute_input": "2022-06-19T08:35:46.533612Z",
     "iopub.status.busy": "2022-06-19T08:35:46.532999Z",
     "iopub.status.idle": "2022-06-19T08:35:46.545882Z",
     "shell.execute_reply": "2022-06-19T08:35:46.544968Z"
    },
    "papermill": {
     "duration": 0.021584,
     "end_time": "2022-06-19T08:35:46.547936",
     "exception": false,
     "start_time": "2022-06-19T08:35:46.526352",
     "status": "completed"
    },
    "tags": []
   },
   "outputs": [
    {
     "name": "stdout",
     "output_type": "stream",
     "text": [
      "[208500. 181500. 223500. ... 266500. 142125. 147500.]\n"
     ]
    },
    {
     "data": {
      "application/javascript": [
       "parent.postMessage({\"jupyterEvent\": \"custom.exercise_interaction\", \"data\": {\"outcomeType\": 1, \"valueTowardsCompletion\": 0.25, \"interactionType\": 1, \"questionType\": 2, \"questionId\": \"4_MakePredictions\", \"learnToolsVersion\": \"0.3.4\", \"failureMessage\": \"\", \"exceptionClass\": \"\", \"trace\": \"\"}}, \"*\")"
      ],
      "text/plain": [
       "<IPython.core.display.Javascript object>"
      ]
     },
     "metadata": {},
     "output_type": "display_data"
    },
    {
     "data": {
      "text/markdown": [
       "<span style=\"color:#33cc33\">Correct</span>"
      ],
      "text/plain": [
       "Correct"
      ]
     },
     "metadata": {},
     "output_type": "display_data"
    }
   ],
   "source": [
    "predictions = iowa_model.predict(X)\n",
    "print(predictions)\n",
    "\n",
    "# Check your answer\n",
    "step_4.check()"
   ]
  },
  {
   "cell_type": "code",
   "execution_count": 6,
   "id": "e825f3b3",
   "metadata": {
    "execution": {
     "iopub.execute_input": "2022-06-19T08:35:46.561248Z",
     "iopub.status.busy": "2022-06-19T08:35:46.560838Z",
     "iopub.status.idle": "2022-06-19T08:35:46.568277Z",
     "shell.execute_reply": "2022-06-19T08:35:46.567489Z"
    },
    "papermill": {
     "duration": 0.016454,
     "end_time": "2022-06-19T08:35:46.570148",
     "exception": false,
     "start_time": "2022-06-19T08:35:46.553694",
     "status": "completed"
    },
    "tags": []
   },
   "outputs": [
    {
     "data": {
      "application/javascript": [
       "parent.postMessage({\"jupyterEvent\": \"custom.exercise_interaction\", \"data\": {\"interactionType\": 3, \"questionType\": 2, \"questionId\": \"4_MakePredictions\", \"learnToolsVersion\": \"0.3.4\", \"valueTowardsCompletion\": 0.0, \"failureMessage\": \"\", \"exceptionClass\": \"\", \"trace\": \"\", \"outcomeType\": 4}}, \"*\")"
      ],
      "text/plain": [
       "<IPython.core.display.Javascript object>"
      ]
     },
     "metadata": {},
     "output_type": "display_data"
    },
    {
     "data": {
      "text/markdown": [
       "<span style=\"color:#33cc99\">Solution:</span> \n",
       "```python\n",
       "iowa_model.predict(X)\n",
       "```"
      ],
      "text/plain": [
       "Solution: \n",
       "```python\n",
       "iowa_model.predict(X)\n",
       "```"
      ]
     },
     "metadata": {},
     "output_type": "display_data"
    }
   ],
   "source": [
    "# step_4.hint()\n",
    "step_4.solution()"
   ]
  },
  {
   "cell_type": "markdown",
   "id": "47cf63b1",
   "metadata": {
    "papermill": {
     "duration": 0.005829,
     "end_time": "2022-06-19T08:35:46.582249",
     "exception": false,
     "start_time": "2022-06-19T08:35:46.576420",
     "status": "completed"
    },
    "tags": []
   },
   "source": [
    "## Think About Your Results\n",
    "\n",
    "Use the `head` method to compare the top few predictions to the actual home values (in `y`) for those same homes. Anything surprising?\n"
   ]
  },
  {
   "cell_type": "code",
   "execution_count": null,
   "id": "74ac4180",
   "metadata": {
    "papermill": {
     "duration": 0.0056,
     "end_time": "2022-06-19T08:35:46.593873",
     "exception": false,
     "start_time": "2022-06-19T08:35:46.588273",
     "status": "completed"
    },
    "tags": []
   },
   "outputs": [],
   "source": [
    "\n"
   ]
  },
  {
   "cell_type": "markdown",
   "id": "4c1879c3",
   "metadata": {
    "papermill": {
     "duration": 0.00611,
     "end_time": "2022-06-19T08:35:46.606405",
     "exception": false,
     "start_time": "2022-06-19T08:35:46.600295",
     "status": "completed"
    },
    "tags": []
   },
   "source": [
    "It's natural to ask how accurate the model's predictions will be and how you can improve that. That will be you're next step.\n",
    "\n",
    "# Keep Going\n",
    "\n",
    "You are ready for **[Model Validation](https://www.kaggle.com/dansbecker/model-validation).**\n"
   ]
  },
  {
   "cell_type": "markdown",
   "id": "9d512f71",
   "metadata": {
    "papermill": {
     "duration": 0.005665,
     "end_time": "2022-06-19T08:35:46.618138",
     "exception": false,
     "start_time": "2022-06-19T08:35:46.612473",
     "status": "completed"
    },
    "tags": []
   },
   "source": [
    "---\n",
    "\n",
    "\n",
    "\n",
    "\n",
    "*Have questions or comments? Visit the [course discussion forum](https://www.kaggle.com/learn/intro-to-machine-learning/discussion) to chat with other learners.*"
   ]
  }
 ],
 "metadata": {
  "kernelspec": {
   "display_name": "Python 3",
   "language": "python",
   "name": "python3"
  },
  "language_info": {
   "codemirror_mode": {
    "name": "ipython",
    "version": 3
   },
   "file_extension": ".py",
   "mimetype": "text/x-python",
   "name": "python",
   "nbconvert_exporter": "python",
   "pygments_lexer": "ipython3",
   "version": "3.7.12"
  },
  "papermill": {
   "default_parameters": {},
   "duration": 12.250508,
   "end_time": "2022-06-19T08:35:47.344999",
   "environment_variables": {},
   "exception": null,
   "input_path": "__notebook__.ipynb",
   "output_path": "__notebook__.ipynb",
   "parameters": {},
   "start_time": "2022-06-19T08:35:35.094491",
   "version": "2.3.4"
  }
 },
 "nbformat": 4,
 "nbformat_minor": 5
}
