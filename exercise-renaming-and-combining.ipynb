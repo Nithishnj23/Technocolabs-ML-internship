{
 "cells": [
  {
   "cell_type": "markdown",
   "id": "f5529bb0",
   "metadata": {
    "papermill": {
     "duration": 0.007269,
     "end_time": "2022-06-10T15:17:03.491636",
     "exception": false,
     "start_time": "2022-06-10T15:17:03.484367",
     "status": "completed"
    },
    "tags": []
   },
   "source": [
    "**This notebook is an exercise in the [Pandas](https://www.kaggle.com/learn/pandas) course.  You can reference the tutorial at [this link](https://www.kaggle.com/residentmario/renaming-and-combining).**\n",
    "\n",
    "---\n"
   ]
  },
  {
   "cell_type": "markdown",
   "id": "52ec82f3",
   "metadata": {
    "papermill": {
     "duration": 0.003622,
     "end_time": "2022-06-10T15:17:03.499367",
     "exception": false,
     "start_time": "2022-06-10T15:17:03.495745",
     "status": "completed"
    },
    "tags": []
   },
   "source": [
    "# Introduction\n",
    "\n",
    "Run the following cell to load your data and some utility functions."
   ]
  },
  {
   "cell_type": "code",
   "execution_count": 1,
   "id": "faf21c28",
   "metadata": {
    "execution": {
     "iopub.execute_input": "2022-06-10T15:17:03.510109Z",
     "iopub.status.busy": "2022-06-10T15:17:03.508898Z",
     "iopub.status.idle": "2022-06-10T15:17:07.222968Z",
     "shell.execute_reply": "2022-06-10T15:17:07.222270Z"
    },
    "papermill": {
     "duration": 3.721696,
     "end_time": "2022-06-10T15:17:07.225409",
     "exception": false,
     "start_time": "2022-06-10T15:17:03.503713",
     "status": "completed"
    },
    "tags": []
   },
   "outputs": [
    {
     "name": "stdout",
     "output_type": "stream",
     "text": [
      "Setup complete.\n"
     ]
    }
   ],
   "source": [
    "import pandas as pd\n",
    "\n",
    "reviews = pd.read_csv(\"../input/wine-reviews/winemag-data-130k-v2.csv\", index_col=0)\n",
    "\n",
    "from learntools.core import binder; binder.bind(globals())\n",
    "from learntools.pandas.renaming_and_combining import *\n",
    "print(\"Setup complete.\")"
   ]
  },
  {
   "cell_type": "markdown",
   "id": "2c323190",
   "metadata": {
    "papermill": {
     "duration": 0.003683,
     "end_time": "2022-06-10T15:17:07.233073",
     "exception": false,
     "start_time": "2022-06-10T15:17:07.229390",
     "status": "completed"
    },
    "tags": []
   },
   "source": [
    "# Exercises\n",
    "\n",
    "View the first several lines of your data by running the cell below:"
   ]
  },
  {
   "cell_type": "code",
   "execution_count": 2,
   "id": "61a30d57",
   "metadata": {
    "execution": {
     "iopub.execute_input": "2022-06-10T15:17:07.242472Z",
     "iopub.status.busy": "2022-06-10T15:17:07.241966Z",
     "iopub.status.idle": "2022-06-10T15:17:07.268669Z",
     "shell.execute_reply": "2022-06-10T15:17:07.267956Z"
    },
    "papermill": {
     "duration": 0.033845,
     "end_time": "2022-06-10T15:17:07.270783",
     "exception": false,
     "start_time": "2022-06-10T15:17:07.236938",
     "status": "completed"
    },
    "tags": []
   },
   "outputs": [
    {
     "data": {
      "text/html": [
       "<div>\n",
       "<style scoped>\n",
       "    .dataframe tbody tr th:only-of-type {\n",
       "        vertical-align: middle;\n",
       "    }\n",
       "\n",
       "    .dataframe tbody tr th {\n",
       "        vertical-align: top;\n",
       "    }\n",
       "\n",
       "    .dataframe thead th {\n",
       "        text-align: right;\n",
       "    }\n",
       "</style>\n",
       "<table border=\"1\" class=\"dataframe\">\n",
       "  <thead>\n",
       "    <tr style=\"text-align: right;\">\n",
       "      <th></th>\n",
       "      <th>country</th>\n",
       "      <th>description</th>\n",
       "      <th>designation</th>\n",
       "      <th>points</th>\n",
       "      <th>price</th>\n",
       "      <th>province</th>\n",
       "      <th>region_1</th>\n",
       "      <th>region_2</th>\n",
       "      <th>taster_name</th>\n",
       "      <th>taster_twitter_handle</th>\n",
       "      <th>title</th>\n",
       "      <th>variety</th>\n",
       "      <th>winery</th>\n",
       "    </tr>\n",
       "  </thead>\n",
       "  <tbody>\n",
       "    <tr>\n",
       "      <th>0</th>\n",
       "      <td>Italy</td>\n",
       "      <td>Aromas include tropical fruit, broom, brimston...</td>\n",
       "      <td>Vulkà Bianco</td>\n",
       "      <td>87</td>\n",
       "      <td>NaN</td>\n",
       "      <td>Sicily &amp; Sardinia</td>\n",
       "      <td>Etna</td>\n",
       "      <td>NaN</td>\n",
       "      <td>Kerin O’Keefe</td>\n",
       "      <td>@kerinokeefe</td>\n",
       "      <td>Nicosia 2013 Vulkà Bianco  (Etna)</td>\n",
       "      <td>White Blend</td>\n",
       "      <td>Nicosia</td>\n",
       "    </tr>\n",
       "    <tr>\n",
       "      <th>1</th>\n",
       "      <td>Portugal</td>\n",
       "      <td>This is ripe and fruity, a wine that is smooth...</td>\n",
       "      <td>Avidagos</td>\n",
       "      <td>87</td>\n",
       "      <td>15.0</td>\n",
       "      <td>Douro</td>\n",
       "      <td>NaN</td>\n",
       "      <td>NaN</td>\n",
       "      <td>Roger Voss</td>\n",
       "      <td>@vossroger</td>\n",
       "      <td>Quinta dos Avidagos 2011 Avidagos Red (Douro)</td>\n",
       "      <td>Portuguese Red</td>\n",
       "      <td>Quinta dos Avidagos</td>\n",
       "    </tr>\n",
       "    <tr>\n",
       "      <th>2</th>\n",
       "      <td>US</td>\n",
       "      <td>Tart and snappy, the flavors of lime flesh and...</td>\n",
       "      <td>NaN</td>\n",
       "      <td>87</td>\n",
       "      <td>14.0</td>\n",
       "      <td>Oregon</td>\n",
       "      <td>Willamette Valley</td>\n",
       "      <td>Willamette Valley</td>\n",
       "      <td>Paul Gregutt</td>\n",
       "      <td>@paulgwine</td>\n",
       "      <td>Rainstorm 2013 Pinot Gris (Willamette Valley)</td>\n",
       "      <td>Pinot Gris</td>\n",
       "      <td>Rainstorm</td>\n",
       "    </tr>\n",
       "    <tr>\n",
       "      <th>3</th>\n",
       "      <td>US</td>\n",
       "      <td>Pineapple rind, lemon pith and orange blossom ...</td>\n",
       "      <td>Reserve Late Harvest</td>\n",
       "      <td>87</td>\n",
       "      <td>13.0</td>\n",
       "      <td>Michigan</td>\n",
       "      <td>Lake Michigan Shore</td>\n",
       "      <td>NaN</td>\n",
       "      <td>Alexander Peartree</td>\n",
       "      <td>NaN</td>\n",
       "      <td>St. Julian 2013 Reserve Late Harvest Riesling ...</td>\n",
       "      <td>Riesling</td>\n",
       "      <td>St. Julian</td>\n",
       "    </tr>\n",
       "    <tr>\n",
       "      <th>4</th>\n",
       "      <td>US</td>\n",
       "      <td>Much like the regular bottling from 2012, this...</td>\n",
       "      <td>Vintner's Reserve Wild Child Block</td>\n",
       "      <td>87</td>\n",
       "      <td>65.0</td>\n",
       "      <td>Oregon</td>\n",
       "      <td>Willamette Valley</td>\n",
       "      <td>Willamette Valley</td>\n",
       "      <td>Paul Gregutt</td>\n",
       "      <td>@paulgwine</td>\n",
       "      <td>Sweet Cheeks 2012 Vintner's Reserve Wild Child...</td>\n",
       "      <td>Pinot Noir</td>\n",
       "      <td>Sweet Cheeks</td>\n",
       "    </tr>\n",
       "  </tbody>\n",
       "</table>\n",
       "</div>"
      ],
      "text/plain": [
       "    country                                        description  \\\n",
       "0     Italy  Aromas include tropical fruit, broom, brimston...   \n",
       "1  Portugal  This is ripe and fruity, a wine that is smooth...   \n",
       "2        US  Tart and snappy, the flavors of lime flesh and...   \n",
       "3        US  Pineapple rind, lemon pith and orange blossom ...   \n",
       "4        US  Much like the regular bottling from 2012, this...   \n",
       "\n",
       "                          designation  points  price           province  \\\n",
       "0                        Vulkà Bianco      87    NaN  Sicily & Sardinia   \n",
       "1                            Avidagos      87   15.0              Douro   \n",
       "2                                 NaN      87   14.0             Oregon   \n",
       "3                Reserve Late Harvest      87   13.0           Michigan   \n",
       "4  Vintner's Reserve Wild Child Block      87   65.0             Oregon   \n",
       "\n",
       "              region_1           region_2         taster_name  \\\n",
       "0                 Etna                NaN       Kerin O’Keefe   \n",
       "1                  NaN                NaN          Roger Voss   \n",
       "2    Willamette Valley  Willamette Valley        Paul Gregutt   \n",
       "3  Lake Michigan Shore                NaN  Alexander Peartree   \n",
       "4    Willamette Valley  Willamette Valley        Paul Gregutt   \n",
       "\n",
       "  taster_twitter_handle                                              title  \\\n",
       "0          @kerinokeefe                  Nicosia 2013 Vulkà Bianco  (Etna)   \n",
       "1            @vossroger      Quinta dos Avidagos 2011 Avidagos Red (Douro)   \n",
       "2           @paulgwine       Rainstorm 2013 Pinot Gris (Willamette Valley)   \n",
       "3                   NaN  St. Julian 2013 Reserve Late Harvest Riesling ...   \n",
       "4           @paulgwine   Sweet Cheeks 2012 Vintner's Reserve Wild Child...   \n",
       "\n",
       "          variety               winery  \n",
       "0     White Blend              Nicosia  \n",
       "1  Portuguese Red  Quinta dos Avidagos  \n",
       "2      Pinot Gris            Rainstorm  \n",
       "3        Riesling           St. Julian  \n",
       "4      Pinot Noir         Sweet Cheeks  "
      ]
     },
     "execution_count": 2,
     "metadata": {},
     "output_type": "execute_result"
    }
   ],
   "source": [
    "reviews.head()"
   ]
  },
  {
   "cell_type": "markdown",
   "id": "50d856f1",
   "metadata": {
    "papermill": {
     "duration": 0.003994,
     "end_time": "2022-06-10T15:17:07.279188",
     "exception": false,
     "start_time": "2022-06-10T15:17:07.275194",
     "status": "completed"
    },
    "tags": []
   },
   "source": [
    "## 1.\n",
    "`region_1` and `region_2` are pretty uninformative names for locale columns in the dataset. Create a copy of `reviews` with these columns renamed to `region` and `locale`, respectively."
   ]
  },
  {
   "cell_type": "code",
   "execution_count": 3,
   "id": "d5e7b254",
   "metadata": {
    "execution": {
     "iopub.execute_input": "2022-06-10T15:17:07.289478Z",
     "iopub.status.busy": "2022-06-10T15:17:07.288594Z",
     "iopub.status.idle": "2022-06-10T15:17:07.316156Z",
     "shell.execute_reply": "2022-06-10T15:17:07.315076Z"
    },
    "papermill": {
     "duration": 0.035164,
     "end_time": "2022-06-10T15:17:07.318457",
     "exception": false,
     "start_time": "2022-06-10T15:17:07.283293",
     "status": "completed"
    },
    "tags": []
   },
   "outputs": [],
   "source": [
    "# Your code here\n",
    "renamed = reviews.rename(columns=dict(region_1='region',region_2='locale'))\n"
   ]
  },
  {
   "cell_type": "code",
   "execution_count": 4,
   "id": "78b1f874",
   "metadata": {
    "execution": {
     "iopub.execute_input": "2022-06-10T15:17:07.328466Z",
     "iopub.status.busy": "2022-06-10T15:17:07.328107Z",
     "iopub.status.idle": "2022-06-10T15:17:07.336767Z",
     "shell.execute_reply": "2022-06-10T15:17:07.335786Z"
    },
    "papermill": {
     "duration": 0.016019,
     "end_time": "2022-06-10T15:17:07.338813",
     "exception": false,
     "start_time": "2022-06-10T15:17:07.322794",
     "status": "completed"
    },
    "tags": []
   },
   "outputs": [
    {
     "data": {
      "application/javascript": [
       "parent.postMessage({\"jupyterEvent\": \"custom.exercise_interaction\", \"data\": {\"interactionType\": 3, \"questionType\": 1, \"questionId\": \"1_RenameCols\", \"learnToolsVersion\": \"0.3.4\", \"valueTowardsCompletion\": 0.0, \"failureMessage\": \"\", \"exceptionClass\": \"\", \"trace\": \"\", \"outcomeType\": 4}}, \"*\")"
      ],
      "text/plain": [
       "<IPython.core.display.Javascript object>"
      ]
     },
     "metadata": {},
     "output_type": "display_data"
    },
    {
     "data": {
      "text/markdown": [
       "<span style=\"color:#33cc99\">Solution:</span> \n",
       "```python\n",
       "renamed = reviews.rename(columns=dict(region_1='region', region_2='locale'))\n",
       "```"
      ],
      "text/plain": [
       "Solution: \n",
       "```python\n",
       "renamed = reviews.rename(columns=dict(region_1='region', region_2='locale'))\n",
       "```"
      ]
     },
     "metadata": {},
     "output_type": "display_data"
    }
   ],
   "source": [
    "#q1.hint()\n",
    "q1.solution()"
   ]
  },
  {
   "cell_type": "markdown",
   "id": "c125080a",
   "metadata": {
    "papermill": {
     "duration": 0.004261,
     "end_time": "2022-06-10T15:17:07.347599",
     "exception": false,
     "start_time": "2022-06-10T15:17:07.343338",
     "status": "completed"
    },
    "tags": []
   },
   "source": [
    "## 2.\n",
    "Set the index name in the dataset to `wines`."
   ]
  },
  {
   "cell_type": "code",
   "execution_count": 5,
   "id": "4d23067b",
   "metadata": {
    "execution": {
     "iopub.execute_input": "2022-06-10T15:17:07.358149Z",
     "iopub.status.busy": "2022-06-10T15:17:07.357505Z",
     "iopub.status.idle": "2022-06-10T15:17:07.385285Z",
     "shell.execute_reply": "2022-06-10T15:17:07.384460Z"
    },
    "papermill": {
     "duration": 0.035485,
     "end_time": "2022-06-10T15:17:07.387446",
     "exception": false,
     "start_time": "2022-06-10T15:17:07.351961",
     "status": "completed"
    },
    "tags": []
   },
   "outputs": [],
   "source": [
    "reindexed = reviews.rename_axis('wines', axis='rows')"
   ]
  },
  {
   "cell_type": "markdown",
   "id": "5ce071de",
   "metadata": {
    "papermill": {
     "duration": 0.004199,
     "end_time": "2022-06-10T15:17:07.396194",
     "exception": false,
     "start_time": "2022-06-10T15:17:07.391995",
     "status": "completed"
    },
    "tags": []
   },
   "source": [
    "## 3.\n",
    "The [Things on Reddit](https://www.kaggle.com/residentmario/things-on-reddit/data) dataset includes product links from a selection of top-ranked forums (\"subreddits\") on reddit.com. Run the cell below to load a dataframe of products mentioned on the */r/gaming* subreddit and another dataframe for products mentioned on the *r//movies* subreddit."
   ]
  },
  {
   "cell_type": "code",
   "execution_count": 6,
   "id": "b9b3a44c",
   "metadata": {
    "execution": {
     "iopub.execute_input": "2022-06-10T15:17:07.407427Z",
     "iopub.status.busy": "2022-06-10T15:17:07.406330Z",
     "iopub.status.idle": "2022-06-10T15:17:07.420082Z",
     "shell.execute_reply": "2022-06-10T15:17:07.419382Z"
    },
    "papermill": {
     "duration": 0.021347,
     "end_time": "2022-06-10T15:17:07.421958",
     "exception": false,
     "start_time": "2022-06-10T15:17:07.400611",
     "status": "completed"
    },
    "tags": []
   },
   "outputs": [],
   "source": [
    "gaming_products = pd.read_csv(\"../input/things-on-reddit/top-things/top-things/reddits/g/gaming.csv\")\n",
    "gaming_products['subreddit'] = \"r/gaming\"\n",
    "movie_products = pd.read_csv(\"../input/things-on-reddit/top-things/top-things/reddits/m/movies.csv\")\n",
    "movie_products['subreddit'] = \"r/movies\""
   ]
  },
  {
   "cell_type": "markdown",
   "id": "db2b9894",
   "metadata": {
    "papermill": {
     "duration": 0.004165,
     "end_time": "2022-06-10T15:17:07.430617",
     "exception": false,
     "start_time": "2022-06-10T15:17:07.426452",
     "status": "completed"
    },
    "tags": []
   },
   "source": [
    "Create a `DataFrame` of products mentioned on *either* subreddit."
   ]
  },
  {
   "cell_type": "code",
   "execution_count": 7,
   "id": "dd5cba7f",
   "metadata": {
    "execution": {
     "iopub.execute_input": "2022-06-10T15:17:07.440798Z",
     "iopub.status.busy": "2022-06-10T15:17:07.440182Z",
     "iopub.status.idle": "2022-06-10T15:17:07.445628Z",
     "shell.execute_reply": "2022-06-10T15:17:07.444967Z"
    },
    "papermill": {
     "duration": 0.012374,
     "end_time": "2022-06-10T15:17:07.447333",
     "exception": false,
     "start_time": "2022-06-10T15:17:07.434959",
     "status": "completed"
    },
    "tags": []
   },
   "outputs": [],
   "source": [
    "combined_products = pd.concat([gaming_products, movie_products])"
   ]
  },
  {
   "cell_type": "markdown",
   "id": "4c390d29",
   "metadata": {
    "papermill": {
     "duration": 0.004044,
     "end_time": "2022-06-10T15:17:07.456032",
     "exception": false,
     "start_time": "2022-06-10T15:17:07.451988",
     "status": "completed"
    },
    "tags": []
   },
   "source": [
    "## 4.\n",
    "The [Powerlifting Database](https://www.kaggle.com/open-powerlifting/powerlifting-database) dataset on Kaggle includes one CSV table for powerlifting meets and a separate one for powerlifting competitors. Run the cell below to load these datasets into dataframes:"
   ]
  },
  {
   "cell_type": "code",
   "execution_count": 8,
   "id": "53708ca4",
   "metadata": {
    "execution": {
     "iopub.execute_input": "2022-06-10T15:17:07.466318Z",
     "iopub.status.busy": "2022-06-10T15:17:07.465724Z",
     "iopub.status.idle": "2022-06-10T15:17:08.165889Z",
     "shell.execute_reply": "2022-06-10T15:17:08.164955Z"
    },
    "papermill": {
     "duration": 0.707981,
     "end_time": "2022-06-10T15:17:08.168288",
     "exception": false,
     "start_time": "2022-06-10T15:17:07.460307",
     "status": "completed"
    },
    "tags": []
   },
   "outputs": [],
   "source": [
    "powerlifting_meets = pd.read_csv(\"../input/powerlifting-database/meets.csv\")\n",
    "powerlifting_competitors = pd.read_csv(\"../input/powerlifting-database/openpowerlifting.csv\")"
   ]
  },
  {
   "cell_type": "markdown",
   "id": "0b2b2bba",
   "metadata": {
    "papermill": {
     "duration": 0.004205,
     "end_time": "2022-06-10T15:17:08.176991",
     "exception": false,
     "start_time": "2022-06-10T15:17:08.172786",
     "status": "completed"
    },
    "tags": []
   },
   "source": [
    "Both tables include references to a `MeetID`, a unique key for each meet (competition) included in the database. Using this, generate a dataset combining the two tables into one."
   ]
  },
  {
   "cell_type": "code",
   "execution_count": 9,
   "id": "9fc6da38",
   "metadata": {
    "execution": {
     "iopub.execute_input": "2022-06-10T15:17:08.187559Z",
     "iopub.status.busy": "2022-06-10T15:17:08.187176Z",
     "iopub.status.idle": "2022-06-10T15:17:08.955878Z",
     "shell.execute_reply": "2022-06-10T15:17:08.954937Z"
    },
    "papermill": {
     "duration": 0.776011,
     "end_time": "2022-06-10T15:17:08.957674",
     "exception": false,
     "start_time": "2022-06-10T15:17:08.181663",
     "status": "completed"
    },
    "tags": []
   },
   "outputs": [
    {
     "data": {
      "application/javascript": [
       "parent.postMessage({\"jupyterEvent\": \"custom.exercise_interaction\", \"data\": {\"outcomeType\": 1, \"valueTowardsCompletion\": 0.25, \"interactionType\": 1, \"questionType\": 2, \"questionId\": \"4_JoinLifting\", \"learnToolsVersion\": \"0.3.4\", \"failureMessage\": \"\", \"exceptionClass\": \"\", \"trace\": \"\"}}, \"*\")"
      ],
      "text/plain": [
       "<IPython.core.display.Javascript object>"
      ]
     },
     "metadata": {},
     "output_type": "display_data"
    },
    {
     "data": {
      "text/markdown": [
       "<span style=\"color:#33cc33\">Correct</span>"
      ],
      "text/plain": [
       "Correct"
      ]
     },
     "metadata": {},
     "output_type": "display_data"
    }
   ],
   "source": [
    "powerlifting_combined = powerlifting_meets.set_index(\"MeetID\").join(powerlifting_competitors.set_index(\"MeetID\"))\n",
    "# Check your answer\n",
    "q4.check()"
   ]
  },
  {
   "cell_type": "markdown",
   "id": "32e25384",
   "metadata": {
    "papermill": {
     "duration": 0.008407,
     "end_time": "2022-06-10T15:17:08.970920",
     "exception": false,
     "start_time": "2022-06-10T15:17:08.962513",
     "status": "completed"
    },
    "tags": []
   },
   "source": [
    "# Congratulations!\n",
    "\n",
    "You've finished the Pandas micro-course.  Many data scientists feel efficiency with Pandas is the most useful and practical skill they have, because it allows you to progress quickly in any project you have.\n",
    "\n",
    "If you'd like to apply your new skills to examining geospatial data, you're encouraged to check out our **[Geospatial Analysis](https://www.kaggle.com/learn/geospatial-analysis)** micro-course.\n",
    "\n",
    "You can also take advantage of your Pandas skills by entering a **[Kaggle Competition](https://www.kaggle.com/competitions)** or by answering a question you find interesting using **[Kaggle Datasets](https://www.kaggle.com/datasets)**."
   ]
  },
  {
   "cell_type": "markdown",
   "id": "c69259fb",
   "metadata": {
    "papermill": {
     "duration": 0.004473,
     "end_time": "2022-06-10T15:17:08.980600",
     "exception": false,
     "start_time": "2022-06-10T15:17:08.976127",
     "status": "completed"
    },
    "tags": []
   },
   "source": [
    "---\n",
    "\n",
    "\n",
    "\n",
    "\n",
    "*Have questions or comments? Visit the [course discussion forum](https://www.kaggle.com/learn/pandas/discussion) to chat with other learners.*"
   ]
  }
 ],
 "metadata": {
  "kernelspec": {
   "display_name": "Python 3",
   "language": "python",
   "name": "python3"
  },
  "language_info": {
   "codemirror_mode": {
    "name": "ipython",
    "version": 3
   },
   "file_extension": ".py",
   "mimetype": "text/x-python",
   "name": "python",
   "nbconvert_exporter": "python",
   "pygments_lexer": "ipython3",
   "version": "3.7.12"
  },
  "papermill": {
   "default_parameters": {},
   "duration": 15.227543,
   "end_time": "2022-06-10T15:17:09.706872",
   "environment_variables": {},
   "exception": null,
   "input_path": "__notebook__.ipynb",
   "output_path": "__notebook__.ipynb",
   "parameters": {},
   "start_time": "2022-06-10T15:16:54.479329",
   "version": "2.3.4"
  }
 },
 "nbformat": 4,
 "nbformat_minor": 5
}
