{
 "cells": [
  {
   "cell_type": "markdown",
   "id": "7d2e714e",
   "metadata": {
    "papermill": {
     "duration": 0.008567,
     "end_time": "2022-06-10T15:15:31.803229",
     "exception": false,
     "start_time": "2022-06-10T15:15:31.794662",
     "status": "completed"
    },
    "tags": []
   },
   "source": [
    "**This notebook is an exercise in the [Pandas](https://www.kaggle.com/learn/pandas) course.  You can reference the tutorial at [this link](https://www.kaggle.com/residentmario/renaming-and-combining).**\n",
    "\n",
    "---\n"
   ]
  },
  {
   "cell_type": "markdown",
   "id": "27fc3645",
   "metadata": {
    "papermill": {
     "duration": 0.004862,
     "end_time": "2022-06-10T15:15:31.813429",
     "exception": false,
     "start_time": "2022-06-10T15:15:31.808567",
     "status": "completed"
    },
    "tags": []
   },
   "source": [
    "# Introduction\n",
    "\n",
    "Run the following cell to load your data and some utility functions."
   ]
  },
  {
   "cell_type": "code",
   "execution_count": 1,
   "id": "748bc352",
   "metadata": {
    "execution": {
     "iopub.execute_input": "2022-06-10T15:15:31.826133Z",
     "iopub.status.busy": "2022-06-10T15:15:31.825681Z",
     "iopub.status.idle": "2022-06-10T15:15:36.028456Z",
     "shell.execute_reply": "2022-06-10T15:15:36.027703Z"
    },
    "papermill": {
     "duration": 4.212785,
     "end_time": "2022-06-10T15:15:36.031441",
     "exception": false,
     "start_time": "2022-06-10T15:15:31.818656",
     "status": "completed"
    },
    "tags": []
   },
   "outputs": [
    {
     "name": "stdout",
     "output_type": "stream",
     "text": [
      "Setup complete.\n"
     ]
    }
   ],
   "source": [
    "import pandas as pd\n",
    "\n",
    "reviews = pd.read_csv(\"../input/wine-reviews/winemag-data-130k-v2.csv\", index_col=0)\n",
    "\n",
    "from learntools.core import binder; binder.bind(globals())\n",
    "from learntools.pandas.renaming_and_combining import *\n",
    "print(\"Setup complete.\")"
   ]
  },
  {
   "cell_type": "markdown",
   "id": "bc84e91c",
   "metadata": {
    "papermill": {
     "duration": 0.005255,
     "end_time": "2022-06-10T15:15:36.043213",
     "exception": false,
     "start_time": "2022-06-10T15:15:36.037958",
     "status": "completed"
    },
    "tags": []
   },
   "source": [
    "# Exercises\n",
    "\n",
    "View the first several lines of your data by running the cell below:"
   ]
  },
  {
   "cell_type": "code",
   "execution_count": 2,
   "id": "af9a1115",
   "metadata": {
    "execution": {
     "iopub.execute_input": "2022-06-10T15:15:36.055760Z",
     "iopub.status.busy": "2022-06-10T15:15:36.055120Z",
     "iopub.status.idle": "2022-06-10T15:15:36.081874Z",
     "shell.execute_reply": "2022-06-10T15:15:36.080866Z"
    },
    "papermill": {
     "duration": 0.035674,
     "end_time": "2022-06-10T15:15:36.084156",
     "exception": false,
     "start_time": "2022-06-10T15:15:36.048482",
     "status": "completed"
    },
    "tags": []
   },
   "outputs": [
    {
     "data": {
      "text/html": [
       "<div>\n",
       "<style scoped>\n",
       "    .dataframe tbody tr th:only-of-type {\n",
       "        vertical-align: middle;\n",
       "    }\n",
       "\n",
       "    .dataframe tbody tr th {\n",
       "        vertical-align: top;\n",
       "    }\n",
       "\n",
       "    .dataframe thead th {\n",
       "        text-align: right;\n",
       "    }\n",
       "</style>\n",
       "<table border=\"1\" class=\"dataframe\">\n",
       "  <thead>\n",
       "    <tr style=\"text-align: right;\">\n",
       "      <th></th>\n",
       "      <th>country</th>\n",
       "      <th>description</th>\n",
       "      <th>designation</th>\n",
       "      <th>points</th>\n",
       "      <th>price</th>\n",
       "      <th>province</th>\n",
       "      <th>region_1</th>\n",
       "      <th>region_2</th>\n",
       "      <th>taster_name</th>\n",
       "      <th>taster_twitter_handle</th>\n",
       "      <th>title</th>\n",
       "      <th>variety</th>\n",
       "      <th>winery</th>\n",
       "    </tr>\n",
       "  </thead>\n",
       "  <tbody>\n",
       "    <tr>\n",
       "      <th>0</th>\n",
       "      <td>Italy</td>\n",
       "      <td>Aromas include tropical fruit, broom, brimston...</td>\n",
       "      <td>Vulkà Bianco</td>\n",
       "      <td>87</td>\n",
       "      <td>NaN</td>\n",
       "      <td>Sicily &amp; Sardinia</td>\n",
       "      <td>Etna</td>\n",
       "      <td>NaN</td>\n",
       "      <td>Kerin O’Keefe</td>\n",
       "      <td>@kerinokeefe</td>\n",
       "      <td>Nicosia 2013 Vulkà Bianco  (Etna)</td>\n",
       "      <td>White Blend</td>\n",
       "      <td>Nicosia</td>\n",
       "    </tr>\n",
       "    <tr>\n",
       "      <th>1</th>\n",
       "      <td>Portugal</td>\n",
       "      <td>This is ripe and fruity, a wine that is smooth...</td>\n",
       "      <td>Avidagos</td>\n",
       "      <td>87</td>\n",
       "      <td>15.0</td>\n",
       "      <td>Douro</td>\n",
       "      <td>NaN</td>\n",
       "      <td>NaN</td>\n",
       "      <td>Roger Voss</td>\n",
       "      <td>@vossroger</td>\n",
       "      <td>Quinta dos Avidagos 2011 Avidagos Red (Douro)</td>\n",
       "      <td>Portuguese Red</td>\n",
       "      <td>Quinta dos Avidagos</td>\n",
       "    </tr>\n",
       "    <tr>\n",
       "      <th>2</th>\n",
       "      <td>US</td>\n",
       "      <td>Tart and snappy, the flavors of lime flesh and...</td>\n",
       "      <td>NaN</td>\n",
       "      <td>87</td>\n",
       "      <td>14.0</td>\n",
       "      <td>Oregon</td>\n",
       "      <td>Willamette Valley</td>\n",
       "      <td>Willamette Valley</td>\n",
       "      <td>Paul Gregutt</td>\n",
       "      <td>@paulgwine</td>\n",
       "      <td>Rainstorm 2013 Pinot Gris (Willamette Valley)</td>\n",
       "      <td>Pinot Gris</td>\n",
       "      <td>Rainstorm</td>\n",
       "    </tr>\n",
       "    <tr>\n",
       "      <th>3</th>\n",
       "      <td>US</td>\n",
       "      <td>Pineapple rind, lemon pith and orange blossom ...</td>\n",
       "      <td>Reserve Late Harvest</td>\n",
       "      <td>87</td>\n",
       "      <td>13.0</td>\n",
       "      <td>Michigan</td>\n",
       "      <td>Lake Michigan Shore</td>\n",
       "      <td>NaN</td>\n",
       "      <td>Alexander Peartree</td>\n",
       "      <td>NaN</td>\n",
       "      <td>St. Julian 2013 Reserve Late Harvest Riesling ...</td>\n",
       "      <td>Riesling</td>\n",
       "      <td>St. Julian</td>\n",
       "    </tr>\n",
       "    <tr>\n",
       "      <th>4</th>\n",
       "      <td>US</td>\n",
       "      <td>Much like the regular bottling from 2012, this...</td>\n",
       "      <td>Vintner's Reserve Wild Child Block</td>\n",
       "      <td>87</td>\n",
       "      <td>65.0</td>\n",
       "      <td>Oregon</td>\n",
       "      <td>Willamette Valley</td>\n",
       "      <td>Willamette Valley</td>\n",
       "      <td>Paul Gregutt</td>\n",
       "      <td>@paulgwine</td>\n",
       "      <td>Sweet Cheeks 2012 Vintner's Reserve Wild Child...</td>\n",
       "      <td>Pinot Noir</td>\n",
       "      <td>Sweet Cheeks</td>\n",
       "    </tr>\n",
       "  </tbody>\n",
       "</table>\n",
       "</div>"
      ],
      "text/plain": [
       "    country                                        description  \\\n",
       "0     Italy  Aromas include tropical fruit, broom, brimston...   \n",
       "1  Portugal  This is ripe and fruity, a wine that is smooth...   \n",
       "2        US  Tart and snappy, the flavors of lime flesh and...   \n",
       "3        US  Pineapple rind, lemon pith and orange blossom ...   \n",
       "4        US  Much like the regular bottling from 2012, this...   \n",
       "\n",
       "                          designation  points  price           province  \\\n",
       "0                        Vulkà Bianco      87    NaN  Sicily & Sardinia   \n",
       "1                            Avidagos      87   15.0              Douro   \n",
       "2                                 NaN      87   14.0             Oregon   \n",
       "3                Reserve Late Harvest      87   13.0           Michigan   \n",
       "4  Vintner's Reserve Wild Child Block      87   65.0             Oregon   \n",
       "\n",
       "              region_1           region_2         taster_name  \\\n",
       "0                 Etna                NaN       Kerin O’Keefe   \n",
       "1                  NaN                NaN          Roger Voss   \n",
       "2    Willamette Valley  Willamette Valley        Paul Gregutt   \n",
       "3  Lake Michigan Shore                NaN  Alexander Peartree   \n",
       "4    Willamette Valley  Willamette Valley        Paul Gregutt   \n",
       "\n",
       "  taster_twitter_handle                                              title  \\\n",
       "0          @kerinokeefe                  Nicosia 2013 Vulkà Bianco  (Etna)   \n",
       "1            @vossroger      Quinta dos Avidagos 2011 Avidagos Red (Douro)   \n",
       "2           @paulgwine       Rainstorm 2013 Pinot Gris (Willamette Valley)   \n",
       "3                   NaN  St. Julian 2013 Reserve Late Harvest Riesling ...   \n",
       "4           @paulgwine   Sweet Cheeks 2012 Vintner's Reserve Wild Child...   \n",
       "\n",
       "          variety               winery  \n",
       "0     White Blend              Nicosia  \n",
       "1  Portuguese Red  Quinta dos Avidagos  \n",
       "2      Pinot Gris            Rainstorm  \n",
       "3        Riesling           St. Julian  \n",
       "4      Pinot Noir         Sweet Cheeks  "
      ]
     },
     "execution_count": 2,
     "metadata": {},
     "output_type": "execute_result"
    }
   ],
   "source": [
    "reviews.head()"
   ]
  },
  {
   "cell_type": "markdown",
   "id": "f012887e",
   "metadata": {
    "papermill": {
     "duration": 0.005425,
     "end_time": "2022-06-10T15:15:36.095216",
     "exception": false,
     "start_time": "2022-06-10T15:15:36.089791",
     "status": "completed"
    },
    "tags": []
   },
   "source": [
    "## 1.\n",
    "`region_1` and `region_2` are pretty uninformative names for locale columns in the dataset. Create a copy of `reviews` with these columns renamed to `region` and `locale`, respectively."
   ]
  },
  {
   "cell_type": "code",
   "execution_count": 3,
   "id": "a253c6fd",
   "metadata": {
    "execution": {
     "iopub.execute_input": "2022-06-10T15:15:36.108272Z",
     "iopub.status.busy": "2022-06-10T15:15:36.107513Z",
     "iopub.status.idle": "2022-06-10T15:15:36.134432Z",
     "shell.execute_reply": "2022-06-10T15:15:36.133591Z"
    },
    "papermill": {
     "duration": 0.036103,
     "end_time": "2022-06-10T15:15:36.136779",
     "exception": false,
     "start_time": "2022-06-10T15:15:36.100676",
     "status": "completed"
    },
    "tags": []
   },
   "outputs": [],
   "source": [
    "# Your code here\n",
    "renamed = reviews.rename(columns=dict(region_1='region',region_2='locale'))\n"
   ]
  },
  {
   "cell_type": "code",
   "execution_count": 4,
   "id": "a4e1745b",
   "metadata": {
    "execution": {
     "iopub.execute_input": "2022-06-10T15:15:36.150154Z",
     "iopub.status.busy": "2022-06-10T15:15:36.149509Z",
     "iopub.status.idle": "2022-06-10T15:15:36.157840Z",
     "shell.execute_reply": "2022-06-10T15:15:36.156646Z"
    },
    "papermill": {
     "duration": 0.017484,
     "end_time": "2022-06-10T15:15:36.159988",
     "exception": false,
     "start_time": "2022-06-10T15:15:36.142504",
     "status": "completed"
    },
    "tags": []
   },
   "outputs": [
    {
     "data": {
      "application/javascript": [
       "parent.postMessage({\"jupyterEvent\": \"custom.exercise_interaction\", \"data\": {\"interactionType\": 3, \"questionType\": 1, \"questionId\": \"1_RenameCols\", \"learnToolsVersion\": \"0.3.4\", \"valueTowardsCompletion\": 0.0, \"failureMessage\": \"\", \"exceptionClass\": \"\", \"trace\": \"\", \"outcomeType\": 4}}, \"*\")"
      ],
      "text/plain": [
       "<IPython.core.display.Javascript object>"
      ]
     },
     "metadata": {},
     "output_type": "display_data"
    },
    {
     "data": {
      "text/markdown": [
       "<span style=\"color:#33cc99\">Solution:</span> \n",
       "```python\n",
       "renamed = reviews.rename(columns=dict(region_1='region', region_2='locale'))\n",
       "```"
      ],
      "text/plain": [
       "Solution: \n",
       "```python\n",
       "renamed = reviews.rename(columns=dict(region_1='region', region_2='locale'))\n",
       "```"
      ]
     },
     "metadata": {},
     "output_type": "display_data"
    }
   ],
   "source": [
    "#q1.hint()\n",
    "q1.solution()"
   ]
  },
  {
   "cell_type": "markdown",
   "id": "2191946a",
   "metadata": {
    "papermill": {
     "duration": 0.005659,
     "end_time": "2022-06-10T15:15:36.171925",
     "exception": false,
     "start_time": "2022-06-10T15:15:36.166266",
     "status": "completed"
    },
    "tags": []
   },
   "source": [
    "## 2.\n",
    "Set the index name in the dataset to `wines`."
   ]
  },
  {
   "cell_type": "code",
   "execution_count": 5,
   "id": "4d7f7e6e",
   "metadata": {
    "execution": {
     "iopub.execute_input": "2022-06-10T15:15:36.186087Z",
     "iopub.status.busy": "2022-06-10T15:15:36.184966Z",
     "iopub.status.idle": "2022-06-10T15:15:36.213416Z",
     "shell.execute_reply": "2022-06-10T15:15:36.212655Z"
    },
    "papermill": {
     "duration": 0.037825,
     "end_time": "2022-06-10T15:15:36.215645",
     "exception": false,
     "start_time": "2022-06-10T15:15:36.177820",
     "status": "completed"
    },
    "tags": []
   },
   "outputs": [],
   "source": [
    "reindexed = reviews.rename_axis('wines', axis='rows')"
   ]
  },
  {
   "cell_type": "markdown",
   "id": "3f499c40",
   "metadata": {
    "papermill": {
     "duration": 0.005664,
     "end_time": "2022-06-10T15:15:36.227334",
     "exception": false,
     "start_time": "2022-06-10T15:15:36.221670",
     "status": "completed"
    },
    "tags": []
   },
   "source": [
    "## 3.\n",
    "The [Things on Reddit](https://www.kaggle.com/residentmario/things-on-reddit/data) dataset includes product links from a selection of top-ranked forums (\"subreddits\") on reddit.com. Run the cell below to load a dataframe of products mentioned on the */r/gaming* subreddit and another dataframe for products mentioned on the *r//movies* subreddit."
   ]
  },
  {
   "cell_type": "code",
   "execution_count": 6,
   "id": "e725b971",
   "metadata": {
    "execution": {
     "iopub.execute_input": "2022-06-10T15:15:36.241703Z",
     "iopub.status.busy": "2022-06-10T15:15:36.240675Z",
     "iopub.status.idle": "2022-06-10T15:15:36.256610Z",
     "shell.execute_reply": "2022-06-10T15:15:36.255555Z"
    },
    "papermill": {
     "duration": 0.025592,
     "end_time": "2022-06-10T15:15:36.258969",
     "exception": false,
     "start_time": "2022-06-10T15:15:36.233377",
     "status": "completed"
    },
    "tags": []
   },
   "outputs": [],
   "source": [
    "gaming_products = pd.read_csv(\"../input/things-on-reddit/top-things/top-things/reddits/g/gaming.csv\")\n",
    "gaming_products['subreddit'] = \"r/gaming\"\n",
    "movie_products = pd.read_csv(\"../input/things-on-reddit/top-things/top-things/reddits/m/movies.csv\")\n",
    "movie_products['subreddit'] = \"r/movies\""
   ]
  },
  {
   "cell_type": "markdown",
   "id": "633e8682",
   "metadata": {
    "papermill": {
     "duration": 0.005788,
     "end_time": "2022-06-10T15:15:36.271103",
     "exception": false,
     "start_time": "2022-06-10T15:15:36.265315",
     "status": "completed"
    },
    "tags": []
   },
   "source": [
    "Create a `DataFrame` of products mentioned on *either* subreddit."
   ]
  },
  {
   "cell_type": "code",
   "execution_count": 7,
   "id": "90cf6f21",
   "metadata": {
    "execution": {
     "iopub.execute_input": "2022-06-10T15:15:36.285123Z",
     "iopub.status.busy": "2022-06-10T15:15:36.284544Z",
     "iopub.status.idle": "2022-06-10T15:15:36.290740Z",
     "shell.execute_reply": "2022-06-10T15:15:36.290057Z"
    },
    "papermill": {
     "duration": 0.015986,
     "end_time": "2022-06-10T15:15:36.293189",
     "exception": false,
     "start_time": "2022-06-10T15:15:36.277203",
     "status": "completed"
    },
    "tags": []
   },
   "outputs": [],
   "source": [
    "combined_products = pd.concat([gaming_products, movie_products])"
   ]
  },
  {
   "cell_type": "markdown",
   "id": "680907a3",
   "metadata": {
    "papermill": {
     "duration": 0.005658,
     "end_time": "2022-06-10T15:15:36.304977",
     "exception": false,
     "start_time": "2022-06-10T15:15:36.299319",
     "status": "completed"
    },
    "tags": []
   },
   "source": [
    "## 4.\n",
    "The [Powerlifting Database](https://www.kaggle.com/open-powerlifting/powerlifting-database) dataset on Kaggle includes one CSV table for powerlifting meets and a separate one for powerlifting competitors. Run the cell below to load these datasets into dataframes:"
   ]
  },
  {
   "cell_type": "code",
   "execution_count": 8,
   "id": "c8898e64",
   "metadata": {
    "execution": {
     "iopub.execute_input": "2022-06-10T15:15:36.318948Z",
     "iopub.status.busy": "2022-06-10T15:15:36.318285Z",
     "iopub.status.idle": "2022-06-10T15:15:37.170627Z",
     "shell.execute_reply": "2022-06-10T15:15:37.169421Z"
    },
    "papermill": {
     "duration": 0.862157,
     "end_time": "2022-06-10T15:15:37.173074",
     "exception": false,
     "start_time": "2022-06-10T15:15:36.310917",
     "status": "completed"
    },
    "tags": []
   },
   "outputs": [],
   "source": [
    "powerlifting_meets = pd.read_csv(\"../input/powerlifting-database/meets.csv\")\n",
    "powerlifting_competitors = pd.read_csv(\"../input/powerlifting-database/openpowerlifting.csv\")"
   ]
  },
  {
   "cell_type": "markdown",
   "id": "ad92a386",
   "metadata": {
    "papermill": {
     "duration": 0.00587,
     "end_time": "2022-06-10T15:15:37.185657",
     "exception": false,
     "start_time": "2022-06-10T15:15:37.179787",
     "status": "completed"
    },
    "tags": []
   },
   "source": [
    "Both tables include references to a `MeetID`, a unique key for each meet (competition) included in the database. Using this, generate a dataset combining the two tables into one."
   ]
  },
  {
   "cell_type": "code",
   "execution_count": 9,
   "id": "546ba95c",
   "metadata": {
    "execution": {
     "iopub.execute_input": "2022-06-10T15:15:37.199857Z",
     "iopub.status.busy": "2022-06-10T15:15:37.199036Z",
     "iopub.status.idle": "2022-06-10T15:15:38.263256Z",
     "shell.execute_reply": "2022-06-10T15:15:38.262325Z"
    },
    "papermill": {
     "duration": 1.07363,
     "end_time": "2022-06-10T15:15:38.265412",
     "exception": false,
     "start_time": "2022-06-10T15:15:37.191782",
     "status": "completed"
    },
    "tags": []
   },
   "outputs": [
    {
     "data": {
      "application/javascript": [
       "parent.postMessage({\"jupyterEvent\": \"custom.exercise_interaction\", \"data\": {\"outcomeType\": 1, \"valueTowardsCompletion\": 0.25, \"interactionType\": 1, \"questionType\": 2, \"questionId\": \"4_JoinLifting\", \"learnToolsVersion\": \"0.3.4\", \"failureMessage\": \"\", \"exceptionClass\": \"\", \"trace\": \"\"}}, \"*\")"
      ],
      "text/plain": [
       "<IPython.core.display.Javascript object>"
      ]
     },
     "metadata": {},
     "output_type": "display_data"
    },
    {
     "data": {
      "text/markdown": [
       "<span style=\"color:#33cc33\">Correct</span>"
      ],
      "text/plain": [
       "Correct"
      ]
     },
     "metadata": {},
     "output_type": "display_data"
    }
   ],
   "source": [
    "powerlifting_combined = powerlifting_meets.set_index(\"MeetID\").join(powerlifting_competitors.set_index(\"MeetID\"))\n",
    "# Check your answer\n",
    "q4.check()"
   ]
  },
  {
   "cell_type": "markdown",
   "id": "e8c0dcd4",
   "metadata": {
    "papermill": {
     "duration": 0.00689,
     "end_time": "2022-06-10T15:15:38.278626",
     "exception": false,
     "start_time": "2022-06-10T15:15:38.271736",
     "status": "completed"
    },
    "tags": []
   },
   "source": [
    "# Congratulations!\n",
    "\n",
    "You've finished the Pandas micro-course.  Many data scientists feel efficiency with Pandas is the most useful and practical skill they have, because it allows you to progress quickly in any project you have.\n",
    "\n",
    "If you'd like to apply your new skills to examining geospatial data, you're encouraged to check out our **[Geospatial Analysis](https://www.kaggle.com/learn/geospatial-analysis)** micro-course.\n",
    "\n",
    "You can also take advantage of your Pandas skills by entering a **[Kaggle Competition](https://www.kaggle.com/competitions)** or by answering a question you find interesting using **[Kaggle Datasets](https://www.kaggle.com/datasets)**."
   ]
  },
  {
   "cell_type": "markdown",
   "id": "6e130779",
   "metadata": {
    "papermill": {
     "duration": 0.007066,
     "end_time": "2022-06-10T15:15:38.292562",
     "exception": false,
     "start_time": "2022-06-10T15:15:38.285496",
     "status": "completed"
    },
    "tags": []
   },
   "source": [
    "---\n",
    "\n",
    "\n",
    "\n",
    "\n",
    "*Have questions or comments? Visit the [course discussion forum](https://www.kaggle.com/learn/pandas/discussion) to chat with other learners.*"
   ]
  }
 ],
 "metadata": {
  "kernelspec": {
   "display_name": "Python 3",
   "language": "python",
   "name": "python3"
  },
  "language_info": {
   "codemirror_mode": {
    "name": "ipython",
    "version": 3
   },
   "file_extension": ".py",
   "mimetype": "text/x-python",
   "name": "python",
   "nbconvert_exporter": "python",
   "pygments_lexer": "ipython3",
   "version": "3.7.12"
  },
  "papermill": {
   "default_parameters": {},
   "duration": 17.402312,
   "end_time": "2022-06-10T15:15:39.024244",
   "environment_variables": {},
   "exception": null,
   "input_path": "__notebook__.ipynb",
   "output_path": "__notebook__.ipynb",
   "parameters": {},
   "start_time": "2022-06-10T15:15:21.621932",
   "version": "2.3.4"
  }
 },
 "nbformat": 4,
 "nbformat_minor": 5
}
