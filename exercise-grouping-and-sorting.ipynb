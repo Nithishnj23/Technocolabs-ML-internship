{
 "cells": [
  {
   "cell_type": "markdown",
   "id": "777e62e3",
   "metadata": {
    "papermill": {
     "duration": 0.008297,
     "end_time": "2022-06-10T14:00:58.253015",
     "exception": false,
     "start_time": "2022-06-10T14:00:58.244718",
     "status": "completed"
    },
    "tags": []
   },
   "source": [
    "**This notebook is an exercise in the [Pandas](https://www.kaggle.com/learn/pandas) course.  You can reference the tutorial at [this link](https://www.kaggle.com/residentmario/grouping-and-sorting).**\n",
    "\n",
    "---\n"
   ]
  },
  {
   "cell_type": "markdown",
   "id": "053055cd",
   "metadata": {
    "papermill": {
     "duration": 0.00475,
     "end_time": "2022-06-10T14:00:58.263041",
     "exception": false,
     "start_time": "2022-06-10T14:00:58.258291",
     "status": "completed"
    },
    "tags": []
   },
   "source": [
    "# Introduction\n",
    "\n",
    "In these exercises we'll apply groupwise analysis to our dataset.\n",
    "\n",
    "Run the code cell below to load the data before running the exercises."
   ]
  },
  {
   "cell_type": "code",
   "execution_count": 1,
   "id": "3d34c8b9",
   "metadata": {
    "execution": {
     "iopub.execute_input": "2022-06-10T14:00:58.275905Z",
     "iopub.status.busy": "2022-06-10T14:00:58.275036Z",
     "iopub.status.idle": "2022-06-10T14:01:01.240114Z",
     "shell.execute_reply": "2022-06-10T14:01:01.238670Z"
    },
    "papermill": {
     "duration": 2.974744,
     "end_time": "2022-06-10T14:01:01.242840",
     "exception": false,
     "start_time": "2022-06-10T14:00:58.268096",
     "status": "completed"
    },
    "tags": []
   },
   "outputs": [
    {
     "name": "stdout",
     "output_type": "stream",
     "text": [
      "Setup complete.\n"
     ]
    }
   ],
   "source": [
    "import pandas as pd\n",
    "\n",
    "reviews = pd.read_csv(\"../input/wine-reviews/winemag-data-130k-v2.csv\", index_col=0)\n",
    "#pd.set_option(\"display.max_rows\", 5)\n",
    "\n",
    "from learntools.core import binder; binder.bind(globals())\n",
    "from learntools.pandas.grouping_and_sorting import *\n",
    "print(\"Setup complete.\")"
   ]
  },
  {
   "cell_type": "markdown",
   "id": "31f8c71c",
   "metadata": {
    "papermill": {
     "duration": 0.005305,
     "end_time": "2022-06-10T14:01:01.253720",
     "exception": false,
     "start_time": "2022-06-10T14:01:01.248415",
     "status": "completed"
    },
    "tags": []
   },
   "source": [
    "# Exercises"
   ]
  },
  {
   "cell_type": "markdown",
   "id": "71f3d759",
   "metadata": {
    "papermill": {
     "duration": 0.005034,
     "end_time": "2022-06-10T14:01:01.264292",
     "exception": false,
     "start_time": "2022-06-10T14:01:01.259258",
     "status": "completed"
    },
    "tags": []
   },
   "source": [
    "## 1.\n",
    "Who are the most common wine reviewers in the dataset? Create a `Series` whose index is the `taster_twitter_handle` category from the dataset, and whose values count how many reviews each person wrote."
   ]
  },
  {
   "cell_type": "code",
   "execution_count": 2,
   "id": "35734fb2",
   "metadata": {
    "execution": {
     "iopub.execute_input": "2022-06-10T14:01:01.277163Z",
     "iopub.status.busy": "2022-06-10T14:01:01.276562Z",
     "iopub.status.idle": "2022-06-10T14:01:01.305265Z",
     "shell.execute_reply": "2022-06-10T14:01:01.304237Z"
    },
    "papermill": {
     "duration": 0.037934,
     "end_time": "2022-06-10T14:01:01.307732",
     "exception": false,
     "start_time": "2022-06-10T14:01:01.269798",
     "status": "completed"
    },
    "tags": []
   },
   "outputs": [
    {
     "data": {
      "application/javascript": [
       "parent.postMessage({\"jupyterEvent\": \"custom.exercise_interaction\", \"data\": {\"outcomeType\": 1, \"valueTowardsCompletion\": 0.16666666666666666, \"interactionType\": 1, \"questionType\": 1, \"questionId\": \"1_ReviewsWritten\", \"learnToolsVersion\": \"0.3.4\", \"failureMessage\": \"\", \"exceptionClass\": \"\", \"trace\": \"\"}}, \"*\")"
      ],
      "text/plain": [
       "<IPython.core.display.Javascript object>"
      ]
     },
     "metadata": {},
     "output_type": "display_data"
    },
    {
     "data": {
      "text/markdown": [
       "<span style=\"color:#33cc33\">Correct:</span> \n",
       "\n",
       "\n",
       "```python\n",
       "reviews_written = reviews.groupby('taster_twitter_handle').size()\n",
       "```\n",
       "or\n",
       "```python\n",
       "reviews_written = reviews.groupby('taster_twitter_handle').taster_twitter_handle.count()\n",
       "```\n"
      ],
      "text/plain": [
       "Correct: \n",
       "\n",
       "\n",
       "```python\n",
       "reviews_written = reviews.groupby('taster_twitter_handle').size()\n",
       "```\n",
       "or\n",
       "```python\n",
       "reviews_written = reviews.groupby('taster_twitter_handle').taster_twitter_handle.count()\n",
       "```"
      ]
     },
     "metadata": {},
     "output_type": "display_data"
    }
   ],
   "source": [
    "# Your code here\n",
    "reviews_written = reviews.groupby('taster_twitter_handle').size()\n",
    "\n",
    "# Check your answer\n",
    "q1.check()"
   ]
  },
  {
   "cell_type": "markdown",
   "id": "9bfe5e64",
   "metadata": {
    "papermill": {
     "duration": 0.005379,
     "end_time": "2022-06-10T14:01:01.319295",
     "exception": false,
     "start_time": "2022-06-10T14:01:01.313916",
     "status": "completed"
    },
    "tags": []
   },
   "source": [
    "## 2.\n",
    "What is the best wine I can buy for a given amount of money? Create a `Series` whose index is wine prices and whose values is the maximum number of points a wine costing that much was given in a review. Sort the values by price, ascending (so that `4.0` dollars is at the top and `3300.0` dollars is at the bottom)."
   ]
  },
  {
   "cell_type": "code",
   "execution_count": 3,
   "id": "d0e6bc34",
   "metadata": {
    "execution": {
     "iopub.execute_input": "2022-06-10T14:01:01.331514Z",
     "iopub.status.busy": "2022-06-10T14:01:01.331102Z",
     "iopub.status.idle": "2022-06-10T14:01:01.342918Z",
     "shell.execute_reply": "2022-06-10T14:01:01.342209Z"
    },
    "papermill": {
     "duration": 0.020114,
     "end_time": "2022-06-10T14:01:01.344696",
     "exception": false,
     "start_time": "2022-06-10T14:01:01.324582",
     "status": "completed"
    },
    "tags": []
   },
   "outputs": [
    {
     "data": {
      "application/javascript": [
       "parent.postMessage({\"jupyterEvent\": \"custom.exercise_interaction\", \"data\": {\"outcomeType\": 1, \"valueTowardsCompletion\": 0.16666666666666666, \"interactionType\": 1, \"questionType\": 1, \"questionId\": \"2_BestRatingPerPrice\", \"learnToolsVersion\": \"0.3.4\", \"failureMessage\": \"\", \"exceptionClass\": \"\", \"trace\": \"\"}}, \"*\")"
      ],
      "text/plain": [
       "<IPython.core.display.Javascript object>"
      ]
     },
     "metadata": {},
     "output_type": "display_data"
    },
    {
     "data": {
      "text/markdown": [
       "<span style=\"color:#33cc33\">Correct</span>"
      ],
      "text/plain": [
       "Correct"
      ]
     },
     "metadata": {},
     "output_type": "display_data"
    }
   ],
   "source": [
    "best_rating_per_price = reviews.groupby('price')['points'].max().sort_index()\n",
    "\n",
    "# Check your answer\n",
    "q2.check()"
   ]
  },
  {
   "cell_type": "markdown",
   "id": "85a9277e",
   "metadata": {
    "papermill": {
     "duration": 0.00544,
     "end_time": "2022-06-10T14:01:01.355838",
     "exception": false,
     "start_time": "2022-06-10T14:01:01.350398",
     "status": "completed"
    },
    "tags": []
   },
   "source": [
    "## 3.\n",
    "What are the minimum and maximum prices for each `variety` of wine? Create a `DataFrame` whose index is the `variety` category from the dataset and whose values are the `min` and `max` values thereof."
   ]
  },
  {
   "cell_type": "code",
   "execution_count": 4,
   "id": "a4cbf74b",
   "metadata": {
    "execution": {
     "iopub.execute_input": "2022-06-10T14:01:01.369056Z",
     "iopub.status.busy": "2022-06-10T14:01:01.368400Z",
     "iopub.status.idle": "2022-06-10T14:01:01.397298Z",
     "shell.execute_reply": "2022-06-10T14:01:01.396430Z"
    },
    "papermill": {
     "duration": 0.037872,
     "end_time": "2022-06-10T14:01:01.399272",
     "exception": false,
     "start_time": "2022-06-10T14:01:01.361400",
     "status": "completed"
    },
    "tags": []
   },
   "outputs": [
    {
     "data": {
      "application/javascript": [
       "parent.postMessage({\"jupyterEvent\": \"custom.exercise_interaction\", \"data\": {\"outcomeType\": 1, \"valueTowardsCompletion\": 0.16666666666666666, \"interactionType\": 1, \"questionType\": 1, \"questionId\": \"3_PriceExtremes\", \"learnToolsVersion\": \"0.3.4\", \"failureMessage\": \"\", \"exceptionClass\": \"\", \"trace\": \"\"}}, \"*\")"
      ],
      "text/plain": [
       "<IPython.core.display.Javascript object>"
      ]
     },
     "metadata": {},
     "output_type": "display_data"
    },
    {
     "data": {
      "text/markdown": [
       "<span style=\"color:#33cc33\">Correct</span>"
      ],
      "text/plain": [
       "Correct"
      ]
     },
     "metadata": {},
     "output_type": "display_data"
    }
   ],
   "source": [
    "price_extremes = reviews.groupby('variety').price.agg([min, max])\n",
    "\n",
    "# Check your answer\n",
    "q3.check()"
   ]
  },
  {
   "cell_type": "markdown",
   "id": "71a7fc38",
   "metadata": {
    "papermill": {
     "duration": 0.005828,
     "end_time": "2022-06-10T14:01:01.411322",
     "exception": false,
     "start_time": "2022-06-10T14:01:01.405494",
     "status": "completed"
    },
    "tags": []
   },
   "source": [
    "## 4.\n",
    "What are the most expensive wine varieties? Create a variable `sorted_varieties` containing a copy of the dataframe from the previous question where varieties are sorted in descending order based on minimum price, then on maximum price (to break ties)."
   ]
  },
  {
   "cell_type": "code",
   "execution_count": 5,
   "id": "913cc73e",
   "metadata": {
    "execution": {
     "iopub.execute_input": "2022-06-10T14:01:01.425296Z",
     "iopub.status.busy": "2022-06-10T14:01:01.424897Z",
     "iopub.status.idle": "2022-06-10T14:01:01.433978Z",
     "shell.execute_reply": "2022-06-10T14:01:01.433281Z"
    },
    "papermill": {
     "duration": 0.018332,
     "end_time": "2022-06-10T14:01:01.435750",
     "exception": false,
     "start_time": "2022-06-10T14:01:01.417418",
     "status": "completed"
    },
    "tags": []
   },
   "outputs": [
    {
     "data": {
      "application/javascript": [
       "parent.postMessage({\"jupyterEvent\": \"custom.exercise_interaction\", \"data\": {\"outcomeType\": 1, \"valueTowardsCompletion\": 0.16666666666666666, \"interactionType\": 1, \"questionType\": 1, \"questionId\": \"4_SortedVarieties\", \"learnToolsVersion\": \"0.3.4\", \"failureMessage\": \"\", \"exceptionClass\": \"\", \"trace\": \"\"}}, \"*\")"
      ],
      "text/plain": [
       "<IPython.core.display.Javascript object>"
      ]
     },
     "metadata": {},
     "output_type": "display_data"
    },
    {
     "data": {
      "text/markdown": [
       "<span style=\"color:#33cc33\">Correct</span>"
      ],
      "text/plain": [
       "Correct"
      ]
     },
     "metadata": {},
     "output_type": "display_data"
    }
   ],
   "source": [
    "sorted_varieties = price_extremes.sort_values(by=['min','max'],ascending=False)\n",
    "# Check your answer\n",
    "q4.check()"
   ]
  },
  {
   "cell_type": "markdown",
   "id": "6ccc55bb",
   "metadata": {
    "papermill": {
     "duration": 0.005979,
     "end_time": "2022-06-10T14:01:01.447977",
     "exception": false,
     "start_time": "2022-06-10T14:01:01.441998",
     "status": "completed"
    },
    "tags": []
   },
   "source": [
    "## 5.\n",
    "Create a `Series` whose index is reviewers and whose values is the average review score given out by that reviewer. Hint: you will need the `taster_name` and `points` columns."
   ]
  },
  {
   "cell_type": "code",
   "execution_count": 6,
   "id": "57cc267d",
   "metadata": {
    "execution": {
     "iopub.execute_input": "2022-06-10T14:01:01.462203Z",
     "iopub.status.busy": "2022-06-10T14:01:01.461669Z",
     "iopub.status.idle": "2022-06-10T14:01:01.483671Z",
     "shell.execute_reply": "2022-06-10T14:01:01.482909Z"
    },
    "papermill": {
     "duration": 0.031571,
     "end_time": "2022-06-10T14:01:01.485828",
     "exception": false,
     "start_time": "2022-06-10T14:01:01.454257",
     "status": "completed"
    },
    "tags": []
   },
   "outputs": [],
   "source": [
    "reviewer_mean_ratings = reviews.groupby('taster_name').points.mean()"
   ]
  },
  {
   "cell_type": "markdown",
   "id": "200ba935",
   "metadata": {
    "papermill": {
     "duration": 0.006156,
     "end_time": "2022-06-10T14:01:01.498301",
     "exception": false,
     "start_time": "2022-06-10T14:01:01.492145",
     "status": "completed"
    },
    "tags": []
   },
   "source": [
    "Are there significant differences in the average scores assigned by the various reviewers? Run the cell below to use the `describe()` method to see a summary of the range of values."
   ]
  },
  {
   "cell_type": "code",
   "execution_count": 7,
   "id": "124dc3de",
   "metadata": {
    "execution": {
     "iopub.execute_input": "2022-06-10T14:01:01.512605Z",
     "iopub.status.busy": "2022-06-10T14:01:01.511836Z",
     "iopub.status.idle": "2022-06-10T14:01:01.523048Z",
     "shell.execute_reply": "2022-06-10T14:01:01.522309Z"
    },
    "papermill": {
     "duration": 0.020765,
     "end_time": "2022-06-10T14:01:01.525247",
     "exception": false,
     "start_time": "2022-06-10T14:01:01.504482",
     "status": "completed"
    },
    "tags": []
   },
   "outputs": [
    {
     "data": {
      "text/plain": [
       "count    19.000000\n",
       "mean     88.233026\n",
       "std       1.243610\n",
       "min      85.855422\n",
       "25%      87.323501\n",
       "50%      88.536235\n",
       "75%      88.975256\n",
       "max      90.562551\n",
       "Name: points, dtype: float64"
      ]
     },
     "execution_count": 7,
     "metadata": {},
     "output_type": "execute_result"
    }
   ],
   "source": [
    "reviewer_mean_ratings.describe()"
   ]
  },
  {
   "cell_type": "markdown",
   "id": "1427f04d",
   "metadata": {
    "papermill": {
     "duration": 0.006427,
     "end_time": "2022-06-10T14:01:01.538426",
     "exception": false,
     "start_time": "2022-06-10T14:01:01.531999",
     "status": "completed"
    },
    "tags": []
   },
   "source": [
    "## 6.\n",
    "What combination of countries and varieties are most common? Create a `Series` whose index is a `MultiIndex`of `{country, variety}` pairs. For example, a pinot noir produced in the US should map to `{\"US\", \"Pinot Noir\"}`. Sort the values in the `Series` in descending order based on wine count."
   ]
  },
  {
   "cell_type": "code",
   "execution_count": 8,
   "id": "1c6f1e79",
   "metadata": {
    "execution": {
     "iopub.execute_input": "2022-06-10T14:01:01.553148Z",
     "iopub.status.busy": "2022-06-10T14:01:01.552627Z",
     "iopub.status.idle": "2022-06-10T14:01:01.597794Z",
     "shell.execute_reply": "2022-06-10T14:01:01.597118Z"
    },
    "papermill": {
     "duration": 0.054744,
     "end_time": "2022-06-10T14:01:01.599625",
     "exception": false,
     "start_time": "2022-06-10T14:01:01.544881",
     "status": "completed"
    },
    "tags": []
   },
   "outputs": [
    {
     "data": {
      "application/javascript": [
       "parent.postMessage({\"jupyterEvent\": \"custom.exercise_interaction\", \"data\": {\"outcomeType\": 1, \"valueTowardsCompletion\": 0.16666666666666666, \"interactionType\": 1, \"questionType\": 1, \"questionId\": \"6_GroupbyCountryVariety\", \"learnToolsVersion\": \"0.3.4\", \"failureMessage\": \"\", \"exceptionClass\": \"\", \"trace\": \"\"}}, \"*\")"
      ],
      "text/plain": [
       "<IPython.core.display.Javascript object>"
      ]
     },
     "metadata": {},
     "output_type": "display_data"
    },
    {
     "data": {
      "text/markdown": [
       "<span style=\"color:#33cc33\">Correct</span>"
      ],
      "text/plain": [
       "Correct"
      ]
     },
     "metadata": {},
     "output_type": "display_data"
    }
   ],
   "source": [
    "country_variety_counts = reviews.groupby(['country','variety']).size().sort_values(ascending=False)\n",
    "\n",
    "# Check your answer\n",
    "q6.check()"
   ]
  },
  {
   "cell_type": "markdown",
   "id": "29dab527",
   "metadata": {
    "papermill": {
     "duration": 0.006596,
     "end_time": "2022-06-10T14:01:01.612742",
     "exception": false,
     "start_time": "2022-06-10T14:01:01.606146",
     "status": "completed"
    },
    "tags": []
   },
   "source": [
    "# Keep going\n",
    "\n",
    "Move on to the [**data types and missing data**](https://www.kaggle.com/residentmario/data-types-and-missing-values)."
   ]
  },
  {
   "cell_type": "markdown",
   "id": "888f1e51",
   "metadata": {
    "papermill": {
     "duration": 0.0065,
     "end_time": "2022-06-10T14:01:01.626045",
     "exception": false,
     "start_time": "2022-06-10T14:01:01.619545",
     "status": "completed"
    },
    "tags": []
   },
   "source": [
    "---\n",
    "\n",
    "\n",
    "\n",
    "\n",
    "*Have questions or comments? Visit the [course discussion forum](https://www.kaggle.com/learn/pandas/discussion) to chat with other learners.*"
   ]
  }
 ],
 "metadata": {
  "kernelspec": {
   "display_name": "Python 3",
   "language": "python",
   "name": "python3"
  },
  "language_info": {
   "codemirror_mode": {
    "name": "ipython",
    "version": 3
   },
   "file_extension": ".py",
   "mimetype": "text/x-python",
   "name": "python",
   "nbconvert_exporter": "python",
   "pygments_lexer": "ipython3",
   "version": "3.7.12"
  },
  "papermill": {
   "default_parameters": {},
   "duration": 14.40068,
   "end_time": "2022-06-10T14:01:02.353499",
   "environment_variables": {},
   "exception": null,
   "input_path": "__notebook__.ipynb",
   "output_path": "__notebook__.ipynb",
   "parameters": {},
   "start_time": "2022-06-10T14:00:47.952819",
   "version": "2.3.4"
  }
 },
 "nbformat": 4,
 "nbformat_minor": 5
}
