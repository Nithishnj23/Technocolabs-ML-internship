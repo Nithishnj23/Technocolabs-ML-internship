{
 "cells": [
  {
   "cell_type": "markdown",
   "id": "338cb13f",
   "metadata": {
    "papermill": {
     "duration": 0.005032,
     "end_time": "2022-06-19T14:24:45.901323",
     "exception": false,
     "start_time": "2022-06-19T14:24:45.896291",
     "status": "completed"
    },
    "tags": []
   },
   "source": [
    "**This notebook is an exercise in the [Introduction to Machine Learning](https://www.kaggle.com/learn/intro-to-machine-learning) course.  You can reference the tutorial at [this link](https://www.kaggle.com/dansbecker/underfitting-and-overfitting).**\n",
    "\n",
    "---\n"
   ]
  },
  {
   "cell_type": "markdown",
   "id": "3ad14ca7",
   "metadata": {
    "papermill": {
     "duration": 0.003797,
     "end_time": "2022-06-19T14:24:45.912804",
     "exception": false,
     "start_time": "2022-06-19T14:24:45.909007",
     "status": "completed"
    },
    "tags": []
   },
   "source": [
    "## Recap\n",
    "You've built your first model, and now it's time to optimize the size of the tree to make better predictions. Run this cell to set up your coding environment where the previous step left off."
   ]
  },
  {
   "cell_type": "code",
   "execution_count": 1,
   "id": "4244133e",
   "metadata": {
    "execution": {
     "iopub.execute_input": "2022-06-19T14:24:45.923053Z",
     "iopub.status.busy": "2022-06-19T14:24:45.922334Z",
     "iopub.status.idle": "2022-06-19T14:24:47.494991Z",
     "shell.execute_reply": "2022-06-19T14:24:47.493669Z"
    },
    "papermill": {
     "duration": 1.584695,
     "end_time": "2022-06-19T14:24:47.501370",
     "exception": false,
     "start_time": "2022-06-19T14:24:45.916675",
     "status": "completed"
    },
    "tags": []
   },
   "outputs": [
    {
     "name": "stdout",
     "output_type": "stream",
     "text": [
      "Validation MAE: 29,653\n",
      "\n",
      "Setup complete\n"
     ]
    }
   ],
   "source": [
    "# Code you have previously used to load data\n",
    "import pandas as pd\n",
    "from sklearn.metrics import mean_absolute_error\n",
    "from sklearn.model_selection import train_test_split\n",
    "from sklearn.tree import DecisionTreeRegressor\n",
    "\n",
    "\n",
    "# Path of the file to read\n",
    "iowa_file_path = '../input/home-data-for-ml-course/train.csv'\n",
    "\n",
    "home_data = pd.read_csv(iowa_file_path)\n",
    "# Create target object and call it y\n",
    "y = home_data.SalePrice\n",
    "# Create X\n",
    "features = ['LotArea', 'YearBuilt', '1stFlrSF', '2ndFlrSF', 'FullBath', 'BedroomAbvGr', 'TotRmsAbvGrd']\n",
    "X = home_data[features]\n",
    "\n",
    "# Split into validation and training data\n",
    "train_X, val_X, train_y, val_y = train_test_split(X, y, random_state=1)\n",
    "\n",
    "# Specify Model\n",
    "iowa_model = DecisionTreeRegressor(random_state=1)\n",
    "# Fit Model\n",
    "iowa_model.fit(train_X, train_y)\n",
    "\n",
    "# Make validation predictions and calculate mean absolute error\n",
    "val_predictions = iowa_model.predict(val_X)\n",
    "val_mae = mean_absolute_error(val_predictions, val_y)\n",
    "print(\"Validation MAE: {:,.0f}\".format(val_mae))\n",
    "\n",
    "# Set up code checking\n",
    "from learntools.core import binder\n",
    "binder.bind(globals())\n",
    "from learntools.machine_learning.ex5 import *\n",
    "print(\"\\nSetup complete\")"
   ]
  },
  {
   "cell_type": "markdown",
   "id": "264689b0",
   "metadata": {
    "papermill": {
     "duration": 0.003787,
     "end_time": "2022-06-19T14:24:47.509947",
     "exception": false,
     "start_time": "2022-06-19T14:24:47.506160",
     "status": "completed"
    },
    "tags": []
   },
   "source": [
    "# Exercises\n",
    "You could write the function `get_mae` yourself. For now, we'll supply it. This is the same function you read about in the previous lesson. Just run the cell below."
   ]
  },
  {
   "cell_type": "code",
   "execution_count": 2,
   "id": "fdd1581a",
   "metadata": {
    "execution": {
     "iopub.execute_input": "2022-06-19T14:24:47.519971Z",
     "iopub.status.busy": "2022-06-19T14:24:47.519457Z",
     "iopub.status.idle": "2022-06-19T14:24:47.525810Z",
     "shell.execute_reply": "2022-06-19T14:24:47.524873Z"
    },
    "papermill": {
     "duration": 0.01386,
     "end_time": "2022-06-19T14:24:47.527821",
     "exception": false,
     "start_time": "2022-06-19T14:24:47.513961",
     "status": "completed"
    },
    "tags": []
   },
   "outputs": [],
   "source": [
    "def get_mae(max_leaf_nodes, train_X, val_X, train_y, val_y):\n",
    "    model = DecisionTreeRegressor(max_leaf_nodes=max_leaf_nodes, random_state=0)\n",
    "    model.fit(train_X, train_y)\n",
    "    preds_val = model.predict(val_X)\n",
    "    mae = mean_absolute_error(val_y, preds_val)\n",
    "    return(mae)"
   ]
  },
  {
   "cell_type": "markdown",
   "id": "c5bf0046",
   "metadata": {
    "papermill": {
     "duration": 0.003655,
     "end_time": "2022-06-19T14:24:47.535584",
     "exception": false,
     "start_time": "2022-06-19T14:24:47.531929",
     "status": "completed"
    },
    "tags": []
   },
   "source": [
    "## Step 1: Compare Different Tree Sizes\n",
    "Write a loop that tries the following values for *max_leaf_nodes* from a set of possible values.\n",
    "\n",
    "Call the *get_mae* function on each value of max_leaf_nodes. Store the output in some way that allows you to select the value of `max_leaf_nodes` that gives the most accurate model on your data."
   ]
  },
  {
   "cell_type": "code",
   "execution_count": 3,
   "id": "b1815831",
   "metadata": {
    "execution": {
     "iopub.execute_input": "2022-06-19T14:24:47.545332Z",
     "iopub.status.busy": "2022-06-19T14:24:47.544779Z",
     "iopub.status.idle": "2022-06-19T14:24:47.638187Z",
     "shell.execute_reply": "2022-06-19T14:24:47.637373Z"
    },
    "papermill": {
     "duration": 0.102078,
     "end_time": "2022-06-19T14:24:47.641439",
     "exception": false,
     "start_time": "2022-06-19T14:24:47.539361",
     "status": "completed"
    },
    "tags": []
   },
   "outputs": [
    {
     "name": "stdout",
     "output_type": "stream",
     "text": [
      "100\n"
     ]
    },
    {
     "data": {
      "application/javascript": [
       "parent.postMessage({\"jupyterEvent\": \"custom.exercise_interaction\", \"data\": {\"outcomeType\": 1, \"valueTowardsCompletion\": 0.5, \"interactionType\": 1, \"questionType\": 1, \"questionId\": \"1_BestTreeSize\", \"learnToolsVersion\": \"0.3.4\", \"failureMessage\": \"\", \"exceptionClass\": \"\", \"trace\": \"\"}}, \"*\")"
      ],
      "text/plain": [
       "<IPython.core.display.Javascript object>"
      ]
     },
     "metadata": {},
     "output_type": "display_data"
    },
    {
     "data": {
      "text/markdown": [
       "<span style=\"color:#33cc33\">Correct</span>"
      ],
      "text/plain": [
       "Correct"
      ]
     },
     "metadata": {},
     "output_type": "display_data"
    }
   ],
   "source": [
    "candidate_max_leaf_nodes = [5, 25, 50, 100, 250, 500]\n",
    "# Write loop to find the ideal tree size from candidate_max_leaf_nodes\n",
    "scores = {leaf_size: get_mae(leaf_size, train_X, val_X, train_y, val_y)for leaf_size in candidate_max_leaf_nodes}\n",
    "\n",
    "# Store the best value of max_leaf_nodes (it will be either 5, 25, 50, 100, 250 or 500)\n",
    "my_mae = {leaf_size: get_mae(leaf_size, train_X, val_X, train_y, val_y) for leaf_size in candidate_max_leaf_nodes}\n",
    "best_tree_size = min(scores, key=scores.get)\n",
    "print(best_tree_size)\n",
    "\n",
    "# Check your answer\n",
    "step_1.check()"
   ]
  },
  {
   "cell_type": "code",
   "execution_count": 4,
   "id": "7c020bd5",
   "metadata": {
    "execution": {
     "iopub.execute_input": "2022-06-19T14:24:47.652765Z",
     "iopub.status.busy": "2022-06-19T14:24:47.652222Z",
     "iopub.status.idle": "2022-06-19T14:24:47.697846Z",
     "shell.execute_reply": "2022-06-19T14:24:47.696647Z"
    },
    "papermill": {
     "duration": 0.054823,
     "end_time": "2022-06-19T14:24:47.700714",
     "exception": false,
     "start_time": "2022-06-19T14:24:47.645891",
     "status": "completed"
    },
    "tags": []
   },
   "outputs": [],
   "source": [
    "scores = {leaf_size: get_mae(leaf_size, train_X, val_X, train_y, val_y) for leaf_size in candidate_max_leaf_nodes}\n",
    "best_tree_size = min(scores, key=scores.get)"
   ]
  },
  {
   "cell_type": "markdown",
   "id": "489a9813",
   "metadata": {
    "papermill": {
     "duration": 0.004094,
     "end_time": "2022-06-19T14:24:47.709396",
     "exception": false,
     "start_time": "2022-06-19T14:24:47.705302",
     "status": "completed"
    },
    "tags": []
   },
   "source": [
    "## Step 2: Fit Model Using All Data\n",
    "You know the best tree size. If you were going to deploy this model in practice, you would make it even more accurate by using all of the data and keeping that tree size.  That is, you don't need to hold out the validation data now that you've made all your modeling decisions."
   ]
  },
  {
   "cell_type": "code",
   "execution_count": 5,
   "id": "11f25b21",
   "metadata": {
    "execution": {
     "iopub.execute_input": "2022-06-19T14:24:47.719895Z",
     "iopub.status.busy": "2022-06-19T14:24:47.719392Z",
     "iopub.status.idle": "2022-06-19T14:24:47.739503Z",
     "shell.execute_reply": "2022-06-19T14:24:47.737992Z"
    },
    "papermill": {
     "duration": 0.028555,
     "end_time": "2022-06-19T14:24:47.742183",
     "exception": false,
     "start_time": "2022-06-19T14:24:47.713628",
     "status": "completed"
    },
    "tags": []
   },
   "outputs": [
    {
     "data": {
      "text/plain": [
       "DecisionTreeRegressor(max_leaf_nodes=100, random_state=1)"
      ]
     },
     "execution_count": 5,
     "metadata": {},
     "output_type": "execute_result"
    }
   ],
   "source": [
    "# Fill in argument to make optimal size and uncomment\n",
    "final_model = DecisionTreeRegressor(max_leaf_nodes=best_tree_size, random_state=1)\n",
    "\n",
    "# fit the final model and uncomment the next two lines\n",
    "final_model.fit(X, y)"
   ]
  },
  {
   "cell_type": "markdown",
   "id": "17314bfc",
   "metadata": {
    "papermill": {
     "duration": 0.004189,
     "end_time": "2022-06-19T14:24:47.751370",
     "exception": false,
     "start_time": "2022-06-19T14:24:47.747181",
     "status": "completed"
    },
    "tags": []
   },
   "source": [
    "You've tuned this model and improved your results. But we are still using Decision Tree models, which are not very sophisticated by modern machine learning standards. In the next step you will learn to use Random Forests to improve your models even more.\n",
    "\n",
    "# Keep Going\n",
    "\n",
    "You are ready for **[Random Forests](https://www.kaggle.com/dansbecker/random-forests).**\n"
   ]
  },
  {
   "cell_type": "markdown",
   "id": "ae7c6600",
   "metadata": {
    "papermill": {
     "duration": 0.003887,
     "end_time": "2022-06-19T14:24:47.759509",
     "exception": false,
     "start_time": "2022-06-19T14:24:47.755622",
     "status": "completed"
    },
    "tags": []
   },
   "source": [
    "---\n",
    "\n",
    "\n",
    "\n",
    "\n",
    "*Have questions or comments? Visit the [course discussion forum](https://www.kaggle.com/learn/intro-to-machine-learning/discussion) to chat with other learners.*"
   ]
  }
 ],
 "metadata": {
  "kernelspec": {
   "display_name": "Python 3",
   "language": "python",
   "name": "python3"
  },
  "language_info": {
   "codemirror_mode": {
    "name": "ipython",
    "version": 3
   },
   "file_extension": ".py",
   "mimetype": "text/x-python",
   "name": "python",
   "nbconvert_exporter": "python",
   "pygments_lexer": "ipython3",
   "version": "3.7.12"
  },
  "papermill": {
   "default_parameters": {},
   "duration": 14.30238,
   "end_time": "2022-06-19T14:24:48.888603",
   "environment_variables": {},
   "exception": null,
   "input_path": "__notebook__.ipynb",
   "output_path": "__notebook__.ipynb",
   "parameters": {},
   "start_time": "2022-06-19T14:24:34.586223",
   "version": "2.3.4"
  }
 },
 "nbformat": 4,
 "nbformat_minor": 5
}
