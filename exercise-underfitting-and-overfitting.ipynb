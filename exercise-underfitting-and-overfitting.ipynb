{
 "cells": [
  {
   "cell_type": "markdown",
   "id": "d3bad7c6",
   "metadata": {
    "papermill": {
     "duration": 0.004292,
     "end_time": "2022-06-19T12:48:28.703005",
     "exception": false,
     "start_time": "2022-06-19T12:48:28.698713",
     "status": "completed"
    },
    "tags": []
   },
   "source": [
    "**This notebook is an exercise in the [Introduction to Machine Learning](https://www.kaggle.com/learn/intro-to-machine-learning) course.  You can reference the tutorial at [this link](https://www.kaggle.com/dansbecker/underfitting-and-overfitting).**\n",
    "\n",
    "---\n"
   ]
  },
  {
   "cell_type": "markdown",
   "id": "32d92572",
   "metadata": {
    "papermill": {
     "duration": 0.003435,
     "end_time": "2022-06-19T12:48:28.712698",
     "exception": false,
     "start_time": "2022-06-19T12:48:28.709263",
     "status": "completed"
    },
    "tags": []
   },
   "source": [
    "## Recap\n",
    "You've built your first model, and now it's time to optimize the size of the tree to make better predictions. Run this cell to set up your coding environment where the previous step left off."
   ]
  },
  {
   "cell_type": "code",
   "execution_count": 1,
   "id": "67d733bb",
   "metadata": {
    "execution": {
     "iopub.execute_input": "2022-06-19T12:48:28.721939Z",
     "iopub.status.busy": "2022-06-19T12:48:28.721265Z",
     "iopub.status.idle": "2022-06-19T12:48:30.087260Z",
     "shell.execute_reply": "2022-06-19T12:48:30.085925Z"
    },
    "papermill": {
     "duration": 1.373965,
     "end_time": "2022-06-19T12:48:30.090073",
     "exception": false,
     "start_time": "2022-06-19T12:48:28.716108",
     "status": "completed"
    },
    "tags": []
   },
   "outputs": [
    {
     "name": "stdout",
     "output_type": "stream",
     "text": [
      "Validation MAE: 29,653\n",
      "\n",
      "Setup complete\n"
     ]
    }
   ],
   "source": [
    "# Code you have previously used to load data\n",
    "import pandas as pd\n",
    "from sklearn.metrics import mean_absolute_error\n",
    "from sklearn.model_selection import train_test_split\n",
    "from sklearn.tree import DecisionTreeRegressor\n",
    "\n",
    "\n",
    "# Path of the file to read\n",
    "iowa_file_path = '../input/home-data-for-ml-course/train.csv'\n",
    "\n",
    "home_data = pd.read_csv(iowa_file_path)\n",
    "# Create target object and call it y\n",
    "y = home_data.SalePrice\n",
    "# Create X\n",
    "features = ['LotArea', 'YearBuilt', '1stFlrSF', '2ndFlrSF', 'FullBath', 'BedroomAbvGr', 'TotRmsAbvGrd']\n",
    "X = home_data[features]\n",
    "\n",
    "# Split into validation and training data\n",
    "train_X, val_X, train_y, val_y = train_test_split(X, y, random_state=1)\n",
    "\n",
    "# Specify Model\n",
    "iowa_model = DecisionTreeRegressor(random_state=1)\n",
    "# Fit Model\n",
    "iowa_model.fit(train_X, train_y)\n",
    "\n",
    "# Make validation predictions and calculate mean absolute error\n",
    "val_predictions = iowa_model.predict(val_X)\n",
    "val_mae = mean_absolute_error(val_predictions, val_y)\n",
    "print(\"Validation MAE: {:,.0f}\".format(val_mae))\n",
    "\n",
    "# Set up code checking\n",
    "from learntools.core import binder\n",
    "binder.bind(globals())\n",
    "from learntools.machine_learning.ex5 import *\n",
    "print(\"\\nSetup complete\")"
   ]
  },
  {
   "cell_type": "markdown",
   "id": "03091e32",
   "metadata": {
    "papermill": {
     "duration": 0.003331,
     "end_time": "2022-06-19T12:48:30.097095",
     "exception": false,
     "start_time": "2022-06-19T12:48:30.093764",
     "status": "completed"
    },
    "tags": []
   },
   "source": [
    "# Exercises\n",
    "You could write the function `get_mae` yourself. For now, we'll supply it. This is the same function you read about in the previous lesson. Just run the cell below."
   ]
  },
  {
   "cell_type": "code",
   "execution_count": 2,
   "id": "0b1eb6db",
   "metadata": {
    "execution": {
     "iopub.execute_input": "2022-06-19T12:48:30.105828Z",
     "iopub.status.busy": "2022-06-19T12:48:30.105446Z",
     "iopub.status.idle": "2022-06-19T12:48:30.111020Z",
     "shell.execute_reply": "2022-06-19T12:48:30.110057Z"
    },
    "papermill": {
     "duration": 0.012317,
     "end_time": "2022-06-19T12:48:30.112949",
     "exception": false,
     "start_time": "2022-06-19T12:48:30.100632",
     "status": "completed"
    },
    "tags": []
   },
   "outputs": [],
   "source": [
    "def get_mae(max_leaf_nodes, train_X, val_X, train_y, val_y):\n",
    "    model = DecisionTreeRegressor(max_leaf_nodes=max_leaf_nodes, random_state=0)\n",
    "    model.fit(train_X, train_y)\n",
    "    preds_val = model.predict(val_X)\n",
    "    mae = mean_absolute_error(val_y, preds_val)\n",
    "    return(mae)"
   ]
  },
  {
   "cell_type": "markdown",
   "id": "37f4e0d0",
   "metadata": {
    "papermill": {
     "duration": 0.003266,
     "end_time": "2022-06-19T12:48:30.119750",
     "exception": false,
     "start_time": "2022-06-19T12:48:30.116484",
     "status": "completed"
    },
    "tags": []
   },
   "source": [
    "## Step 1: Compare Different Tree Sizes\n",
    "Write a loop that tries the following values for *max_leaf_nodes* from a set of possible values.\n",
    "\n",
    "Call the *get_mae* function on each value of max_leaf_nodes. Store the output in some way that allows you to select the value of `max_leaf_nodes` that gives the most accurate model on your data."
   ]
  },
  {
   "cell_type": "code",
   "execution_count": 3,
   "id": "1a15ea63",
   "metadata": {
    "execution": {
     "iopub.execute_input": "2022-06-19T12:48:30.128742Z",
     "iopub.status.busy": "2022-06-19T12:48:30.128017Z",
     "iopub.status.idle": "2022-06-19T12:48:30.179190Z",
     "shell.execute_reply": "2022-06-19T12:48:30.178179Z"
    },
    "papermill": {
     "duration": 0.058036,
     "end_time": "2022-06-19T12:48:30.181270",
     "exception": false,
     "start_time": "2022-06-19T12:48:30.123234",
     "status": "completed"
    },
    "tags": []
   },
   "outputs": [
    {
     "data": {
      "application/javascript": [
       "parent.postMessage({\"jupyterEvent\": \"custom.exercise_interaction\", \"data\": {\"outcomeType\": 1, \"valueTowardsCompletion\": 0.5, \"interactionType\": 1, \"questionType\": 1, \"questionId\": \"1_BestTreeSize\", \"learnToolsVersion\": \"0.3.4\", \"failureMessage\": \"\", \"exceptionClass\": \"\", \"trace\": \"\"}}, \"*\")"
      ],
      "text/plain": [
       "<IPython.core.display.Javascript object>"
      ]
     },
     "metadata": {},
     "output_type": "display_data"
    },
    {
     "data": {
      "text/markdown": [
       "<span style=\"color:#33cc33\">Correct</span>"
      ],
      "text/plain": [
       "Correct"
      ]
     },
     "metadata": {},
     "output_type": "display_data"
    }
   ],
   "source": [
    "candidate_max_leaf_nodes = [5, 25, 50, 100, 250, 500]\n",
    "# Write loop to find the ideal tree size from candidate_max_leaf_nodes\n",
    "scores = {leaf_size: get_mae(leaf_size, train_X, val_X, train_y, val_y)for leaf_size in candidate_max_leaf_nodes}\n",
    "\n",
    "# Store the best value of max_leaf_nodes (it will be either 5, 25, 50, 100, 250 or 500)\n",
    "best_tree_size = min(scores, key=scores.get)\n",
    "\n",
    "# Check your answer\n",
    "step_1.check()"
   ]
  },
  {
   "cell_type": "markdown",
   "id": "8dc3a94d",
   "metadata": {
    "papermill": {
     "duration": 0.003489,
     "end_time": "2022-06-19T12:48:30.188487",
     "exception": false,
     "start_time": "2022-06-19T12:48:30.184998",
     "status": "completed"
    },
    "tags": []
   },
   "source": [
    "## Step 2: Fit Model Using All Data\n",
    "You know the best tree size. If you were going to deploy this model in practice, you would make it even more accurate by using all of the data and keeping that tree size.  That is, you don't need to hold out the validation data now that you've made all your modeling decisions."
   ]
  },
  {
   "cell_type": "code",
   "execution_count": 4,
   "id": "ea4b24e6",
   "metadata": {
    "execution": {
     "iopub.execute_input": "2022-06-19T12:48:30.198138Z",
     "iopub.status.busy": "2022-06-19T12:48:30.197100Z",
     "iopub.status.idle": "2022-06-19T12:48:30.213206Z",
     "shell.execute_reply": "2022-06-19T12:48:30.212076Z"
    },
    "papermill": {
     "duration": 0.023355,
     "end_time": "2022-06-19T12:48:30.215597",
     "exception": false,
     "start_time": "2022-06-19T12:48:30.192242",
     "status": "completed"
    },
    "tags": []
   },
   "outputs": [
    {
     "data": {
      "text/plain": [
       "DecisionTreeRegressor(max_leaf_nodes=100, random_state=1)"
      ]
     },
     "execution_count": 4,
     "metadata": {},
     "output_type": "execute_result"
    }
   ],
   "source": [
    "# Fill in argument to make optimal size and uncomment\n",
    "final_model = DecisionTreeRegressor(max_leaf_nodes=best_tree_size, random_state=1)\n",
    "\n",
    "# fit the final model and uncomment the next two lines\n",
    "final_model.fit(X, y)"
   ]
  },
  {
   "cell_type": "markdown",
   "id": "8da76355",
   "metadata": {
    "papermill": {
     "duration": 0.003728,
     "end_time": "2022-06-19T12:48:30.223373",
     "exception": false,
     "start_time": "2022-06-19T12:48:30.219645",
     "status": "completed"
    },
    "tags": []
   },
   "source": [
    "You've tuned this model and improved your results. But we are still using Decision Tree models, which are not very sophisticated by modern machine learning standards. In the next step you will learn to use Random Forests to improve your models even more.\n",
    "\n",
    "# Keep Going\n",
    "\n",
    "You are ready for **[Random Forests](https://www.kaggle.com/dansbecker/random-forests).**\n"
   ]
  },
  {
   "cell_type": "markdown",
   "id": "42b5cb87",
   "metadata": {
    "papermill": {
     "duration": 0.003587,
     "end_time": "2022-06-19T12:48:30.230812",
     "exception": false,
     "start_time": "2022-06-19T12:48:30.227225",
     "status": "completed"
    },
    "tags": []
   },
   "source": [
    "---\n",
    "\n",
    "\n",
    "\n",
    "\n",
    "*Have questions or comments? Visit the [course discussion forum](https://www.kaggle.com/learn/intro-to-machine-learning/discussion) to chat with other learners.*"
   ]
  }
 ],
 "metadata": {
  "kernelspec": {
   "display_name": "Python 3",
   "language": "python",
   "name": "python3"
  },
  "language_info": {
   "codemirror_mode": {
    "name": "ipython",
    "version": 3
   },
   "file_extension": ".py",
   "mimetype": "text/x-python",
   "name": "python",
   "nbconvert_exporter": "python",
   "pygments_lexer": "ipython3",
   "version": "3.7.12"
  },
  "papermill": {
   "default_parameters": {},
   "duration": 14.716945,
   "end_time": "2022-06-19T12:48:33.071532",
   "environment_variables": {},
   "exception": null,
   "input_path": "__notebook__.ipynb",
   "output_path": "__notebook__.ipynb",
   "parameters": {},
   "start_time": "2022-06-19T12:48:18.354587",
   "version": "2.3.4"
  }
 },
 "nbformat": 4,
 "nbformat_minor": 5
}
